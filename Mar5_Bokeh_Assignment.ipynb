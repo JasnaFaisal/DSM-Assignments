{
 "cells": [
  {
   "cell_type": "markdown",
   "id": "7720b337",
   "metadata": {},
   "source": [
    "#### Q1. How can you create a Bokeh plot using Python code?"
   ]
  },
  {
   "cell_type": "markdown",
   "id": "4068c9b8",
   "metadata": {},
   "source": [
    "Bokeh is a Python library for creating interactive and dynamic visualizations in modern web browsers."
   ]
  },
  {
   "cell_type": "code",
   "execution_count": 2,
   "id": "739bda5a",
   "metadata": {},
   "outputs": [],
   "source": [
    "# Importing the necessary libraries and modules\n",
    "from bokeh.plotting import figure, output_file, show\n",
    "\n",
    "# Creating the data for the plot\n",
    "x = [1, 2, 3, 4, 5]\n",
    "y = [6, 7, 2, 4, 5]\n",
    "\n",
    "# Outputting the plot to a web browser\n",
    "output_file(\"line.html\")\n",
    "\n",
    "# Creating a new plot with a title and axis labels\n",
    "p = figure(title=\"Simple Line Plot\", x_axis_label='x', y_axis_label='y')\n",
    "\n",
    "# Adding a line to the plot with the data and customizing the line's appearance\n",
    "p.line(x, y, line_width=2)\n",
    "\n",
    "# Showing the plot in a new browser tab\n",
    "show(p)\n"
   ]
  },
  {
   "cell_type": "markdown",
   "id": "3fab6dc7",
   "metadata": {},
   "source": [
    "In this example, we first import the necessary libraries and modules, including the figure function from the bokeh.plotting module, which we will use to create our plot. We then define the data that we want to plot as two lists, x and y.\n",
    "\n",
    "Next, we specify that we want to output the plot to a web browser using the output_file function, which takes a filename as an argument. We then create a new plot using the figure function, giving it a title and labeling the x and y axes.\n",
    "\n",
    "Finally, we add a line to the plot using the line method of the figure object, passing in the data as the x and y arguments. We also customize the appearance of the line by setting its width to 2. Finally, we show the plot in a new browser tab using the show function.\n",
    "\n",
    "This is just a simple example of what you can do with Bokeh. The library offers a wide range of tools for creating more complex and interactive visualizations, including scatter plots, bar charts, heatmaps, and more. You can find more examples and documentation on the Bokeh website."
   ]
  },
  {
   "cell_type": "markdown",
   "id": "2a34fe4f",
   "metadata": {},
   "source": [
    "#### Q2. What are glyphs in Bokeh, and how can you add them to a Bokeh plot? Explain with an example."
   ]
  },
  {
   "cell_type": "markdown",
   "id": "0583f3f9",
   "metadata": {},
   "source": [
    "In Bokeh, glyphs are visual shapes such as circles, squares, and lines that can be used to represent data points in a plot. Each glyph corresponds to a set of data that is mapped to the glyph's visual properties such as position, size, color, and shape.\n",
    "\n",
    "To add glyphs to a Bokeh plot, you first create a new glyph renderer using the glyph method of the figure object, specifying the type of glyph you want to use (e.g. Circle, Square, Line, etc.) and any associated properties such as size, color, and alpha (transparency). You then pass in the data for the glyph, which should be in the form of one or more NumPy arrays or Pandas data frames, along with any additional mapping of the data to glyph properties."
   ]
  },
  {
   "cell_type": "code",
   "execution_count": 3,
   "id": "26402b88",
   "metadata": {},
   "outputs": [],
   "source": [
    "# Importing the necessary libraries and modules\n",
    "from bokeh.plotting import figure, output_file, show\n",
    "import numpy as np\n",
    "\n",
    "# Creating the data for the plot\n",
    "x = np.array([1, 2, 3, 4, 5])\n",
    "y = np.array([6, 7, 2, 4, 5])\n",
    "\n",
    "# Outputting the plot to a web browser\n",
    "output_file(\"glyphs.html\")\n",
    "\n",
    "# Creating a new plot with a title and axis labels\n",
    "p = figure(title=\"Glyphs Example\", x_axis_label='x', y_axis_label='y')\n",
    "\n",
    "# Adding circles as glyphs to the plot with the data and customizing their appearance\n",
    "p.circle(x, y, size=10, color=\"navy\", alpha=0.5)\n",
    "\n",
    "# Showing the plot in a new browser tab\n",
    "show(p)\n"
   ]
  },
  {
   "cell_type": "markdown",
   "id": "5fd9d384",
   "metadata": {},
   "source": [
    "In this example, we first import the necessary libraries and modules, including the figure function from the bokeh.plotting module, which we will use to create our plot. We then define the data that we want to plot as two NumPy arrays, x and y.\n",
    "\n",
    "Next, we specify that we want to output the plot to a web browser using the output_file function, which takes a filename as an argument. We then create a new plot using the figure function, giving it a title and labeling the x and y axes.\n",
    "\n",
    "Finally, we add circles as glyphs to the plot using the circle method of the figure object, passing in the data as the x and y arguments. We also customize the appearance of the circles by setting their size, color, and alpha (transparency). Here, we set the circle size to 10, the color to \"navy\", and the alpha to 0.5, which makes the circles partially transparent. Finally, we show the plot in a new browser tab using the show function.\n",
    "\n",
    "You can add other types of glyphs in a similar way, by using the appropriate method of the figure object, such as square, line, triangle, or rect. You can also use multiple glyph renderers on a single plot to display different types of data or to overlay different visualizations."
   ]
  },
  {
   "cell_type": "markdown",
   "id": "1e6049ac",
   "metadata": {},
   "source": [
    "#### Q3. How can you customize the appearance of a Bokeh plot, including the axes, title, and legend?"
   ]
  },
  {
   "cell_type": "markdown",
   "id": "d1f76ab9",
   "metadata": {},
   "source": [
    "Bokeh allows you to customize the appearance of your plots in many ways, including changing the font style and size, adjusting the color and thickness of lines and borders, and adding annotations such as titles, legends, and axis labels. "
   ]
  },
  {
   "cell_type": "code",
   "execution_count": 4,
   "id": "a95f5cec",
   "metadata": {},
   "outputs": [
    {
     "name": "stderr",
     "output_type": "stream",
     "text": [
      "C:\\Users\\ollak\\anaconda3\\lib\\site-packages\\bokeh\\models\\plots.py:815: UserWarning: \n",
      "You are attempting to set `plot.legend.label_text_font_size` on a plot that has zero legends added, this will have no effect.\n",
      "\n",
      "Before legend properties can be set, you must add a Legend explicitly, or call a glyph method with a legend parameter set.\n",
      "\n",
      "  warnings.warn(_LEGEND_EMPTY_WARNING % attr)\n",
      "C:\\Users\\ollak\\anaconda3\\lib\\site-packages\\bokeh\\models\\plots.py:815: UserWarning: \n",
      "You are attempting to set `plot.legend.location` on a plot that has zero legends added, this will have no effect.\n",
      "\n",
      "Before legend properties can be set, you must add a Legend explicitly, or call a glyph method with a legend parameter set.\n",
      "\n",
      "  warnings.warn(_LEGEND_EMPTY_WARNING % attr)\n",
      "C:\\Users\\ollak\\anaconda3\\lib\\site-packages\\bokeh\\models\\plots.py:815: UserWarning: \n",
      "You are attempting to set `plot.legend.title` on a plot that has zero legends added, this will have no effect.\n",
      "\n",
      "Before legend properties can be set, you must add a Legend explicitly, or call a glyph method with a legend parameter set.\n",
      "\n",
      "  warnings.warn(_LEGEND_EMPTY_WARNING % attr)\n",
      "C:\\Users\\ollak\\anaconda3\\lib\\site-packages\\bokeh\\models\\plots.py:815: UserWarning: \n",
      "You are attempting to set `plot.legend.title_text_font_size` on a plot that has zero legends added, this will have no effect.\n",
      "\n",
      "Before legend properties can be set, you must add a Legend explicitly, or call a glyph method with a legend parameter set.\n",
      "\n",
      "  warnings.warn(_LEGEND_EMPTY_WARNING % attr)\n"
     ]
    }
   ],
   "source": [
    "#Import the necessary Bokeh modules\n",
    "from bokeh.plotting import figure\n",
    "from bokeh.io import output_notebook, show\n",
    "\n",
    "#Create a Bokeh figure object using the figure() function\n",
    "p = figure()\n",
    "\n",
    "#Add data to the figure object. Here, we'll add a scatter plot with random x and y values\n",
    "import numpy as np\n",
    "\n",
    "x = np.random.rand(10)\n",
    "y = np.random.rand(10)\n",
    "\n",
    "p.circle(x, y)\n",
    "\n",
    "#Customize the appearance of the plot. Here are some examples:\n",
    "#Customize the title\n",
    "p.title.text = \"My Plot\"\n",
    "p.title.align = \"center\"\n",
    "p.title.text_font_size = \"25px\"\n",
    "\n",
    "#Customize the x-axis and y axis:\n",
    "p.xaxis.axis_label = \"X Axis Label\"\n",
    "p.xaxis.axis_label_text_font_size = \"20px\"\n",
    "p.xaxis.major_label_text_font_size = \"16px\"\n",
    "p.yaxis.axis_label = \"Y Axis Label\"\n",
    "p.yaxis.axis_label_text_font_size = \"20px\"\n",
    "p.yaxis.major_label_text_font_size = \"16px\"\n",
    "\n",
    "#Customize the legend\n",
    "p.legend.label_text_font_size = \"14px\"\n",
    "p.legend.location = \"top_left\"\n",
    "p.legend.title = \"Legend Title\"\n",
    "p.legend.title_text_font_size = \"16px\"\n",
    "\n",
    "#Finally, show the plot\n",
    "show(p)"
   ]
  },
  {
   "cell_type": "markdown",
   "id": "4ca8f6a4",
   "metadata": {},
   "source": [
    "#### Q4. What is a Bokeh server, and how can you use it to create interactive plots that can be updated in real time?"
   ]
  },
  {
   "cell_type": "markdown",
   "id": "aae29f33",
   "metadata": {},
   "source": [
    "Bokeh server is a Python library that enables the creation of interactive web-based visualizations that can be updated in real time. With Bokeh server, data scientists and developers can create dynamic dashboards, real-time data monitoring applications, and other interactive data visualizations that can be served directly from a Python server.\n",
    "\n",
    "To create an interactive plot with Bokeh server, you need to define a Bokeh server application. The application can be created using the Bokeh curdoc() function, which returns a document that can be used to add Bokeh objects such as plots, widgets, and layouts. You can define the behavior of the objects in the document using Python code, which will be executed on the server whenever the user interacts with the visualization.\n",
    "\n",
    "Here are the basic steps to create a Bokeh server application:\n",
    "\n",
    "Import the required libraries, including bokeh.plotting, bokeh.layouts, and bokeh.server.\n",
    "\n",
    "Define a Bokeh plot or layout, and add any required widgets or interactions.\n",
    "\n",
    "Define a Python function that will update the plot or layout based on user input.\n",
    "\n",
    "Use the bokeh.server.start function to start the Bokeh server and run the application.\n",
    "\n",
    "When the Bokeh server is running, the application can be accessed through a web browser by visiting the server URL. Any changes made to the visualization by the user will be sent back to the server and processed in real time, allowing for dynamic updates and interactivity.\n",
    "\n",
    "Overall, Bokeh server provides a powerful tool for creating interactive data visualizations that can be easily deployed and shared with others. By combining the power of Python with the flexibility of web-based visualization, Bokeh server makes it possible to create dynamic, real-time applications that can help users explore and understand complex data sets."
   ]
  },
  {
   "cell_type": "markdown",
   "id": "2ad2c8ed",
   "metadata": {},
   "source": [
    "#### Q5. How can you embed a Bokeh plot into a web page or dashboard using Flask or Django?"
   ]
  },
  {
   "cell_type": "markdown",
   "id": "e4b1488d",
   "metadata": {},
   "source": [
    "Bokeh provides a simple and easy-to-use interface for embedding Bokeh plots into web applications using popular web frameworks such as Flask or Django. Here is how you can embed a Bokeh plot into a web page or dashboard using Flask or Django:\n",
    "\n",
    "#### Flask\n",
    "1.Import the required libraries, including flask, bokeh.plotting, and bokeh.embed.\n",
    "\n",
    "    from flask import Flask, render_template\n",
    "    from bokeh.plotting import figure\n",
    "    from bokeh.embed import components\n",
    "2.Create a Bokeh plot using the figure() function.\n",
    "\n",
    "    plot = figure(...)\n",
    "3.Use the components() function to generate HTML and JavaScript code for the Bokeh plot.\n",
    "\n",
    "    script, div = components(plot)\n",
    "4.Pass the HTML and JavaScript code to the Flask template using the render_template() function.\n",
    "\n",
    "    return render_template('index.html', plot_script=script, plot_div=div)\n",
    "5.Use the {{ plot_script|safe }} and {{ plot_div|safe }} variables in the Flask template to embed the Bokeh plot into the web page.\n",
    "\n",
    "    <div class=\"bokeh-plot\">\n",
    "        {{ plot_div|safe }}\n",
    "        {{ plot_script|safe }}\n",
    "    </div>\n"
   ]
  },
  {
   "cell_type": "markdown",
   "id": "b4d6cf75",
   "metadata": {},
   "source": [
    "#### Django\n",
    "1.Import the required libraries, including django.shortcuts, bokeh.plotting, and bokeh.embed.\n",
    "\n",
    "    from django.shortcuts import render\n",
    "    from bokeh.plotting import figure\n",
    "    from bokeh.embed import components\n",
    "2.Create a Bokeh plot using the figure() function.\n",
    "\n",
    "    plot = figure(...)\n",
    "3.Use the components() function to generate HTML and JavaScript code for the Bokeh plot.\n",
    "\n",
    "    script, div = components(plot)\n",
    "4.Pass the HTML and JavaScript code to the Django template using the render() function.\n",
    "\n",
    "    return render(request, 'index.html', {'plot_script': script, 'plot_div': div})\n",
    "5.Use the {{ plot_script|safe }} and {{ plot_div|safe }} variables in the Django template to embed the Bokeh plot into the web page.\n",
    "\n",
    "    <div class=\"bokeh-plot\">\n",
    "        {{ plot_div|safe }}\n",
    "        {{ plot_script|safe }}\n",
    "    </div>\n",
    "In both Flask and Django, the components() function generates HTML and JavaScript code that creates a div container and a script tag that references a JavaScript file containing the Bokeh plot data. The {{ plot_script|safe }} and {{ plot_div|safe }} variables are used to embed this HTML and JavaScript code into the web page. This allows the Bokeh plot to be displayed and updated dynamically in response to user interactions."
   ]
  },
  {
   "cell_type": "code",
   "execution_count": null,
   "id": "bb965afd",
   "metadata": {},
   "outputs": [],
   "source": []
  }
 ],
 "metadata": {
  "kernelspec": {
   "display_name": "Python 3 (ipykernel)",
   "language": "python",
   "name": "python3"
  },
  "language_info": {
   "codemirror_mode": {
    "name": "ipython",
    "version": 3
   },
   "file_extension": ".py",
   "mimetype": "text/x-python",
   "name": "python",
   "nbconvert_exporter": "python",
   "pygments_lexer": "ipython3",
   "version": "3.9.12"
  }
 },
 "nbformat": 4,
 "nbformat_minor": 5
}
