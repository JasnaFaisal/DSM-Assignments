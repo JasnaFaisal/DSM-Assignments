{
 "cells": [
  {
   "cell_type": "markdown",
   "id": "2efb58d4",
   "metadata": {},
   "source": [
    "#### Q1: What are the Probability Mass Function (PMF) and Probability Density Function (PDF)? Explain with an example.\n"
   ]
  },
  {
   "cell_type": "markdown",
   "id": "44a859a9",
   "metadata": {},
   "source": [
    "The Probability Mass Function (PMF) and Probability Density Function (PDF) are two important concepts in probability theory and statistics. They are used to describe the probability distribution of a random variable.\n",
    "\n",
    "A Probability Mass Function (PMF) is a function that gives the probability that a discrete random variable takes on a specific value. In other words, it provides the probability that a certain event will occur. The PMF is defined for discrete random variables, which take on a countable number of values.\n",
    "\n",
    "For example, let's say we have a six-sided die. The PMF for this die would be a function that assigns probabilities to each possible outcome, 1, 2, 3, 4, 5, or 6. Since the die is fair, each outcome has an equal probability of occurring, so the PMF would look like this:\n",
    "\n",
    "PMF(x) = 1/6 for x = 1, 2, 3, 4, 5, 6\n",
    "\n",
    "The PMF shows that each possible outcome has a probability of 1/6 of occurring. If we wanted to find the probability of rolling a 3, for example, we could use the PMF and see that PMF(3) = 1/6, which means the probability of rolling a 3 is 1/6.\n",
    "\n",
    "On the other hand, a Probability Density Function (PDF) is a function that describes the probability distribution of a continuous random variable. Unlike the PMF, which is defined for discrete variables, the PDF is defined for continuous random variables, which can take on an infinite number of possible values within a range.\n",
    "\n",
    "For example, let's say we have a random variable X that represents the height of adult humans. The PDF for X might look something like this:\n",
    "\n",
    "    PDF(x) = 0.024 for 64 <= x < 65\n",
    "    PDF(x) = 0.036 for 65 <= x < 66\n",
    "    PDF(x) = 0.050 for 66 <= x < 67\n",
    "    ...\n",
    "\n",
    "This PDF tells us the probability density for each possible value of X within a given range. For example, if we wanted to find the probability of selecting an adult human with a height between 65 and 66 inches, we could use the PDF and integrate over the range from 65 to 66:\n",
    "\n",
    "P(65 <= X < 66) = ∫65^66 PDF(x) dx = 0.036\n",
    "\n",
    "Note that the PDF does not give the probability of a specific value, as it only describes the density of probabilities over a range of possible values. To find the probability of a specific value, we would need to integrate the PDF over a range of values that includes that specific value.\n",
    "\n",
    "\n",
    "\n"
   ]
  },
  {
   "cell_type": "markdown",
   "id": "4573e3f7",
   "metadata": {},
   "source": [
    "#### Q2: What is Cumulative Density Function (CDF)? Explain with an example. Why CDF is used?\n"
   ]
  },
  {
   "cell_type": "markdown",
   "id": "daa29271",
   "metadata": {},
   "source": [
    "A Cumulative Density Function (CDF) is a function that gives the probability that a random variable X takes on a value less than or equal to a given value x. In other words, it provides the cumulative probability of a random variable up to a certain point.\n",
    "\n",
    "For example, let's say we have a continuous random variable X that represents the height of adult humans, and its PDF is given by:\n",
    "\n",
    "    PDF(x) = 0.024 for 64 <= x < 65\n",
    "    PDF(x) = 0.036 for 65 <= x < 66\n",
    "    PDF(x) = 0.050 for 66 <= x < 67\n",
    "    ...\n",
    "\n",
    "The CDF for X can be obtained by integrating the PDF from negative infinity up to x:\n",
    "\n",
    "CDF(x) = ∫-∞^x PDF(t) dt\n",
    "\n",
    "For example, if we wanted to find the probability that an adult human has a height less than or equal to 66 inches, we would integrate the PDF up to 66:\n",
    "\n",
    "CDF(66) = ∫-∞^66 PDF(x) dx = ∫-∞^64 0 dx + ∫64^65 0.024 dx + ∫65^66 0.036 dx = 0 + 0.024 + 0.036 = 0.06\n",
    "\n",
    "The CDF tells us that the probability of selecting an adult human with a height less than or equal to 66 inches is 0.06. Similarly, if we wanted to find the probability that an adult human has a height between 65 and 67 inches, we would subtract the CDF at 65 from the CDF at 67:\n",
    "\n",
    "P(65 <= X <= 67) = CDF(67) - CDF(65) = ∫-∞^67 PDF(x) dx - ∫-∞^65 PDF(x) dx = 0.105\n",
    "\n",
    "The CDF is used to describe the cumulative probability distribution of a random variable, and it is useful in a wide range of statistical applications. It provides a way to calculate the probability of a random variable taking on a value less than or equal to a given value, which can be used to make predictions and draw conclusions about the underlying population distribution. It is also useful for comparing different distributions and for assessing the goodness of fit of a statistical model."
   ]
  },
  {
   "cell_type": "markdown",
   "id": "29f97a3f",
   "metadata": {},
   "source": [
    "#### Q3: What are some examples of situations where the normal distribution might be used as a model? Explain how the parameters of the normal distribution relate to the shape of the distribution.\n"
   ]
  },
  {
   "cell_type": "markdown",
   "id": "c4c7e797",
   "metadata": {},
   "source": [
    "The normal distribution, also known as the Gaussian distribution, is a probability distribution that is commonly used to model a wide range of natural phenomena and real-world data. Some examples of situations where the normal distribution might be used as a model include:\n",
    "\n",
    "1.Heights of adult humans: The heights of adult humans are often modeled using the normal distribution, with a mean around 5 feet 6 inches and a standard deviation of about 2.5 inches.\n",
    "\n",
    "2.Test scores: The scores on many standardized tests, such as the SAT or GRE, are often modeled using the normal distribution, with a mean around 500-600 and a standard deviation of about 100-150.\n",
    "\n",
    "3.Errors in measurements: Errors in measurements of physical quantities, such as length or weight, are often modeled using the normal distribution, with a mean of zero and a standard deviation that depends on the precision of the measurement instrument.\n",
    "\n",
    "The normal distribution is characterized by two parameters: the mean (μ) and the standard deviation (σ). The mean represents the center of the distribution, while the standard deviation represents the spread or variability of the distribution.\n",
    "\n",
    "The mean determines the location of the peak of the distribution. If the mean is larger, the peak of the distribution will shift to the right, and if the mean is smaller, the peak will shift to the left.\n",
    "\n",
    "The standard deviation determines the width of the distribution. A smaller standard deviation corresponds to a narrower distribution with most of the data concentrated around the mean, while a larger standard deviation corresponds to a wider distribution with more spread out data.\n",
    "\n",
    "The normal distribution is a symmetric bell-shaped curve, with the mean at the center and the standard deviation determining the spread of the curve. The probability density function of the normal distribution is given by:\n",
    "\n",
    "f(x) = (1 / (σ * sqrt(2π))) * exp(-(x-μ)^2 / (2σ^2))\n",
    "\n",
    "where x is the random variable, μ is the mean, σ is the standard deviation, and π is the mathematical constant pi."
   ]
  },
  {
   "cell_type": "markdown",
   "id": "809611e7",
   "metadata": {},
   "source": [
    "#### Q4: Explain the importance of Normal Distribution. Give a few real-life examples of Normal Distribution.\n"
   ]
  },
  {
   "cell_type": "markdown",
   "id": "408e0fde",
   "metadata": {},
   "source": [
    "Normal distribution is a crucial concept in statistics and data science. It is a probability distribution that is widely used to model many natural phenomena and real-world data. The importance of the normal distribution lies in the fact that it provides a mathematical framework to describe the likelihood of events occurring, which can help in making better decisions and predictions. Some of the key reasons why normal distribution is important are:\n",
    "\n",
    "1.Central Limit Theorem: Normal distribution is a key component of the central limit theorem, which states that the distribution of the sample mean of a random variable will approach a normal distribution as the sample size increases, regardless of the underlying distribution of the variable. This theorem is essential in inferential statistics, as it enables us to make inferences about a population based on a sample.\n",
    "\n",
    "2.Inference and Prediction: Many statistical techniques, such as hypothesis testing and confidence intervals, rely on normal distribution assumptions. Normal distribution also provides a basis for predicting the probability of an event occurring, which is essential in many real-world applications.\n",
    "\n",
    "3.Efficient Parameter Estimation: Normal distribution is a convenient distribution for parameter estimation because it is easy to estimate the mean and standard deviation from data. The normal distribution is also the maximum entropy distribution for a given mean and standard deviation, which makes it the most probable distribution under certain conditions.\n",
    "\n",
    "Some of the real-life examples of normal distribution are:\n",
    "\n",
    "1.Heights of adult humans: As mentioned earlier, the heights of adult humans are often modeled using the normal distribution. The mean height of adult males is around 5 feet 9 inches with a standard deviation of 2.8 inches, while the mean height of adult females is around 5 feet 4 inches with a standard deviation of 2.5 inches.\n",
    "\n",
    "2.IQ Scores: IQ scores are often assumed to follow a normal distribution, with a mean of 100 and a standard deviation of 15.\n",
    "\n",
    "3.Body Temperatures: Body temperatures are often modeled using a normal distribution, with a mean of 98.6 degrees Fahrenheit and a standard deviation of 0.7 degrees Fahrenheit.\n",
    "\n",
    "4.Stock Prices: Stock prices are often assumed to follow a normal distribution, with the mean representing the expected return and the standard deviation representing the volatility of the stock.\n",
    "\n",
    "Overall, normal distribution plays a critical role in many statistical and data science applications, and is a fundamental concept for anyone working in these fields.\n",
    "\n",
    "\n",
    "\n",
    "\n",
    "\n",
    "Regenerate response"
   ]
  },
  {
   "cell_type": "markdown",
   "id": "e26e79b6",
   "metadata": {},
   "source": [
    "#### Q5: What is Bernaulli Distribution? Give an Example. What is the difference between Bernoulli Distribution and Binomial Distribution?\n"
   ]
  },
  {
   "cell_type": "markdown",
   "id": "3c2f7748",
   "metadata": {},
   "source": [
    "Bernoulli distribution is a discrete probability distribution that models the outcomes of a single binary experiment or trial, which can have only two possible outcomes: success (usually denoted by 1) or failure (usually denoted by 0). The Bernoulli distribution is named after the Swiss mathematician Jacob Bernoulli, who first introduced it in the 18th century.\n",
    "\n",
    "The probability mass function (PMF) of the Bernoulli distribution is:\n",
    "\n",
    "P(X = x) = p^x * (1-p)^(1-x)\n",
    "\n",
    "where p is the probability of success, and x is the outcome of the trial (0 for failure and 1 for success).\n",
    "\n",
    "An example of the Bernoulli distribution is flipping a fair coin, where the outcome of the experiment can either be heads (success) or tails (failure), with equal probabilities of 0.5.\n",
    "\n",
    "The Bernoulli distribution is closely related to the binomial distribution, which models the number of successes in a fixed number of independent Bernoulli trials. The main difference between the Bernoulli and binomial distributions is that the Bernoulli distribution models a single trial, while the binomial distribution models multiple trials.\n",
    "\n",
    "The binomial distribution has two parameters: the number of trials (n) and the probability of success in each trial (p). The probability mass function (PMF) of the binomial distribution is:\n",
    "\n",
    "P(X = k) = (n choose k) * p^k * (1-p)^(n-k)\n",
    "\n",
    "where k is the number of successes, n is the number of trials, p is the probability of success in each trial, and (n choose k) is the binomial coefficient, which represents the number of ways to choose k objects from a set of n objects.\n",
    "\n",
    "An example of the binomial distribution is flipping a fair coin 10 times, and counting the number of heads (successes) obtained. In this case, the number of trials (n) is 10, and the probability of success (getting heads) in each trial is 0.5.\n",
    "\n",
    "In summary, the Bernoulli distribution models the outcomes of a single binary experiment, while the binomial distribution models the number of successes in a fixed number of independent Bernoulli trials. The Bernoulli distribution is a special case of the binomial distribution with n=1."
   ]
  },
  {
   "cell_type": "markdown",
   "id": "3a747acd",
   "metadata": {},
   "source": [
    "#### Q6. Consider a dataset with a mean of 50 and a standard deviation of 10. If we assume that the dataset is normally distributed, what is the probability that a randomly selected observation will be greater than 60? Use the appropriate formula and show your calculations.\n"
   ]
  },
  {
   "cell_type": "markdown",
   "id": "64a23f63",
   "metadata": {},
   "source": [
    "We can use the standard normal distribution to calculate the probability of a randomly selected observation being greater than 60, given that the dataset is normally distributed with a mean of 50 and a standard deviation of 10.\n",
    "\n",
    "First, we need to standardize the value 60 using the z-score formula:\n",
    "\n",
    "z = (x - mu) / sigma\n",
    "\n",
    "where x is the value we want to standardize, mu is the mean of the distribution, and sigma is the standard deviation of the distribution.\n",
    "\n",
    "Substituting the values we have, we get:\n",
    "\n",
    "z = (60 - 50) / 10 = 1\n",
    "\n",
    "Next, we use a standard normal distribution table or a calculator to find the probability of a z-score being greater than 1.\n",
    "\n",
    "Using a standard normal distribution table, we can look up the area to the right of z = 1, which is 0.1587.\n",
    "\n",
    "Therefore, the probability that a randomly selected observation from the dataset will be greater than 60 is approximately 0.1587 or 15.87%."
   ]
  },
  {
   "cell_type": "markdown",
   "id": "5e02a50b",
   "metadata": {},
   "source": [
    "#### Q7: Explain uniform Distribution with an example.\n"
   ]
  },
  {
   "cell_type": "markdown",
   "id": "5091b87e",
   "metadata": {},
   "source": [
    "Uniform distribution is a continuous probability distribution where the probability of each possible outcome is equal. This means that any value within a given range is equally likely to occur. A uniform distribution is often represented graphically as a rectangular shape, with the height of the rectangle representing the probability of a given outcome.\n",
    "\n",
    "An example of a uniform distribution is the roll of a fair six-sided die. In this case, the possible outcomes are the numbers 1 through 6, each with an equal probability of 1/6 or approximately 0.1667. If we represent the probability distribution of the roll of a fair six-sided die graphically, it would appear as a rectangular shape, with a height of approximately 0.1667 for each of the six possible outcomes.\n",
    "\n",
    "Another example of a uniform distribution is the time it takes for a traffic light to change from green to red. If we assume that the time is uniformly distributed between 30 and 60 seconds, any time between these values is equally likely to occur, with a probability density of 1/30 or approximately 0.0333 per second. In this case, the probability distribution would also be represented graphically as a rectangular shape, with a height of approximately 0.0333 between 30 and 60 seconds, and a probability of 0 for any time outside this range.\n",
    "\n",
    "Uniform distribution is often used in statistical modeling when there is no reason to believe that one outcome is more likely than another. It is also used in simulations and random number generators, where a random number is needed within a given range."
   ]
  },
  {
   "cell_type": "markdown",
   "id": "ef91ae32",
   "metadata": {},
   "source": [
    "#### Q8: What is the z score? State the importance of the z score.\n"
   ]
  },
  {
   "cell_type": "markdown",
   "id": "9bb0d931",
   "metadata": {},
   "source": [
    "The z-score (also known as the standard score) is a measure of how many standard deviations a data point is away from the mean of a distribution. It is calculated by subtracting the mean from the value of interest and then dividing the result by the standard deviation:\n",
    "\n",
    "z = (x - mu) / sigma\n",
    "\n",
    "where x is the value of interest, mu is the mean of the distribution, and sigma is the standard deviation of the distribution.\n",
    "\n",
    "The z-score tells us how many standard deviations a data point is away from the mean, and whether it is above or below the mean. A positive z-score indicates that the data point is above the mean, while a negative z-score indicates that it is below the mean.\n",
    "\n",
    "The importance of the z-score is that it allows us to compare values from different normal distributions on a common scale. By standardizing the data using the z-score, we can compare data points from distributions with different means and standard deviations. This is useful in statistical analysis and hypothesis testing, where we may want to compare data from different populations or samples.\n",
    "\n",
    "The z-score is also used in identifying outliers in a data set. Data points that have a z-score greater than 3 or less than -3 are generally considered to be outliers, as they are more than three standard deviations away from the mean.\n",
    "\n",
    "\n",
    "\n"
   ]
  },
  {
   "cell_type": "markdown",
   "id": "783c1320",
   "metadata": {},
   "source": [
    "#### Q9: What is Central Limit Theorem? State the significance of the Central Limit Theorem.\n"
   ]
  },
  {
   "cell_type": "markdown",
   "id": "deeb537a",
   "metadata": {},
   "source": [
    "The Central Limit Theorem (CLT) is a fundamental concept in statistics that describes the behavior of sample means when samples are taken from a population with any distribution. It states that, as the sample size increases, the distribution of sample means becomes more normal, regardless of the shape of the original population distribution. The central limit theorem is important because it allows us to make inferences about a population using a sample.\n",
    "\n",
    "More specifically, the Central Limit Theorem states that the sample mean of a random sample from any population with mean μ and standard deviation σ will follow a normal distribution with mean μ and standard deviation σ/√n, where n is the sample size. This means that as we take larger and larger samples from a population, the distribution of sample means will approach a normal distribution, with a smaller spread.\n",
    "\n",
    "The significance of the Central Limit Theorem lies in its wide applicability. It is used in many areas of statistics, including hypothesis testing, confidence intervals, and regression analysis. It is particularly useful when dealing with real-world data that may not follow a normal distribution, as it allows us to make statistical inferences even when the population distribution is unknown or non-normal.\n",
    "\n",
    "The Central Limit Theorem is also important in quality control and process improvement, where it is used to analyze and control process variables, and to determine whether a process is in control or out of control."
   ]
  },
  {
   "cell_type": "markdown",
   "id": "f3423eaa",
   "metadata": {},
   "source": [
    "#### Q10: State the assumptions of the Central Limit Theorem."
   ]
  },
  {
   "cell_type": "markdown",
   "id": "2ae166ee",
   "metadata": {},
   "source": [
    "The Central Limit Theorem (CLT) has certain assumptions that must be met in order for it to hold true. The assumptions of the Central Limit Theorem are:\n",
    "\n",
    "    1.Random sampling: The sample must be chosen randomly from the population, so that every individual has an equal chance of being selected.\n",
    "\n",
    "    2.Independence: Each observation in the sample must be independent of each other. This means that the value of one observation does not depend on the value of any other observation.\n",
    "\n",
    "    3.Finite population size or sample size: The sample size must be sufficiently large relative to the population size or the sample size should be larger than 30.\n",
    "\n",
    "    4.Identical distribution: The population from which the sample is taken must have the same distribution, regardless of the sample size.\n",
    "\n",
    "    5.Finite variance: The population from which the sample is taken must have a finite variance.\n",
    "\n",
    "If these assumptions are met, then the Central Limit Theorem can be used to approximate the distribution of the sample mean as a normal distribution, even if the population distribution is not normal. However, if these assumptions are not met, then the Central Limit Theorem may not apply, and other statistical methods may need to be used."
   ]
  },
  {
   "cell_type": "code",
   "execution_count": null,
   "id": "1f58bf7a",
   "metadata": {},
   "outputs": [],
   "source": []
  }
 ],
 "metadata": {
  "kernelspec": {
   "display_name": "Python 3 (ipykernel)",
   "language": "python",
   "name": "python3"
  },
  "language_info": {
   "codemirror_mode": {
    "name": "ipython",
    "version": 3
   },
   "file_extension": ".py",
   "mimetype": "text/x-python",
   "name": "python",
   "nbconvert_exporter": "python",
   "pygments_lexer": "ipython3",
   "version": "3.9.12"
  }
 },
 "nbformat": 4,
 "nbformat_minor": 5
}
