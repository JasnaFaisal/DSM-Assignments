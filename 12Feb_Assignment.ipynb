{
 "cells": [
  {
   "cell_type": "markdown",
   "id": "c66f813c",
   "metadata": {},
   "source": [
    "#### Q1. What is an Exception handling in python? Write the difference between Exceptions and Syntax errors\n",
    "\n"
   ]
  },
  {
   "cell_type": "markdown",
   "id": "adb6e17e",
   "metadata": {},
   "source": [
    "An exception is an event, which occurs during the execution of a program that disrupts the normal flow of the program's instructions. In general, when a Python script encounters a situation that it cannot cope with, it raises an exception. An exception is a Python object that represents an error.\n",
    "\n",
    "Exception handling is the process of responding to unwanted or unexpected events when a computer program runs. Exception handling deals with these events to avoid the program or system crashing, and without this process, exceptions would disrupt the normal operation of a program.\n",
    "Syntax:\n",
    "\n",
    "    try:\n",
    "       You do your operations here;\n",
    "       ......................\n",
    "    except ExceptionI:\n",
    "       If there is ExceptionI, then execute this block.\n",
    "    except ExceptionII:\n",
    "       If there is ExceptionII, then execute this block.\n",
    "       ......................\n",
    "    else:\n",
    "       If there is no exception then execute this block. \n",
    "       \n",
    "Here are few important points about the above-mentioned syntax −\n",
    "\n",
    "    A single try statement can have multiple except statements. This is useful when the try block contains statements that may throw different types of exceptions.\n",
    "\n",
    "    You can also provide a generic except clause, which handles any exception.\n",
    "\n",
    "    After the except clause(s), you can include an else-clause. The code in the else-block executes if the code in the try: block does not raise an exception.\n",
    "\n",
    "    The else-block is a good place for code that does not need the try: block's protection."
   ]
  },
  {
   "cell_type": "markdown",
   "id": "4ff29e27",
   "metadata": {},
   "source": [
    "Difference between exceptions and syntax errors:\n",
    "    \n",
    "    1.Errors cannot be handled, while Python exceptions can be handled at the run time. An error can be a syntax (parsing) error, while there can be many types of exceptions that could occur during the execution and are not unconditionally inoperable.#\n",
    "    2.An Error might indicate critical problems that a reasonable application should not try to catch, while an Exception might indicate conditions that an application should try to catch.\n",
    "    3.Errors are a form of an unchecked exception and are irrecoverable like an OutOfMemoryError, which a programmer should not try to handle.\n",
    "    4.Syntax errors often called as parsing errors, are predominantly caused when the parser detects a syntactic issue in your code"
   ]
  },
  {
   "cell_type": "markdown",
   "id": "880cf202",
   "metadata": {},
   "source": [
    "#### Q2. What happens when an exception is not handled? Explain with an example\n",
    "\n"
   ]
  },
  {
   "cell_type": "markdown",
   "id": "cb092193",
   "metadata": {},
   "source": [
    "Exception handling makes your code more robust and helps prevent potential failures that would cause your program to stop in an uncontrolled manner. Imagine if you have written a code which is deployed in production and still, it terminates due to an exception, your client would not appreciate that, so it's better to handle the particular exception beforehand and avoid the chaos."
   ]
  },
  {
   "cell_type": "markdown",
   "id": "5de6fc52",
   "metadata": {},
   "source": [
    " If an exception is not handled, the runtime system will abort the program (i.e. crash) and an exception message will print to the console. Exceptions would disrupt the normal operation of a program.\n",
    " \n",
    "When an exception is raised, no further statements in the current block of code are executed. Unless the exception is handled (described below), the interpreter will return directly to the interactive read-eval-print loop, or terminate entirely if Python was started with a file argument."
   ]
  },
  {
   "cell_type": "code",
   "execution_count": 4,
   "id": "a2585e83",
   "metadata": {},
   "outputs": [],
   "source": [
    "a=20\n",
    "b=a+10"
   ]
  },
  {
   "cell_type": "code",
   "execution_count": 5,
   "id": "9a451037",
   "metadata": {},
   "outputs": [
    {
     "ename": "ZeroDivisionError",
     "evalue": "division by zero",
     "output_type": "error",
     "traceback": [
      "\u001b[1;31m---------------------------------------------------------------------------\u001b[0m",
      "\u001b[1;31mZeroDivisionError\u001b[0m                         Traceback (most recent call last)",
      "Input \u001b[1;32mIn [5]\u001b[0m, in \u001b[0;36m<cell line: 2>\u001b[1;34m()\u001b[0m\n\u001b[0;32m      1\u001b[0m \u001b[38;5;66;03m#trying to divide a by zero which throws an zero division error\u001b[39;00m\n\u001b[1;32m----> 2\u001b[0m \u001b[43ma\u001b[49m\u001b[38;5;241;43m/\u001b[39;49m\u001b[38;5;241;43m0\u001b[39;49m\n\u001b[0;32m      3\u001b[0m b\u001b[38;5;241m/\u001b[39m\u001b[38;5;241m5\u001b[39m\n",
      "\u001b[1;31mZeroDivisionError\u001b[0m: division by zero"
     ]
    }
   ],
   "source": [
    "#trying to divide a by zero which throws an zero division error and b/5 is not executed\n",
    "a/0\n",
    "b/5"
   ]
  },
  {
   "cell_type": "code",
   "execution_count": 15,
   "id": "4361a41e",
   "metadata": {},
   "outputs": [
    {
     "name": "stdout",
     "output_type": "stream",
     "text": [
      "A number cannot be divided by zero.its a  division by zero\n"
     ]
    },
    {
     "data": {
      "text/plain": [
       "6.0"
      ]
     },
     "execution_count": 15,
     "metadata": {},
     "output_type": "execute_result"
    }
   ],
   "source": [
    "#try and exception block catches the error and print the mesage to the output console without interrupting the program flow\n",
    "try:\n",
    "    a/0\n",
    "except Exception as e:\n",
    "    print('A number cannot be divided by zero.its a ',e)\n",
    "b/5    "
   ]
  },
  {
   "cell_type": "markdown",
   "id": "2de415ff",
   "metadata": {},
   "source": [
    "#### Q3. Which Python statements are used to catch and handle exceptions? Explain with an example\n",
    "\n"
   ]
  },
  {
   "cell_type": "markdown",
   "id": "a3ae6890",
   "metadata": {},
   "source": [
    "The try and except block in Python is used to catch and handle exceptions. Python executes code following the try statement as a “normal” part of the program. The code that follows the except statement is the program's response to any exceptions in the preceding try clause."
   ]
  },
  {
   "cell_type": "code",
   "execution_count": 34,
   "id": "c84ff1f4",
   "metadata": {},
   "outputs": [
    {
     "name": "stdout",
     "output_type": "stream",
     "text": [
      "The file does not exist and cant write to a read only file [Errno 2] No such file or directory: 'test2.txt'\n"
     ]
    }
   ],
   "source": [
    "#we are trying to open a file which is not existing\n",
    "try:\n",
    "    file=open('test2.txt','r')\n",
    "    file.write('This is a test file')\n",
    "except Exception as e:\n",
    "    print('The file does not exist and cant write to a read only file', e)\n",
    "else:\n",
    "    file.close()\n",
    "    print('This executes only when there is no exception in try block')"
   ]
  },
  {
   "cell_type": "code",
   "execution_count": 27,
   "id": "a869f4a8",
   "metadata": {},
   "outputs": [
    {
     "name": "stdout",
     "output_type": "stream",
     "text": [
      "The file exists.\n"
     ]
    }
   ],
   "source": [
    "#we are oepning a file which already exists and there is no exception  thrown, hence else block is executed\n",
    "try:\n",
    "    file=open('test.txt','r')\n",
    "\n",
    "except Exception as e:\n",
    "    print(e)\n",
    "else:\n",
    "    print('The file exists.')\n",
    "    \n",
    "    file.read()\n",
    "    "
   ]
  },
  {
   "cell_type": "markdown",
   "id": "76754bd1",
   "metadata": {},
   "source": [
    "#### Q4. Explain with an example:\n",
    "\n",
    "     try and else#\n",
    "     finally\n",
    "     raise\n"
   ]
  },
  {
   "cell_type": "markdown",
   "id": "14f93f48",
   "metadata": {},
   "source": [
    "The try block lets you test a block of code for errors. The except block lets you handle the error. The else block lets you execute code when there is no error. The finally block lets you execute code, regardless of the result of the try- and except blocks."
   ]
  },
  {
   "cell_type": "code",
   "execution_count": 29,
   "id": "a4ecc5c0",
   "metadata": {},
   "outputs": [
    {
     "name": "stdout",
     "output_type": "stream",
     "text": [
      "Something else went wrong . name 'x' is not defined\n"
     ]
    }
   ],
   "source": [
    "#when we are suspicious about the code ,we put them in the try block and if there is an exception thrown, its caught by the except block.\n",
    "try:\n",
    "    print(x)\n",
    "except Exception as e:\n",
    "    print(\"Something else went wrong .\",e)"
   ]
  },
  {
   "cell_type": "code",
   "execution_count": 30,
   "id": "df7659e9",
   "metadata": {},
   "outputs": [
    {
     "name": "stdout",
     "output_type": "stream",
     "text": [
      "Hello\n",
      "Nothing went wrong\n"
     ]
    }
   ],
   "source": [
    "#else block will execute only when there is no exceptions\n",
    "try:\n",
    "    print(\"Hello\")\n",
    "except:\n",
    "    print(\"Something went wrong\")\n",
    "else:\n",
    "    print(\"Nothing went wrong\")"
   ]
  },
  {
   "cell_type": "code",
   "execution_count": 32,
   "id": "60e31fc8",
   "metadata": {},
   "outputs": [
    {
     "name": "stdout",
     "output_type": "stream",
     "text": [
      "Something went wrong.  name 'x' is not defined\n",
      "The 'try except' is finished\n"
     ]
    }
   ],
   "source": [
    "#finally will execute always though try block throws an exception\n",
    "try:\n",
    "    print(x)\n",
    "except Exception as e:\n",
    "    print(\"Something went wrong. \",e)\n",
    "finally:\n",
    "    print(\"The 'try except' is finished\")"
   ]
  },
  {
   "cell_type": "markdown",
   "id": "727e471c",
   "metadata": {},
   "source": [
    "#### Q5. What are Custom Exceptions in python? Why do we need Custom Exceptions? Explain with an example\n",
    "\n"
   ]
  },
  {
   "cell_type": "markdown",
   "id": "65737fb7",
   "metadata": {},
   "source": [
    "Custom exceptions are created by the user.In Python, we can define custom exceptions by creating a new class that is derived from the built-in Exception class.\n",
    "\n",
    "Having custom exceptions - tailored to your specific use cases and that you can raise and catch in specific circumstances - can make your code much more readable and robust, and reduce the amount of code you write later to try and figure out what exactly went wrong.\n",
    "\n",
    "Python is known for its readability and user-friendliness; using custom exceptions can help us improve this even more, especially when we are designing our package. If you decide to avoid, at all costs, custom exceptions by using only built-in ones, you risk decreasing Python's readability."
   ]
  },
  {
   "cell_type": "code",
   "execution_count": 40,
   "id": "10c6329e",
   "metadata": {},
   "outputs": [
    {
     "name": "stdout",
     "output_type": "stream",
     "text": [
      "Enter a number: 12\n",
      "Exception occurred: Invalid Age\n"
     ]
    }
   ],
   "source": [
    "# define Python user-defined exceptions\n",
    "class InvalidAgeException(Exception):\n",
    "    \"Raised when the input value is less than 18\"\n",
    "    pass\n",
    "\n",
    "# you need to guess this number\n",
    "number = 18\n",
    "\n",
    "try:\n",
    "    input_num = int(input(\"Enter a number: \"))\n",
    "    if input_num < number:\n",
    "        raise InvalidAgeException\n",
    "    else:\n",
    "        print(\"Eligible to Vote\")\n",
    "        \n",
    "except InvalidAgeException:\n",
    "    print(\"Exception occurred: Invalid Age\")\n"
   ]
  },
  {
   "cell_type": "markdown",
   "id": "62bccc2c",
   "metadata": {},
   "source": [
    "#### Q6. Create custom exception class. Use this class to handle an exception."
   ]
  },
  {
   "cell_type": "code",
   "execution_count": 36,
   "id": "1a382811",
   "metadata": {},
   "outputs": [
    {
     "name": "stdout",
     "output_type": "stream",
     "text": [
      "Enter the marks secured: 56\n",
      "The marks entered is added to your profile\n"
     ]
    }
   ],
   "source": [
    "#class is created to check the mark entered by a student to be added to his profile. Since the score is out of 100,marks cannot be above 100\n",
    "class validatemark(Exception):\n",
    "    def __init__(self,marks):\n",
    "        self.mark=marks\n",
    "def check_mark(mark):\n",
    "    if mark>100:\n",
    "        raise validatemark('The marks secured cannot be above 100 as the total score is out of 100.')\n",
    "    else:\n",
    "        print('The marks entered is added to your profile')\n",
    "try:\n",
    "    marks=int(input('Enter the marks secured: '))\n",
    "    check_mark(marks)\n",
    "except validatemark as e:\n",
    "    print(e)"
   ]
  },
  {
   "cell_type": "code",
   "execution_count": 37,
   "id": "c4448b46",
   "metadata": {},
   "outputs": [
    {
     "name": "stdout",
     "output_type": "stream",
     "text": [
      "Enter the marks secured: 120\n",
      "The marks secured cannot be above 100 as the total score is out of 100.\n"
     ]
    }
   ],
   "source": [
    "class validatemark(Exception):\n",
    "    def __init__(self,marks):\n",
    "        self.mark=marks\n",
    "def check_mark(mark):\n",
    "    if mark>100:\n",
    "        raise validatemark('The marks secured cannot be above 100 as the total score is out of 100.')\n",
    "    else:\n",
    "        print('The marks entered is added to your profile')\n",
    "try:\n",
    "    marks=int(input('Enter the marks secured: '))\n",
    "    check_mark(marks)\n",
    "except validatemark as e:\n",
    "    print(e)"
   ]
  },
  {
   "cell_type": "code",
   "execution_count": null,
   "id": "11aaa2bf",
   "metadata": {},
   "outputs": [],
   "source": []
  }
 ],
 "metadata": {
  "kernelspec": {
   "display_name": "Python 3 (ipykernel)",
   "language": "python",
   "name": "python3"
  },
  "language_info": {
   "codemirror_mode": {
    "name": "ipython",
    "version": 3
   },
   "file_extension": ".py",
   "mimetype": "text/x-python",
   "name": "python",
   "nbconvert_exporter": "python",
   "pygments_lexer": "ipython3",
   "version": "3.9.12"
  }
 },
 "nbformat": 4,
 "nbformat_minor": 5
}
