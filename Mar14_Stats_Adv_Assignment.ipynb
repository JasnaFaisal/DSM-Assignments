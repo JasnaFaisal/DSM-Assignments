{
 "cells": [
  {
   "cell_type": "markdown",
   "id": "7ed67bc1",
   "metadata": {},
   "source": [
    "#### Q1. Write a Python function that takes in two arrays of data and calculates the F-value for a variance ratio test. The function should return the F-value and the corresponding p-value for the test.\n"
   ]
  },
  {
   "cell_type": "code",
   "execution_count": 1,
   "id": "5f7e35f1",
   "metadata": {},
   "outputs": [],
   "source": [
    "import scipy.stats as stats\n",
    "\n",
    "def variance_ratio_test(x, y):\n",
    "    # Calculate the sample variances\n",
    "    var_x = x.var(ddof=1)\n",
    "    var_y = y.var(ddof=1)\n",
    "    \n",
    "    # Calculate the F-value\n",
    "    f_value = var_x / var_y\n",
    "    \n",
    "    # Calculate the degrees of freedom\n",
    "    df_x = len(x) - 1\n",
    "    df_y = len(y) - 1\n",
    "    \n",
    "    # Calculate the p-value\n",
    "    p_value = stats.f.sf(f_value, df_x, df_y)\n",
    "    \n",
    "    # Return the F-value and p-value\n",
    "    return f_value, p_value\n"
   ]
  },
  {
   "cell_type": "markdown",
   "id": "1057cd11",
   "metadata": {},
   "source": [
    "The function first calculates the sample variances of the two arrays x and y using the .var() method with the ddof=1 argument to get the unbiased estimate of the variance. It then calculates the F-value using the formula var_x / var_y.\n",
    "\n",
    "Next, it calculates the degrees of freedom for the two samples by subtracting 1 from the sample sizes. It then uses the scipy.stats.f.sf() function to calculate the p-value for the F-value, with the degrees of freedom for the numerator being df_x and the degrees of freedom for the denominator being df_y.\n",
    "\n",
    "Finally, the function returns the F-value and p-value as a tuple. You can call the function with two arrays of data and it will return the calculated F-value and p-value for the variance ratio test."
   ]
  },
  {
   "cell_type": "markdown",
   "id": "4119f35b",
   "metadata": {},
   "source": [
    "#### Q2. Given a significance level of 0.05 and the degrees of freedom for the numerator and denominator of an F-distribution, write a Python function that returns the critical F-value for a two-tailed test.\n"
   ]
  },
  {
   "cell_type": "code",
   "execution_count": 2,
   "id": "e61ff2aa",
   "metadata": {},
   "outputs": [],
   "source": [
    "import scipy.stats as stats\n",
    "\n",
    "def f_critical(df_num, df_denom, alpha):\n",
    "    # Calculate the critical F-value\n",
    "    f_crit = stats.f.ppf(1 - alpha/2, df_num, df_denom)\n",
    "    \n",
    "    # Return the critical F-value\n",
    "    return f_crit\n"
   ]
  },
  {
   "cell_type": "markdown",
   "id": "e267299d",
   "metadata": {},
   "source": [
    "The function uses the scipy.stats.f.ppf() function to calculate the critical F-value for a two-tailed test. The 1 - alpha/2 argument specifies the percentile of the F-distribution corresponding to the desired significance level (alpha) for a two-tailed test. The df_num and df_denom arguments specify the degrees of freedom for the numerator and denominator of the F-distribution, respectively.\n",
    "\n",
    "You can call the function with the desired degrees of freedom and significance level to obtain the critical F-value for the two-tailed test. For example, if you want the critical F-value for a significance level of 0.05 and degrees of freedom of 4 and 10, you can call the function as follows:"
   ]
  },
  {
   "cell_type": "code",
   "execution_count": 3,
   "id": "687be1a9",
   "metadata": {},
   "outputs": [
    {
     "name": "stdout",
     "output_type": "stream",
     "text": [
      "4.46834157822528\n"
     ]
    }
   ],
   "source": [
    "f_crit = f_critical(4, 10, 0.05)\n",
    "print(f_crit)\n"
   ]
  },
  {
   "cell_type": "markdown",
   "id": "0a3b6cd0",
   "metadata": {},
   "source": [
    "This will output the critical F-value for the two-tailed test with 4 and 10 degrees of freedom at a significance level of 0.05."
   ]
  },
  {
   "cell_type": "markdown",
   "id": "a1ee1c6e",
   "metadata": {},
   "source": [
    "#### Q3. Write a Python program that generates random samples from two normal distributions with known variances and uses an F-test to determine if the variances are equal. The program should output the F- value, degrees of freedom, and p-value for the test.\n",
    "\n"
   ]
  },
  {
   "cell_type": "markdown",
   "id": "77b138c9",
   "metadata": {},
   "source": [
    "The program uses the numpy and scipy.stats modules for generating random samples and performing the F-test, respectively:"
   ]
  },
  {
   "cell_type": "code",
   "execution_count": 5,
   "id": "21b2b1d1",
   "metadata": {},
   "outputs": [
    {
     "name": "stdout",
     "output_type": "stream",
     "text": [
      "F-value: 0.23\n",
      "Degrees of freedom (numerator): 19\n",
      "Degrees of freedom (denominator): 29\n",
      "p-value: 0.6319\n"
     ]
    }
   ],
   "source": [
    "import numpy as np\n",
    "import scipy.stats as stats\n",
    "\n",
    "# Set the seed for reproducibility\n",
    "np.random.seed(123)\n",
    "\n",
    "# Generate random samples from two normal distributions with known variances\n",
    "n1 = 20\n",
    "n2 = 30\n",
    "mu1 = 0\n",
    "mu2 = 0\n",
    "var1 = 4\n",
    "var2 = 4\n",
    "x = np.random.normal(mu1, np.sqrt(var1), n1)\n",
    "y = np.random.normal(mu2, np.sqrt(var2), n2)\n",
    "\n",
    "# Perform an F-test to determine if the variances are equal\n",
    "f_value, p_value = stats.f_oneway(x,y)\n",
    "\n",
    "# Calculate the degrees of freedom for the numerator and denominator\n",
    "df_num = n1 - 1\n",
    "df_denom = n2 - 1\n",
    "\n",
    "# Output the F-value, degrees of freedom, and p-value for the test\n",
    "print(f\"F-value: {f_value:.2f}\")\n",
    "print(f\"Degrees of freedom (numerator): {df_num}\")\n",
    "print(f\"Degrees of freedom (denominator): {df_denom}\")\n",
    "print(f\"p-value: {p_value:.4f}\")\n"
   ]
  },
  {
   "cell_type": "markdown",
   "id": "d254d3a6",
   "metadata": {},
   "source": [
    "The program first sets the seed for reproducibility using np.random.seed(). It then generates random samples from two normal distributions with known variances using the numpy.random.normal() function. The n1 and n2 variables specify the sample sizes, mu1 and mu2 specify the means of the two distributions (set to 0 in this example), and var1 and var2 specify the variances of the two distributions.\n",
    "\n",
    "Next, the program performs an F-test to determine if the variances are equal using the scipy.stats.ftest() function. The ftest() function takes two arrays of data as arguments and returns the F-value and p-value for the test.\n",
    "\n",
    "The program then calculates the degrees of freedom for the numerator and denominator of the F-distribution using the sample sizes minus 1. Finally, the program outputs the F-value, degrees of freedom, and p-value for the test using print() statements.\n",
    "\n",
    "\n",
    "\n",
    "\n",
    "\n",
    "\n",
    "\n"
   ]
  },
  {
   "cell_type": "markdown",
   "id": "beee2407",
   "metadata": {},
   "source": [
    "#### Q4.The variances of two populations are known to be 10 and 15. A sample of 12 observations is taken from each population. Conduct an F-test at the 5% significance level to determine if the variances are significantly different.\n"
   ]
  },
  {
   "cell_type": "markdown",
   "id": "f0729b06",
   "metadata": {},
   "source": [
    "To conduct an F-test to determine if the variances of two populations are significantly different, we need to calculate the F-statistic and compare it to the critical F-value from an F-distribution with (n1-1) and (n2-1) degrees of freedom.\n",
    "\n",
    "The null hypothesis for the F-test is that the variances of the two populations are equal, and the alternative hypothesis is that they are significantly different.\n",
    "\n",
    "The formula for the F-statistic is:\n",
    "\n",
    "F = s1^2 / s2^2\n",
    "\n",
    "where s1^2 and s2^2 are the sample variances of the two populations.\n",
    "\n",
    "We first calculate the sample variances using the given information:\n",
    "\n",
    "s1^2 = 10 (given)\n",
    "s2^2 = 15 (given)\n",
    "\n",
    "We then calculate the F-statistic:\n",
    "\n",
    "F = s1^2 / s2^2 = 10 / 15 = 0.6667\n",
    "\n",
    "Next, we need to find the critical F-value from an F-distribution with (n1-1) and (n2-1) degrees of freedom. In this case, we have 12 observations from each population, so the degrees of freedom are:\n",
    "\n",
    "df1 = 12 - 1 = 11\n",
    "df2 = 12 - 1 = 11\n",
    "\n",
    "Using a statistical software or an F-table, we can find the critical F-value for a 5% significance level and the given degrees of freedom:\n",
    "\n",
    "Fcritical = 3.49\n",
    "\n",
    "Finally, we compare the calculated F-statistic to the critical F-value. If the calculated F-statistic is greater than the critical F-value, we reject the null hypothesis and conclude that the variances of the two populations are significantly different. Otherwise, we fail to reject the null hypothesis.\n",
    "\n",
    "In this case, the calculated F-statistic (0.6667) is less than the critical F-value (3.49), so we fail to reject the null hypothesis. Therefore, we do not have enough evidence to conclude that the variances of the two populations are significantly different at the 5% significance level."
   ]
  },
  {
   "cell_type": "markdown",
   "id": "475c012a",
   "metadata": {},
   "source": [
    "#### Q5. A manufacturer claims that the variance of the diameter of a certain product is 0.005. A sample of 25 products is taken, and the sample variance is found to be 0.006. Conduct an F-test at the 1% significance level to determine if the claim is justified.\n"
   ]
  },
  {
   "cell_type": "markdown",
   "id": "e2efb8e7",
   "metadata": {},
   "source": [
    "To conduct an F-test to determine if the claim about the variance of the diameter of a certain product is justified, we need to calculate the F-statistic and compare it to the critical F-value from an F-distribution with (n-1) degrees of freedom.\n",
    "\n",
    "The null hypothesis for the F-test is that the variance of the diameter of the product is equal to the claimed value of 0.005, and the alternative hypothesis is that it is significantly different.\n",
    "\n",
    "The formula for the F-statistic is:\n",
    "\n",
    "F = s^2 / σ^2\n",
    "\n",
    "where s^2 is the sample variance, and σ^2 is the claimed population variance.\n",
    "\n",
    "We first calculate the sample variance using the given information:\n",
    "\n",
    "s^2 = 0.006 (given)\n",
    "\n",
    "We then use the claimed population variance to calculate the F-statistic:\n",
    "\n",
    "F = s^2 / σ^2 = 0.006 / 0.005 = 1.2\n",
    "\n",
    "Next, we need to find the critical F-value from an F-distribution with (n-1) degrees of freedom. In this case, we have 25 observations, so the degrees of freedom are:\n",
    "\n",
    "df = 25 - 1 = 24\n",
    "\n",
    "Using a statistical software or an F-table, we can find the critical F-value for a 1% significance level and 24 degrees of freedom:\n",
    "\n",
    "Fcritical = 2.78\n",
    "\n",
    "Finally, we compare the calculated F-statistic to the critical F-value. If the calculated F-statistic is greater than the critical F-value, we reject the null hypothesis and conclude that the claim about the variance of the diameter of the product is not justified. Otherwise, we fail to reject the null hypothesis.\n",
    "\n",
    "In this case, the calculated F-statistic (1.2) is less than the critical F-value (2.78), so we fail to reject the null hypothesis. Therefore, we do not have enough evidence to conclude that the claimed variance of the diameter of the product is not justified at the 1% significance level."
   ]
  },
  {
   "cell_type": "markdown",
   "id": "36286ff8",
   "metadata": {},
   "source": [
    "#### Q6. Write a Python function that takes in the degrees of freedom for the numerator and denominator of an F-distribution and calculates the mean and variance of the distribution. The function should return the mean and variance as a tuple.\n"
   ]
  },
  {
   "cell_type": "code",
   "execution_count": 6,
   "id": "98bdc131",
   "metadata": {},
   "outputs": [],
   "source": [
    "import numpy as np\n",
    "from scipy.stats import f\n",
    "\n",
    "def f_distribution_mean_var(df_num, df_denom):\n",
    "    \"\"\"\n",
    "    Calculate the mean and variance of an F-distribution given the degrees of freedom for the numerator and denominator.\n",
    "    \n",
    "    Parameters:\n",
    "    -----------\n",
    "    df_num : int\n",
    "        Degrees of freedom for the numerator.\n",
    "    df_denom : int\n",
    "        Degrees of freedom for the denominator.\n",
    "        \n",
    "    Returns:\n",
    "    --------\n",
    "    Tuple(float, float)\n",
    "        Mean and variance of the F-distribution.\n",
    "    \"\"\"\n",
    "    mean = df_denom / (df_denom - 2.0) if df_denom > 2 else np.nan\n",
    "    var = (2.0 * df_denom**2 * (df_num + df_denom - 2)) / (df_num * (df_denom - 2)**2 * (df_denom - 4)) if df_denom > 4 else np.nan\n",
    "    return mean, var\n"
   ]
  },
  {
   "cell_type": "markdown",
   "id": "8d9f383b",
   "metadata": {},
   "source": [
    "The function takes two integer arguments: df_num for the degrees of freedom of the numerator and df_denom for the degrees of freedom of the denominator. It then calculates the mean and variance of the F-distribution using the formulas:"
   ]
  },
  {
   "cell_type": "code",
   "execution_count": 7,
   "id": "a371e9a7",
   "metadata": {},
   "outputs": [],
   "source": [
    "mean = df_denom / (df_denom - 2)\n",
    "var = (2 * df_denom^2 * (df_num + df_denom - 2)) / (df_num * (df_denom - 2)^2 * (df_denom - 4))\n"
   ]
  },
  {
   "cell_type": "markdown",
   "id": "ca44a755",
   "metadata": {},
   "source": [
    "Note that we use the scipy.stats.f function to check whether the degrees of freedom for the denominator are greater than 2 and 4, which are required for the mean and variance formulas, respectively. If the degrees of freedom are less than these values, the function returns nan (not a number) for the corresponding mean and variance.\n",
    "\n",
    "The function then returns the mean and variance as a tuple."
   ]
  },
  {
   "cell_type": "markdown",
   "id": "a83eafe0",
   "metadata": {},
   "source": [
    "#### Q7. A random sample of 10 measurements is taken from a normal population with unknown variance. The sample variance is found to be 25. Another random sample of 15 measurements is taken from another normal population with unknown variance, and the sample variance is found to be 20. Conduct an F-test at the 10% significance level to determine if the variances are significantly different.\n"
   ]
  },
  {
   "cell_type": "markdown",
   "id": "bc47224b",
   "metadata": {},
   "source": [
    "To conduct an F-test to determine if two population variances are significantly different, we need to compare the sample variances using the F-statistic and then compare it to the critical F-value at the desired significance level. Here's the step-by-step process:\n",
    "\n",
    "Step 1: Define the null and alternative hypotheses. The null hypothesis is that the variances of the two populations are equal, while the alternative hypothesis is that they are not equal.\n",
    "\n",
    "\n",
    "    H0: σ1^2 = σ2^2\n",
    "    Ha: σ1^2 ≠ σ2^2\n",
    "Step 2: Set the significance level α. In this case, α = 0.10.\n",
    "\n",
    "Step 3: Calculate the F-statistic:\n",
    "\n",
    "\n",
    "F = s1^2 / s2^2\n",
    "where s1^2 and s2^2 are the sample variances for the first and second populations, respectively.\n",
    "\n",
    "\n",
    "    s1^2 = 25\n",
    "    s2^2 = 20\n",
    "    F = 25 / 20\n",
    "    F = 1.25\n",
    "\n",
    "Step 4: Find the critical F-value at α/2 and degrees of freedom (df1, df2). The degrees of freedom for the numerator and denominator are given by (n1 - 1) and (n2 - 1), respectively.\n",
    "\n",
    "\n",
    "    df1 = n1 - 1 = 10 - 1 = 9\n",
    "    df2 = n2 - 1 = 15 - 1 = 14\n",
    "    F_crit = F.ppf(α/2, df1, df2)\n",
    "    F_crit = F.ppf(0.05, 9, 14)\n",
    "    F_crit = 2.413\n",
    "where F.ppf is the percent point function (inverse of the cumulative distribution function) of the F-distribution in the scipy.stats module.\n",
    "\n",
    "Step 5: Compare the F-statistic to the critical F-value. If the F-statistic is greater than the critical F-value, reject the null hypothesis; otherwise, fail to reject the null hypothesis.\n",
    "\n",
    "\n",
    "    F < F_crit\n",
    "    1.25 < 2.413\n",
    "Therefore, we fail to reject the null hypothesis at the 10% significance level. We do not have sufficient evidence to conclude that the variances of the two populations are significantly different."
   ]
  },
  {
   "cell_type": "markdown",
   "id": "b88d5731",
   "metadata": {},
   "source": [
    "#### Q8. The following data represent the waiting times in minutes at two different restaurants on a Saturday night: Restaurant A: 24, 25, 28, 23, 22, 20, 27; Restaurant B: 31, 33, 35, 30, 32, 36. Conduct an F-test at the 5% significance level to determine if the variances are significantly different.\n"
   ]
  },
  {
   "cell_type": "markdown",
   "id": "d428bee4",
   "metadata": {},
   "source": [
    "To conduct an F-test to determine if two population variances are significantly different, we need to compare the sample variances using the F-statistic and then compare it to the critical F-value at the desired significance level. Here's the step-by-step process:\n",
    "\n",
    "Step 1: Define the null and alternative hypotheses. The null hypothesis is that the variances of the two populations are equal, while the alternative hypothesis is that they are not equal.\n",
    "\n",
    "\n",
    "    H0: σ1^2 = σ2^2\n",
    "    Ha: σ1^2 ≠ σ2^2\n",
    "Step 2: Set the significance level α. In this case, α = 0.05.\n",
    "\n",
    "Step 3: Calculate the sample variances for each restaurant.\n",
    "\n",
    "\n",
    "    n1 = 7, x1 = [24, 25, 28, 23, 22, 20, 27]\n",
    "    s1^2 = 8.2857\n",
    "\n",
    "    n2 = 6, x2 = [31, 33, 35, 30, 32, 36]\n",
    "    s2^2 = 6.6667\n",
    "where n is the sample size, x is the sample data, and s^2 is the sample variance.\n",
    "\n",
    "Step 4: Calculate the F-statistic:\n",
    "\n",
    "\n",
    "    F = s1^2 / s2^2\n",
    "    F = 8.2857 / 6.6667\n",
    "    F = 1.2432\n",
    "Step 5: Find the critical F-value at α/2 and degrees of freedom (df1, df2). The degrees of freedom for the numerator and denominator are given by (n1 - 1) and (n2 - 1), respectively.\n",
    "\n",
    "\n",
    "    df1 = n1 - 1 = 6\n",
    "    df2 = n2 - 1 = 5\n",
    "    F_crit = F.ppf(α/2, df1, df2)\n",
    "    F_crit = F.ppf(0.025, 6, 5)\n",
    "    F_crit = 5.987\n",
    "where F.ppf is the percent point function (inverse of the cumulative distribution function) of the F-distribution in the scipy.stats module.\n",
    "\n",
    "Step 6: Compare the F-statistic to the critical F-value. If the F-statistic is greater than the critical F-value, reject the null hypothesis; otherwise, fail to reject the null hypothesis.\n",
    "\n",
    "\n",
    "    F < F_crit\n",
    "    1.2432 < 5.987\n",
    "Therefore, we fail to reject the null hypothesis at the 5% significance level. We do not have sufficient evidence to conclude that the variances of the two populations are significantly different."
   ]
  },
  {
   "cell_type": "markdown",
   "id": "d49531e6",
   "metadata": {},
   "source": [
    "#### Q9. The following data represent the test scores of two groups of students: Group A: 80, 85, 90, 92, 87, 83; Group B: 75, 78, 82, 79, 81, 84. Conduct an F-test at the 1% significance level to determine if the variances are significantly different."
   ]
  },
  {
   "cell_type": "markdown",
   "id": "1b3420e3",
   "metadata": {},
   "source": [
    "To conduct an F-test to determine if two population variances are significantly different, we need to compare the sample variances using the F-statistic and then compare it to the critical F-value at the desired significance level. Here's the step-by-step process:\n",
    "\n",
    "Step 1: Define the null and alternative hypotheses. The null hypothesis is that the variances of the two populations are equal, while the alternative hypothesis is that they are not equal.\n",
    "\n",
    "\n",
    "    H0: σ1^2 = σ2^2\n",
    "    Ha: σ1^2 ≠ σ2^2\n",
    "Step 2: Set the significance level α. In this case, α = 0.01.\n",
    "\n",
    "Step 3: Calculate the sample variances for each group.\n",
    "\n",
    "\n",
    "    n1 = 6, x1 = [80, 85, 90, 92, 87, 83]\n",
    "    s1^2 = 26.6667\n",
    "\n",
    "    n2 = 6, x2 = [75, 78, 82, 79, 81, 84]\n",
    "    s2^2 = 9.2\n",
    "where n is the sample size, x is the sample data, and s^2 is the sample variance.\n",
    "\n",
    "Step 4: Calculate the F-statistic:\n",
    "\n",
    "\n",
    "    F = s1^2 / s2^2\n",
    "    F = 26.6667 / 9.2\n",
    "    F = 2.8978\n",
    "Step 5: Find the critical F-value at α/2 and degrees of freedom (df1, df2). The degrees of freedom for the numerator and denominator are given by (n1 - 1) and (n2 - 1), respectively.\n",
    "\n",
    "\n",
    "    df1 = n1 - 1 = 5\n",
    "    df2 = n2 - 1 = 5\n",
    "    F_crit = F.ppf(α/2, df1, df2)\n",
    "    F_crit = F.ppf(0.005, 5, 5)\n",
    "    F_crit = 5.987\n",
    "where F.ppf is the percent point function (inverse of the cumulative distribution function) of the F-distribution in the scipy.stats module.\n",
    "\n",
    "Step 6: Compare the F-statistic to the critical F-value. If the F-statistic is greater than the critical F-value, reject the null hypothesis; otherwise, fail to reject the null hypothesis.\n",
    "\n",
    "\n",
    "    F < F_crit\n",
    "    2.8978 < 5.987\n",
    "Therefore, we fail to reject the null hypothesis at the 1% significance level. We do not have sufficient evidence to conclude that the variances of the two populations are significantly different"
   ]
  },
  {
   "cell_type": "code",
   "execution_count": null,
   "id": "f0a9d2ea",
   "metadata": {},
   "outputs": [],
   "source": []
  }
 ],
 "metadata": {
  "kernelspec": {
   "display_name": "Python 3 (ipykernel)",
   "language": "python",
   "name": "python3"
  },
  "language_info": {
   "codemirror_mode": {
    "name": "ipython",
    "version": 3
   },
   "file_extension": ".py",
   "mimetype": "text/x-python",
   "name": "python",
   "nbconvert_exporter": "python",
   "pygments_lexer": "ipython3",
   "version": "3.9.12"
  }
 },
 "nbformat": 4,
 "nbformat_minor": 5
}
