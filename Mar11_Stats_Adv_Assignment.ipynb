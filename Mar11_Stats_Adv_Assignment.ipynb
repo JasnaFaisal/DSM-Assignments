{
 "cells": [
  {
   "cell_type": "markdown",
   "id": "68fab56f",
   "metadata": {},
   "source": [
    "#### Q1: What is the difference between a t-test and a z-test? Provide an example scenario where you would use each type of test.\n"
   ]
  },
  {
   "cell_type": "markdown",
   "id": "03452e18",
   "metadata": {},
   "source": [
    "The main difference between a t-test and a z-test is the knowledge of the population standard deviation. A z-test is used when the population standard deviation is known, while a t-test is used when the population standard deviation is unknown and must be estimated from the sample data.\n",
    "\n",
    "An example scenario where a z-test would be used is when a researcher wants to determine whether the mean weight of a population of apples is significantly different from a known value of 5 ounces. In this case, the researcher would use a z-test because the population standard deviation is known.\n",
    "\n",
    "An example scenario where a t-test would be used is when a researcher wants to determine whether there is a significant difference in the mean weight of two groups of apples. In this case, the researcher would use a t-test because the population standard deviation is unknown and must be estimated from the sample data."
   ]
  },
  {
   "cell_type": "markdown",
   "id": "241b16a5",
   "metadata": {},
   "source": [
    "#### Q2: Differentiate between one-tailed and two-tailed tests.\n"
   ]
  },
  {
   "cell_type": "markdown",
   "id": "a09aff55",
   "metadata": {},
   "source": [
    "In hypothesis testing, a one-tailed test is a statistical test where the null hypothesis is tested against an alternative hypothesis in a single direction, either a greater-than or less-than direction. A one-tailed test is also known as a directional test, as the alternative hypothesis specifies the direction of the expected effect. The critical region for a one-tailed test is either in the upper tail or lower tail of the sampling distribution.\n",
    "\n",
    "On the other hand, a two-tailed test is a statistical test where the null hypothesis is tested against an alternative hypothesis in two directions, either a greater-than or less-than direction. A two-tailed test is also known as a non-directional test, as the alternative hypothesis does not specify the direction of the expected effect. The critical region for a two-tailed test is split between the upper and lower tails of the sampling distribution.\n",
    "\n",
    "In summary, the main difference between one-tailed and two-tailed tests is the directionality of the alternative hypothesis and the placement of the critical region. One-tailed tests are used when there is a specific directional hypothesis, while two-tailed tests are used when there is no specific directional hypothesis or when the researcher wants to test for the possibility of an effect in either direction."
   ]
  },
  {
   "cell_type": "markdown",
   "id": "97207c05",
   "metadata": {},
   "source": [
    "#### Q3: Explain the concept of Type 1 and Type 2 errors in hypothesis testing. Provide an example scenario for each type of error.\n"
   ]
  },
  {
   "cell_type": "markdown",
   "id": "1a39ec37",
   "metadata": {},
   "source": [
    "Type 1 and Type 2 errors are possible outcomes of hypothesis testing.\n",
    "\n",
    "Type 1 error occurs when we reject a true null hypothesis. This means we conclude that there is a significant effect or difference when in reality there is not. The probability of making a Type 1 error is denoted as alpha (α), and is typically set at 0.05 or 0.01. In other words, if we perform the same experiment many times, we would expect to make a Type 1 error 5% or 1% of the time, respectively.\n",
    "\n",
    "An example scenario of a Type 1 error is a drug trial where the null hypothesis is that the new drug has no effect on a certain medical condition. However, due to chance or other factors, the study finds a statistically significant effect even though the drug does not actually work. This can lead to the drug being approved for use when it should not be, potentially putting patients at risk.\n",
    "\n",
    "Type 2 error occurs when we fail to reject a false null hypothesis. This means we conclude that there is no significant effect or difference when in reality there is one. The probability of making a Type 2 error is denoted as beta (β) and is influenced by factors such as sample size, effect size, and the chosen significance level.\n",
    "\n",
    "An example scenario of a Type 2 error is a drug trial where the null hypothesis is that the new drug has no effect on a certain medical condition. However, due to a small sample size or other factors, the study fails to find a statistically significant effect even though the drug actually works. This can lead to the drug not being approved for use when it should be, denying patients a potentially beneficial treatment.\n",
    "\n",
    "In general, it is important to balance the risk of Type 1 and Type 2 errors when designing experiments and interpreting statistical results."
   ]
  },
  {
   "cell_type": "markdown",
   "id": "b947fdd2",
   "metadata": {},
   "source": [
    "#### Q4: Explain Bayes's theorem with an example.\n"
   ]
  },
  {
   "cell_type": "markdown",
   "id": "ca60b5bc",
   "metadata": {},
   "source": [
    "Bayes's theorem is a mathematical formula for calculating conditional probabilities. It allows us to calculate the probability of an event occurring, given that another event has occurred. The theorem is named after Thomas Bayes, an 18th-century mathematician and Presbyterian minister.\n",
    "\n",
    "The formula for Bayes's theorem is:\n",
    "\n",
    "P(A|B) = P(B|A) x P(A) / P(B)\n",
    "\n",
    "Where:\n",
    "P(A|B) is the probability of event A occurring, given that event B has occurred\n",
    "P(B|A) is the probability of event B occurring, given that event A has occurred\n",
    "P(A) is the prior probability of event A occurring\n",
    "P(B) is the prior probability of event B occurring\n",
    "\n",
    "Example scenario:\n",
    "\n",
    "Suppose we have a medical test for a certain disease. The test is 90% accurate, meaning that if a person has the disease, there is a 90% chance that the test will correctly identify it. However, if a person does not have the disease, there is still a 10% chance that the test will falsely identify them as having the disease.\n",
    "\n",
    "Suppose we know that 1% of the population actually has the disease. Now, suppose a person tests positive for the disease. What is the probability that they actually have the disease?\n",
    "\n",
    "Let A be the event that the person has the disease, and B be the event that the person tests positive. Using Bayes's theorem, we can calculate:\n",
    "\n",
    "P(A|B) = P(B|A) x P(A) / P(B)\n",
    "\n",
    "where:\n",
    "\n",
    "    P(B|A) = 0.9 (the probability of testing positive given that the person has the disease)\n",
    "    P(A) = 0.01 (the prior probability of the person having the disease)\n",
    "    P(B) = P(B|A) x P(A) + P(B|not A) x P(not A)\n",
    "    = 0.9 x 0.01 + 0.1 x 0.99\n",
    "    = 0.108\n",
    "\n",
    "Plugging in the values, we get:\n",
    "\n",
    "    P(A|B) = 0.9 x 0.01 / 0.108\n",
    "    = 0.083\n",
    "\n",
    "So the probability that the person actually has the disease given a positive test result is only 8.3%. This shows that even with a highly accurate test, there is still a significant chance of a false positive result."
   ]
  },
  {
   "cell_type": "markdown",
   "id": "5d54f2fe",
   "metadata": {},
   "source": [
    "#### Q5: What is a confidence interval? How to calculate the confidence interval, explain with an example.\n"
   ]
  },
  {
   "cell_type": "markdown",
   "id": "4ee6741d",
   "metadata": {},
   "source": [
    "A confidence interval is a range of values that provides an estimate of the true value of a population parameter with a certain level of confidence. It is typically represented as an interval around a sample statistic, such as a mean or proportion.\n",
    "\n",
    "The calculation of a confidence interval involves three main components: the sample statistic, the level of confidence, and the standard error. The sample statistic is the value calculated from a sample of data, such as a sample mean or proportion. The level of confidence represents the percentage of times the true population parameter is expected to fall within the confidence interval, typically expressed as a percentage such as 90%, 95%, or 99%. The standard error is a measure of the variability of the sample statistic and is typically calculated using the sample size and sample standard deviation or standard error.\n",
    "\n",
    "The formula for a confidence interval is:\n",
    "\n",
    "Confidence interval = sample statistic ± (critical value) x (standard error)\n",
    "\n",
    "where the critical value is determined based on the level of confidence and the distribution of the data.\n",
    "\n",
    "For example, suppose we want to estimate the average height of all male high school students in a certain city. We take a random sample of 100 male high school students and find the sample mean height to be 68 inches with a sample standard deviation of 2 inches. We want to calculate a 95% confidence interval for the true population mean height.\n",
    "\n",
    "Using a t-distribution with 99 degrees of freedom (corresponding to a sample size of 100), we find the critical value to be 1.984. The standard error is calculated as 2 / sqrt(100) = 0.2. Therefore, the 95% confidence interval for the true population mean height is:\n",
    "\n",
    "68 ± 1.984 x 0.2 = (67.604, 68.396)\n",
    "\n",
    "We can interpret this as saying that we are 95% confident that the true population mean height of male high school students in this city falls between 67.604 and 68.396 inches."
   ]
  },
  {
   "cell_type": "markdown",
   "id": "ef4f1fb7",
   "metadata": {},
   "source": [
    "#### Q6. Use Bayes' Theorem to calculate the probability of an event occurring given prior knowledge of the event's probability and new evidence. Provide a sample problem and solution.\n"
   ]
  },
  {
   "cell_type": "markdown",
   "id": "aaa65c91",
   "metadata": {},
   "source": [
    "Sure, here's an example problem and solution:\n",
    "\n",
    "Suppose a factory produces two types of products, A and B. Historically, 60% of the products produced are of type A and the remaining 40% are of type B. The factory uses a quality control system to identify defective products. The system has a 90% chance of correctly identifying a defective product, but it also has a 10% chance of incorrectly flagging a good product as defective. If a product is identified as defective, what is the probability that it is actually of type B?\n",
    "\n",
    "Solution:\n",
    "\n",
    "Let's use the following notation:\n",
    "\n",
    "    P(A) = probability of a product being of type A = 0.6\n",
    "    P(B) = probability of a product being of type B = 0.4\n",
    "    P(D|A) = probability of a product being identified as defective given that it is of type A = 0.1 (false positive rate)\n",
    "    P(D|B) = probability of a product being identified as defective given that it is of type B = 0.9 (true positive rate)\n",
    "    P(D) = probability of a product being identified as defective, regardless of type\n",
    "We want to calculate P(B|D), which is the probability of a product being of type B given that it is identified as defective.\n",
    "\n",
    "Using Bayes' theorem, we have:\n",
    "\n",
    "P(B|D) = P(D|B) * P(B) / P(D)\n",
    "\n",
    "We can calculate P(D) using the law of total probability:\n",
    "\n",
    "P(D) = P(D|A) * P(A) + P(D|B) * P(B)\n",
    "\n",
    "Plugging in the values, we get:\n",
    "\n",
    "P(D) = 0.1 * 0.6 + 0.9 * 0.4 = 0.46\n",
    "\n",
    "Now we can calculate P(B|D):\n",
    "\n",
    "    P(B|D) = P(D|B) * P(B) / P(D)\n",
    "    = 0.9 * 0.4 / 0.46\n",
    "    = 0.78\n",
    "\n",
    "Therefore, the probability that a product identified as defective is actually of type B is 0.78 or 78%."
   ]
  },
  {
   "cell_type": "markdown",
   "id": "75438ab5",
   "metadata": {},
   "source": [
    "#### Q7. Calculate the 95% confidence interval for a sample of data with a mean of 50 and a standard deviation of 5. Interpret the results.\n"
   ]
  },
  {
   "cell_type": "markdown",
   "id": "cd1ee000",
   "metadata": {},
   "source": [
    "To calculate the 95% confidence interval, we need to use the following formula:\n",
    "\n",
    "CI = X̄ ± z * (σ / √n)\n",
    "\n",
    "where X̄ is the sample mean, σ is the population standard deviation (or the sample standard deviation in case of small sample sizes), n is the sample size, and z is the z-score corresponding to the desired confidence level (in this case, 95%).\n",
    "\n",
    "Using a z-table, we find that the z-score for a 95% confidence level is 1.96.\n",
    "\n",
    "Plugging in the values we have:\n",
    "\n",
    "CI = 50 ± 1.96 * (5 / √n)\n",
    "\n",
    "We don't have a sample size given in the problem, so let's assume a sample size of 100:\n",
    "\n",
    "CI = 50 ± 1.96 * (5 / √100) = 50 ± 0.98\n",
    "\n",
    "The confidence interval is therefore (49.02, 50.98). This means we can be 95% confident that the true population mean falls within this interval.\n",
    "\n",
    "Interpretation: If we were to repeatedly take samples of size 100 from the same population, and calculate the 95% confidence interval for each sample, then we would expect 95% of these intervals to contain the true population mean. Alternatively, we can say that we are 95% confident that the true population mean falls between 49.02 and 50.98."
   ]
  },
  {
   "cell_type": "markdown",
   "id": "cf4f40c8",
   "metadata": {},
   "source": [
    "#### Q8. What is the margin of error in a confidence interval? How does sample size affect the margin of error? Provide an example of a scenario where a larger sample size would result in a smaller margin of error.\n"
   ]
  },
  {
   "cell_type": "markdown",
   "id": "6e8b1a28",
   "metadata": {},
   "source": [
    "The margin of error is a measure of the uncertainty in a statistical estimate, such as a mean or proportion, based on a sample of data. It represents the amount by which the estimate might vary if different samples were drawn from the same population and can be calculated using the formula:\n",
    "\n",
    "Margin of error = z* (standard deviation / square root of sample size)\n",
    "\n",
    "where z* is the critical value of the standard normal distribution that corresponds to the desired level of confidence (e.g., 1.96 for a 95% confidence level), and the standard deviation is the measure of variability in the population.\n",
    "\n",
    "The sample size has an inverse relationship with the margin of error. As the sample size increases, the margin of error decreases, meaning that the estimate becomes more precise. This is because larger samples provide more information about the population and reduce the effect of random sampling variability.\n",
    "\n",
    "For example, suppose a researcher wants to estimate the proportion of voters in a city who support a particular candidate in an upcoming election. They randomly select a sample of 400 voters and find that 55% of them support the candidate. They want to construct a 95% confidence interval for the true proportion of supporters in the population.\n",
    "\n",
    "Using the formula above, the margin of error can be calculated as:\n",
    "\n",
    "z* (standard deviation / square root of sample size) = 1.96 * sqrt(0.55 * 0.45 / 400) = 0.05\n",
    "\n",
    "Therefore, the 95% confidence interval for the true proportion of supporters in the population is 0.55 ± 0.05, or between 0.50 and 0.60.\n",
    "\n",
    "If the researcher had instead sampled 1,600 voters, keeping all other conditions the same, the margin of error would be:\n",
    "\n",
    "z* (standard deviation / square root of sample size) = 1.96 * sqrt(0.55 * 0.45 / 1600) = 0.025\n",
    "\n",
    "In this case, the margin of error is smaller because the sample size is larger. The 95% confidence interval for the true proportion of supporters in the population would be 0.55 ± 0.025, or between 0.525 and 0.575.\n",
    "\n",
    "Thus, a larger sample size results in a smaller margin of error and a more precise estimate of the population parameter."
   ]
  },
  {
   "cell_type": "markdown",
   "id": "6de014d1",
   "metadata": {},
   "source": [
    "#### Q9. Calculate the z-score for a data point with a value of 75, a population mean of 70, and a population standard deviation of 5. Interpret the results.\n"
   ]
  },
  {
   "cell_type": "markdown",
   "id": "01444239",
   "metadata": {},
   "source": [
    "To calculate the z-score, we use the formula:\n",
    "\n",
    "z = (x - μ) / σ\n",
    "\n",
    "where x is the value of the data point, μ is the population mean, and σ is the population standard deviation.\n",
    "\n",
    "Plugging in the values given in the question, we get:\n",
    "\n",
    "z = (75 - 70) / 5 = 1\n",
    "\n",
    "Therefore, the z-score for the data point with a value of 75 is 1.\n",
    "\n",
    "Interpretation: The z-score of 1 indicates that the data point is 1 standard deviation above the population mean. This means that the value of 75 is relatively high compared to the rest of the population and is located in the top 16% of the distribution (assuming a normal distribution)."
   ]
  },
  {
   "cell_type": "markdown",
   "id": "c29bea2d",
   "metadata": {},
   "source": [
    "#### Q10. In a study of the effectiveness of a new weight loss drug, a sample of 50 participants lost an average of 6 pounds with a standard deviation of 2.5 pounds. Conduct a hypothesis test to determine if the drug is significantly effective at a 95% confidence level using a t-test.\n"
   ]
  },
  {
   "cell_type": "markdown",
   "id": "018fc5ae",
   "metadata": {},
   "source": [
    "To test the hypothesis, we can use a one-sample t-test. The null hypothesis is that the true mean weight loss is equal to zero (i.e., the drug is not effective), and the alternative hypothesis is that the true mean weight loss is greater than zero (i.e., the drug is effective).\n",
    "\n",
    "Let's define our hypotheses:\n",
    "\n",
    "H0: μ = 0\n",
    "Ha: μ > 0\n",
    "\n",
    "We will use a significance level of α = 0.05, which corresponds to a 95% confidence level.\n",
    "\n",
    "The test statistic for a one-sample t-test is calculated as:\n",
    "\n",
    "t = (x̄ - μ) / (s / sqrt(n))\n",
    "\n",
    "where x̄ is the sample mean, μ is the hypothesized population mean (0 in this case), s is the sample standard deviation, and n is the sample size.\n",
    "\n",
    "Plugging in the values given in the question, we get:\n",
    "\n",
    "t = (6 - 0) / (2.5 / sqrt(50)) = 12\n",
    "\n",
    "The degrees of freedom for the t-distribution is n - 1, which is 49 in this case.\n",
    "\n",
    "Using a t-table or a t-distribution calculator with 49 degrees of freedom, the critical t-value for a one-tailed test at a 95% confidence level is approximately 1.68.\n",
    "\n",
    "Since the calculated t-value of 12 is greater than the critical t-value of 1.68, we reject the null hypothesis and conclude that the drug is significantly effective at a 95% confidence level.\n",
    "\n",
    "In other words, the evidence suggests that the true mean weight loss for the population is likely to be greater than zero, and the observed sample mean of 6 pounds is not likely to be due to chance alone."
   ]
  },
  {
   "cell_type": "markdown",
   "id": "42d1dff0",
   "metadata": {},
   "source": [
    "#### Q11. In a survey of 500 people, 65% reported being satisfied with their current job. Calculate the 95% confidence interval for the true proportion of people who are satisfied with their job.\n"
   ]
  },
  {
   "cell_type": "markdown",
   "id": "c86dd582",
   "metadata": {},
   "source": [
    "To calculate the 95% confidence interval for the true proportion of people who are satisfied with their job, we can use the formula:\n",
    "\n",
    "CI = p̂ ± z* sqrt((p̂(1 - p̂)) / n)\n",
    "\n",
    "where p̂ is the sample proportion, z* is the critical value of the standard normal distribution that corresponds to the desired level of confidence (1.96 for a 95% confidence level), and n is the sample size.\n",
    "\n",
    "Plugging in the values given in the question, we get:\n",
    "\n",
    "    p̂ = 0.65\n",
    "    z* = 1.96\n",
    "    n = 500\n",
    "\n",
    "CI = 0.65 ± 1.96 * sqrt((0.65 * 0.35) / 500)\n",
    "\n",
    "CI = 0.65 ± 0.045\n",
    "\n",
    "Therefore, the 95% confidence interval for the true proportion of people who are satisfied with their job is (0.605, 0.695).\n",
    "\n",
    "Interpretation: We are 95% confident that the true proportion of people who are satisfied with their job lies between 60.5% and 69.5%. This interval provides a range of plausible values for the population proportion based on the sample data."
   ]
  },
  {
   "cell_type": "markdown",
   "id": "d7d10f05",
   "metadata": {},
   "source": [
    "#### Q12. A researcher is testing the effectiveness of two different teaching methods on student performance. Sample A has a mean score of 85 with a standard deviation of 6, while sample B has a mean score of 82 with a standard deviation of 5. Conduct a hypothesis test to determine if the two teaching methods have a significant difference in student performance using a t-test with a significance level of 0.01.\n"
   ]
  },
  {
   "cell_type": "markdown",
   "id": "cde3e43e",
   "metadata": {},
   "source": [
    "To test the hypothesis, we can use a two-sample t-test. The null hypothesis is that there is no significant difference between the means of the two teaching methods, and the alternative hypothesis is that there is a significant difference.\n",
    "\n",
    "Let's define our hypotheses:\n",
    "\n",
    "H0: μA - μB = 0\n",
    "Ha: μA - μB ≠ 0\n",
    "\n",
    "We will use a significance level of α = 0.01."
   ]
  },
  {
   "cell_type": "markdown",
   "id": "680f8b8c",
   "metadata": {},
   "source": [
    "The test statistic for a two-sample t-test is calculated as:\n",
    "\n",
    "t = (x̄A - x̄B) / sqrt((sA^2 / nA) + (sB^2 / nB))\n",
    "\n",
    "where x̄A and x̄B are the sample means, sA and sB are the sample standard deviations, and nA and nB are the sample sizes.\n",
    "\n",
    "Plugging in the values given in the question, we get:\n",
    "\n",
    "x̄A = 85\n",
    "sA = 6\n",
    "nA = ?\n",
    "x̄B = 82\n",
    "sB = 5\n",
    "nB = ?\n",
    "\n",
    "Unfortunately, we do not have the sample sizes for the two samples, so we cannot proceed with the hypothesis test without that information. We would need to know the sample sizes to calculate the degrees of freedom and the critical t-value for the test.\n",
    "\n",
    "Without that information, we cannot determine whether the two teaching methods have a significant difference in student performance using a t-test with a significance level of 0.01."
   ]
  },
  {
   "cell_type": "markdown",
   "id": "b981527c",
   "metadata": {},
   "source": [
    "#### Q13. A population has a mean of 60 and a standard deviation of 8. A sample of 50 observations has a mean of 65. Calculate the 90% confidence interval for the true population mean.\n"
   ]
  },
  {
   "cell_type": "markdown",
   "id": "fe3aba57",
   "metadata": {},
   "source": [
    "To calculate the 90% confidence interval for the true population mean, we can use the formula:\n",
    "\n",
    "CI = x̄ ± z*(σ / sqrt(n))\n",
    "\n",
    "where x̄ is the sample mean, σ is the population standard deviation, n is the sample size, and z* is the critical value of the standard normal distribution that corresponds to the desired level of confidence.\n",
    "\n",
    "Plugging in the values given in the question, we get:\n",
    "\n",
    "x̄ = 65\n",
    "σ = 8\n",
    "n = 50\n",
    "z* = 1.645 (from a standard normal distribution table for a 90% confidence level)\n",
    "\n",
    "CI = 65 ± 1.645*(8 / sqrt(50))\n",
    "\n",
    "CI = 65 ± 2.337\n",
    "\n",
    "Therefore, the 90% confidence interval for the true population mean is (62.663, 67.337).\n",
    "\n",
    "Interpretation: We are 90% confident that the true population mean lies between 62.663 and 67.337. This interval provides a range of plausible values for the population mean based on the sample data."
   ]
  },
  {
   "cell_type": "markdown",
   "id": "b3163efc",
   "metadata": {},
   "source": [
    "#### Q14. In a study of the effects of caffeine on reaction time, a sample of 30 participants had an average reaction time of 0.25 seconds with a standard deviation of 0.05 seconds. Conduct a hypothesis test to determine if the caffeine has a significant effect on reaction time at a 90% confidence level using a t-test."
   ]
  },
  {
   "cell_type": "markdown",
   "id": "18614525",
   "metadata": {},
   "source": [
    "To test the hypothesis, we can use a one-sample t-test. The null hypothesis is that there is no significant difference in reaction time between the control group (no caffeine) and the experimental group (caffeine), and the alternative hypothesis is that there is a significant difference.\n",
    "\n",
    "Let's define our hypotheses:\n",
    "\n",
    "    H0: μ = 0.25\n",
    "    Ha: μ ≠ 0.25\n",
    "\n",
    "We will use a significance level of α = 0.1 (90% confidence level).\n",
    "\n",
    "The test statistic for a one-sample t-test is calculated as:\n",
    "\n",
    "t = (x̄ - μ) / (s / sqrt(n))\n",
    "\n",
    "where x̄ is the sample mean, μ is the hypothesized population mean under the null hypothesis, s is the sample standard deviation, and n is the sample size.\n",
    "\n",
    "Plugging in the values given in the question, we get:\n",
    "\n",
    "    x̄ = 0.25\n",
    "    μ = 0.25\n",
    "    s = 0.05\n",
    "    n = 30\n",
    "\n",
    "t = (0.25 - 0.25) / (0.05 / sqrt(30))\n",
    "\n",
    "t = 0\n",
    "\n",
    "The calculated t-statistic is zero, which means that the sample mean is equal to the hypothesized population mean under the null hypothesis.\n",
    "\n",
    "To determine whether this result is statistically significant at the 90% confidence level, we need to compare the calculated t-value to the critical t-value from a t-distribution table with n-1 degrees of freedom and a significance level of α/2 = 0.05/2 = 0.025 (because this is a two-tailed test).\n",
    "\n",
    "For a sample size of 30 and a significance level of 0.025, the critical t-value is approximately ±2.048 (from a t-distribution table).\n",
    "\n",
    "Since our calculated t-value of 0 falls within the range of -2.048 to +2.048, we fail to reject the null hypothesis. This means we cannot conclude that caffeine has a significant effect on reaction time at a 90% confidence level.\n",
    "\n",
    "Interpretation: We cannot reject the null hypothesis that there is no significant difference in reaction time between the control group (no caffeine) and the experimental group (caffeine) at a 90% confidence level."
   ]
  },
  {
   "cell_type": "code",
   "execution_count": null,
   "id": "9437563a",
   "metadata": {},
   "outputs": [],
   "source": []
  }
 ],
 "metadata": {
  "kernelspec": {
   "display_name": "Python 3 (ipykernel)",
   "language": "python",
   "name": "python3"
  },
  "language_info": {
   "codemirror_mode": {
    "name": "ipython",
    "version": 3
   },
   "file_extension": ".py",
   "mimetype": "text/x-python",
   "name": "python",
   "nbconvert_exporter": "python",
   "pygments_lexer": "ipython3",
   "version": "3.9.12"
  }
 },
 "nbformat": 4,
 "nbformat_minor": 5
}
