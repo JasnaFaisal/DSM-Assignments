{
 "cells": [
  {
   "cell_type": "markdown",
   "id": "91fe658e",
   "metadata": {},
   "source": [
    "#### Q1. Create a Pandas Series that contains the following data: 4, 8, 15, 16, 23, and 42. Then, print the series."
   ]
  },
  {
   "cell_type": "code",
   "execution_count": 3,
   "id": "2dd5f017",
   "metadata": {},
   "outputs": [],
   "source": [
    "import pandas as pd"
   ]
  },
  {
   "cell_type": "code",
   "execution_count": 8,
   "id": "95fca4a7",
   "metadata": {},
   "outputs": [],
   "source": [
    "data=pd.Series([4,8,15,16,23,42])"
   ]
  },
  {
   "cell_type": "code",
   "execution_count": 9,
   "id": "c5caa2ba",
   "metadata": {},
   "outputs": [
    {
     "data": {
      "text/plain": [
       "pandas.core.series.Series"
      ]
     },
     "execution_count": 9,
     "metadata": {},
     "output_type": "execute_result"
    }
   ],
   "source": [
    "type(data)"
   ]
  },
  {
   "cell_type": "code",
   "execution_count": 10,
   "id": "855ac59e",
   "metadata": {},
   "outputs": [
    {
     "data": {
      "text/plain": [
       "0     4\n",
       "1     8\n",
       "2    15\n",
       "3    16\n",
       "4    23\n",
       "5    42\n",
       "dtype: int64"
      ]
     },
     "execution_count": 10,
     "metadata": {},
     "output_type": "execute_result"
    }
   ],
   "source": [
    "data"
   ]
  },
  {
   "cell_type": "markdown",
   "id": "71377abf",
   "metadata": {},
   "source": [
    "#### Q2. Create a variable of list type containing 10 elements in it, and apply pandas.Series function on the variable print it."
   ]
  },
  {
   "cell_type": "code",
   "execution_count": 12,
   "id": "65247f62",
   "metadata": {},
   "outputs": [
    {
     "data": {
      "text/plain": [
       "0                 1\n",
       "1             JASNA\n",
       "2      Data science\n",
       "3                 2\n",
       "4            faisal\n",
       "5                 3\n",
       "6                 5\n",
       "7                 7\n",
       "8    masters course\n",
       "9                10\n",
       "dtype: object"
      ]
     },
     "execution_count": 12,
     "metadata": {},
     "output_type": "execute_result"
    }
   ],
   "source": [
    "list1=[1,'JASNA','Data science',2,'faisal',3,5,7,'masters course',10]\n",
    "pd.Series(list1)"
   ]
  },
  {
   "cell_type": "markdown",
   "id": "9664ac0c",
   "metadata": {},
   "source": [
    "#### Q3. Create a Pandas DataFrame that contains the following data:"
   ]
  },
  {
   "attachments": {
    "image.png": {
     "image/png": "[encoded data removed]"
    }
   },
   "cell_type": "markdown",
   "id": "bf260547",
   "metadata": {},
   "source": [
    "![image.png](attachment:image.png)\n",
    "\n",
    "Print the data frame"
   ]
  },
  {
   "cell_type": "code",
   "execution_count": 21,
   "id": "36433e03",
   "metadata": {},
   "outputs": [],
   "source": [
    "data=pd.DataFrame({'Name':['Alice','Bob','Claire'],'Age':[25,30,27],'Gender':['Female','Male','Female']})\n",
    "               "
   ]
  },
  {
   "cell_type": "code",
   "execution_count": 22,
   "id": "3164ae9e",
   "metadata": {},
   "outputs": [
    {
     "data": {
      "text/html": [
       "<div>\n",
       "<style scoped>\n",
       "    .dataframe tbody tr th:only-of-type {\n",
       "        vertical-align: middle;\n",
       "    }\n",
       "\n",
       "    .dataframe tbody tr th {\n",
       "        vertical-align: top;\n",
       "    }\n",
       "\n",
       "    .dataframe thead th {\n",
       "        text-align: right;\n",
       "    }\n",
       "</style>\n",
       "<table border=\"1\" class=\"dataframe\">\n",
       "  <thead>\n",
       "    <tr style=\"text-align: right;\">\n",
       "      <th></th>\n",
       "      <th>Name</th>\n",
       "      <th>Age</th>\n",
       "      <th>Gender</th>\n",
       "    </tr>\n",
       "  </thead>\n",
       "  <tbody>\n",
       "    <tr>\n",
       "      <th>0</th>\n",
       "      <td>Alice</td>\n",
       "      <td>25</td>\n",
       "      <td>Female</td>\n",
       "    </tr>\n",
       "    <tr>\n",
       "      <th>1</th>\n",
       "      <td>Bob</td>\n",
       "      <td>30</td>\n",
       "      <td>Male</td>\n",
       "    </tr>\n",
       "    <tr>\n",
       "      <th>2</th>\n",
       "      <td>Claire</td>\n",
       "      <td>27</td>\n",
       "      <td>Female</td>\n",
       "    </tr>\n",
       "  </tbody>\n",
       "</table>\n",
       "</div>"
      ],
      "text/plain": [
       "     Name  Age  Gender\n",
       "0   Alice   25  Female\n",
       "1     Bob   30    Male\n",
       "2  Claire   27  Female"
      ]
     },
     "execution_count": 22,
     "metadata": {},
     "output_type": "execute_result"
    }
   ],
   "source": [
    "data"
   ]
  },
  {
   "cell_type": "markdown",
   "id": "b85a347e",
   "metadata": {},
   "source": [
    "#### Q4. What is ‘DataFrame’ in pandas and how is it different from pandas.series? Explain with an example."
   ]
  },
  {
   "cell_type": "markdown",
   "id": "52825857",
   "metadata": {},
   "source": [
    "DataFrame and Series are two key data structures in the pandas library of Python.\n",
    "\n",
    "A Series is a one-dimensional labeled array that can hold any data type, such as integers, floating-point numbers, strings, etc. A DataFrame is a two-dimensional labeled data structure with columns of potentially different types.\n",
    "\n",
    "A DataFrame can be thought of as a collection of Series where each Series represents a column of data. We can create a DataFrame by passing a dictionary of Series objects to the pd.DataFrame() constructor.\n",
    "\n",
    "Here's an example to illustrate the difference between Series and DataFrame:"
   ]
  },
  {
   "cell_type": "code",
   "execution_count": 29,
   "id": "5242e4aa",
   "metadata": {},
   "outputs": [],
   "source": [
    "import pandas as pd\n",
    "\n",
    "# Create a Series\n",
    "ages = pd.Series([25, 32, 18, 47, 63], name='Age')\n",
    "\n",
    "# Create a DataFrame\n",
    "data = {'Name': ['John', 'Amy', 'Michael', 'Jessica', 'Samantha'],\n",
    "        'Age': [25, 32, 18, 47, 63],\n",
    "        'Gender': ['M', 'F', 'M', 'F', 'F']}\n",
    "df = pd.DataFrame(data)"
   ]
  },
  {
   "cell_type": "code",
   "execution_count": 27,
   "id": "3b0d57b9",
   "metadata": {},
   "outputs": [
    {
     "data": {
      "text/plain": [
       "0    25\n",
       "1    32\n",
       "2    18\n",
       "3    47\n",
       "4    63\n",
       "Name: Age, dtype: int64"
      ]
     },
     "execution_count": 27,
     "metadata": {},
     "output_type": "execute_result"
    }
   ],
   "source": [
    "ages"
   ]
  },
  {
   "cell_type": "markdown",
   "id": "23df5f1e",
   "metadata": {},
   "source": [
    "Here, ages is a Series that stores the ages of five individuals. The output shows the index and the corresponding values of the Series.\n",
    "\n",
    "Now, let's print the DataFrame df:"
   ]
  },
  {
   "cell_type": "code",
   "execution_count": 28,
   "id": "61c291eb",
   "metadata": {},
   "outputs": [
    {
     "data": {
      "text/html": [
       "<div>\n",
       "<style scoped>\n",
       "    .dataframe tbody tr th:only-of-type {\n",
       "        vertical-align: middle;\n",
       "    }\n",
       "\n",
       "    .dataframe tbody tr th {\n",
       "        vertical-align: top;\n",
       "    }\n",
       "\n",
       "    .dataframe thead th {\n",
       "        text-align: right;\n",
       "    }\n",
       "</style>\n",
       "<table border=\"1\" class=\"dataframe\">\n",
       "  <thead>\n",
       "    <tr style=\"text-align: right;\">\n",
       "      <th></th>\n",
       "      <th>Name</th>\n",
       "      <th>Age</th>\n",
       "      <th>Gender</th>\n",
       "    </tr>\n",
       "  </thead>\n",
       "  <tbody>\n",
       "    <tr>\n",
       "      <th>0</th>\n",
       "      <td>John</td>\n",
       "      <td>25</td>\n",
       "      <td>M</td>\n",
       "    </tr>\n",
       "    <tr>\n",
       "      <th>1</th>\n",
       "      <td>Amy</td>\n",
       "      <td>32</td>\n",
       "      <td>F</td>\n",
       "    </tr>\n",
       "    <tr>\n",
       "      <th>2</th>\n",
       "      <td>Michael</td>\n",
       "      <td>18</td>\n",
       "      <td>M</td>\n",
       "    </tr>\n",
       "    <tr>\n",
       "      <th>3</th>\n",
       "      <td>Jessica</td>\n",
       "      <td>47</td>\n",
       "      <td>F</td>\n",
       "    </tr>\n",
       "    <tr>\n",
       "      <th>4</th>\n",
       "      <td>Samantha</td>\n",
       "      <td>63</td>\n",
       "      <td>F</td>\n",
       "    </tr>\n",
       "  </tbody>\n",
       "</table>\n",
       "</div>"
      ],
      "text/plain": [
       "       Name  Age Gender\n",
       "0      John   25      M\n",
       "1       Amy   32      F\n",
       "2   Michael   18      M\n",
       "3   Jessica   47      F\n",
       "4  Samantha   63      F"
      ]
     },
     "execution_count": 28,
     "metadata": {},
     "output_type": "execute_result"
    }
   ],
   "source": [
    "df"
   ]
  },
  {
   "cell_type": "markdown",
   "id": "65cf7f49",
   "metadata": {},
   "source": [
    "As we can see, df is a DataFrame that stores the names, ages, and genders of five individuals. Each column of the DataFrame is a Series object, and the column names are the keys of the dictionary used to create the DataFrame.\n",
    "\n",
    "Therefore, while Series stores a one-dimensional array of values, a DataFrame stores a tabular data structure with rows and columns of data."
   ]
  },
  {
   "cell_type": "markdown",
   "id": "8c2a2ec5",
   "metadata": {},
   "source": [
    "#### Q5. What are some common functions you can use to manipulate data in a Pandas DataFrame? Can you give an example of when you might use one of these functions?"
   ]
  },
  {
   "cell_type": "markdown",
   "id": "17a7a53e",
   "metadata": {},
   "source": [
    "Pandas provides a wide range of functions that can be used to manipulate data in a DataFrame. Here are some common functions that can be used to manipulate data in a Pandas DataFrame:\n",
    "\n",
    "    1.head() and tail(): These functions can be used to view the first or last n rows of a DataFrame. For example, df.head() will return the first 5 rows of the DataFrame df, while df.tail(10) will return the last 10 rows of the DataFrame.\n",
    "\n",
    "    2.describe(): This function returns a statistical summary of the DataFrame, including count, mean, standard deviation, minimum, maximum, and quartile values for numeric columns.\n",
    "\n",
    "    3.sort_values(): This function sorts the DataFrame by one or more columns. For example, df.sort_values('column_name') will sort the DataFrame by the values in column_name in ascending order.\n",
    "\n",
    "    4.groupby(): This function is used to group the DataFrame by one or more columns and apply a function to each group. For example, df.groupby('column_name').sum() will group the DataFrame by the values in column_name and return the sum of each group.\n",
    "\n",
    "    5.drop(): This function is used to remove rows or columns from the DataFrame. For example, df.drop('column_name', axis=1) will remove the column named column_name.\n",
    "\n",
    "    6.fillna(): This function is used to replace missing values in the DataFrame with a specified value or method. For example, df.fillna(0) will replace all missing values in the DataFrame with 0.\n",
    "\n",
    "    7.apply(): This function is used to apply a function to each element or row/column of the DataFrame. For example, df.apply(lambda x: x**2) will apply the square function to each element in the DataFrame.\n",
    "\n",
    "These functions can be used in various situations depending on the data and the task at hand. For example, you might use sort_values() to sort a DataFrame of sales data by revenue to identify the top-selling products or groupby() to group a DataFrame of customer data by age and gender to identify patterns in customer behavior. Similarly, fillna() can be used to replace missing values in a DataFrame of survey data before performing statistical analyses, and apply() can be used to transform a DataFrame of sensor data by applying a smoothing function to each data point."
   ]
  },
  {
   "cell_type": "markdown",
   "id": "9ed433a6",
   "metadata": {},
   "source": [
    "#### Q6. Which of the following is mutable in nature Series, DataFrame, Panel?"
   ]
  },
  {
   "cell_type": "markdown",
   "id": "5abaf21f",
   "metadata": {},
   "source": [
    "Both Series and DataFrame are mutable in nature in Pandas, which means that their values can be modified after they are created.\n",
    "\n",
    "In a Series, we can change the value of an element by indexing it and assigning a new value. For example, s[0] = 10 will change the value of the first element in the Series s to 10.\n",
    "\n",
    "In a DataFrame, we can modify the values of a column or a row by indexing it and assigning a new value or a new set of values. For example, df['column_name'][0] = 10 will change the value of the first element in the column named column_name in the DataFrame df to 10.\n",
    "\n",
    "On the other hand, Panel is a three-dimensional data structure in Pandas, but it is considered deprecated and not recommended to use. Instead, we can use the MultiIndex feature of DataFrame to handle higher-dimensional data."
   ]
  },
  {
   "cell_type": "markdown",
   "id": "178380af",
   "metadata": {},
   "source": [
    "####  Q7. Create a DataFrame using multiple Series. Explain with an example."
   ]
  },
  {
   "cell_type": "markdown",
   "id": "7ed80e42",
   "metadata": {},
   "source": [
    "We can create a Pandas DataFrame using multiple Series objects by passing them as a dictionary to the DataFrame() constructor. Each Series will become a column in the resulting DataFrame.\n",
    "\n",
    "Here's an example:"
   ]
  },
  {
   "cell_type": "code",
   "execution_count": 31,
   "id": "ef898fea",
   "metadata": {},
   "outputs": [
    {
     "data": {
      "text/html": [
       "<div>\n",
       "<style scoped>\n",
       "    .dataframe tbody tr th:only-of-type {\n",
       "        vertical-align: middle;\n",
       "    }\n",
       "\n",
       "    .dataframe tbody tr th {\n",
       "        vertical-align: top;\n",
       "    }\n",
       "\n",
       "    .dataframe thead th {\n",
       "        text-align: right;\n",
       "    }\n",
       "</style>\n",
       "<table border=\"1\" class=\"dataframe\">\n",
       "  <thead>\n",
       "    <tr style=\"text-align: right;\">\n",
       "      <th></th>\n",
       "      <th>Sales</th>\n",
       "      <th>Expenses</th>\n",
       "      <th>Profit</th>\n",
       "    </tr>\n",
       "  </thead>\n",
       "  <tbody>\n",
       "    <tr>\n",
       "      <th>Jan</th>\n",
       "      <td>100</td>\n",
       "      <td>50</td>\n",
       "      <td>50</td>\n",
       "    </tr>\n",
       "    <tr>\n",
       "      <th>Feb</th>\n",
       "      <td>200</td>\n",
       "      <td>75</td>\n",
       "      <td>125</td>\n",
       "    </tr>\n",
       "    <tr>\n",
       "      <th>Mar</th>\n",
       "      <td>150</td>\n",
       "      <td>80</td>\n",
       "      <td>70</td>\n",
       "    </tr>\n",
       "  </tbody>\n",
       "</table>\n",
       "</div>"
      ],
      "text/plain": [
       "     Sales  Expenses  Profit\n",
       "Jan    100        50      50\n",
       "Feb    200        75     125\n",
       "Mar    150        80      70"
      ]
     },
     "execution_count": 31,
     "metadata": {},
     "output_type": "execute_result"
    }
   ],
   "source": [
    "import pandas as pd\n",
    "\n",
    "# create three Series with the same index\n",
    "sales = pd.Series([100, 200, 150], index=['Jan', 'Feb', 'Mar'], name='Sales')\n",
    "expenses = pd.Series([50, 75, 80], index=['Jan', 'Feb', 'Mar'], name='Expenses')\n",
    "profit = pd.Series([50, 125, 70], index=['Jan', 'Feb', 'Mar'], name='Profit')\n",
    "\n",
    "# create a DataFrame using the three Series\n",
    "df = pd.DataFrame({'Sales': sales, 'Expenses': expenses, 'Profit': profit})\n",
    "\n",
    "df"
   ]
  },
  {
   "cell_type": "markdown",
   "id": "62eae063",
   "metadata": {},
   "source": [
    "In this example, we first create three Series objects named sales, expenses, and profit. Each Series represents the sales, expenses, and profit for a particular month. They all have the same index, which is the name of the month.\n",
    "\n",
    "Next, we create a DataFrame called df using the DataFrame() constructor. We pass in a dictionary with keys corresponding to the column names and values corresponding to the Series we want to use for each column. The resulting DataFrame has three columns named 'Sales', 'Expenses', and 'Profit', and three rows representing the data for each month.\n",
    "\n",
    "The output of the above code will be:"
   ]
  },
  {
   "cell_type": "code",
   "execution_count": null,
   "id": "aa126e5e",
   "metadata": {},
   "outputs": [],
   "source": []
  }
 ],
 "metadata": {
  "kernelspec": {
   "display_name": "Python 3 (ipykernel)",
   "language": "python",
   "name": "python3"
  },
  "language_info": {
   "codemirror_mode": {
    "name": "ipython",
    "version": 3
   },
   "file_extension": ".py",
   "mimetype": "text/x-python",
   "name": "python",
   "nbconvert_exporter": "python",
   "pygments_lexer": "ipython3",
   "version": "3.9.12"
  }
 },
 "nbformat": 4,
 "nbformat_minor": 5
}
