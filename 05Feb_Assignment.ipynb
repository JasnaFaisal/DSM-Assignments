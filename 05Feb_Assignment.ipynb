{
 "cells": [
  {
   "cell_type": "markdown",
   "id": "dc2a2bc4",
   "metadata": {},
   "source": [
    "#### Q1. Explain Class and Object with respect to Object-Oriented Programming. Give a suitable example."
   ]
  },
  {
   "cell_type": "markdown",
   "id": "f0aa99cd",
   "metadata": {},
   "source": [
    "A Class in object oriented programming is a blueprint or prototype that defines the variables and the methods (functions) common to all Python Objects of a certain kind.\n",
    "An object in OOPS is a specimen of a class. Software objects are often used to model real-world objects you find in everyday life.\n",
    "A class is considered as a blueprint of objects. We can think of the class as a sketch (prototype) of a house. It contains all the details about the floors, doors, windows, etc. Based on these descriptions we build the house. House is the object.\n",
    "\n",
    "Since many houses can be made from the same description, we can create many objects from a class.\n",
    "\n"
   ]
  },
  {
   "cell_type": "code",
   "execution_count": 1,
   "id": "a21135f6",
   "metadata": {},
   "outputs": [
    {
     "name": "stdout",
     "output_type": "stream",
     "text": [
      "Name: Mountain Bike, Gears: 11 \n"
     ]
    }
   ],
   "source": [
    "# define a class\n",
    "class Bike:\n",
    "    name = \"\"\n",
    "    gear = 0\n",
    "     \n",
    "# create object of class\n",
    "bike1 = Bike()\n",
    "\n",
    "# access attributes and assign new values\n",
    "bike1.gear = 11\n",
    "bike1.name = \"Mountain Bike\"\n",
    "\n",
    "print(f\"Name: {bike1.name}, Gears: {bike1.gear} \")"
   ]
  },
  {
   "cell_type": "code",
   "execution_count": 2,
   "id": "338bda89",
   "metadata": {},
   "outputs": [
    {
     "data": {
      "text/plain": [
       "'Honda'"
      ]
     },
     "execution_count": 2,
     "metadata": {},
     "output_type": "execute_result"
    }
   ],
   "source": [
    "# define a class\n",
    "class Bike1:\n",
    "    #constructor function\n",
    "    def __init__(bike,name_bike,gear_bike):\n",
    "        bike.name=name_bike\n",
    "        bike.gear=gear_bike\n",
    "    def  bike_details(bike):\n",
    "        return bike.name,bike.gear\n",
    "    \n",
    "## create object of class\n",
    "bike2= Bike1('Honda',3)\n",
    "\n",
    "# access attributes and assign new values\n",
    "bike2.name\n"
   ]
  },
  {
   "cell_type": "code",
   "execution_count": 3,
   "id": "89e15dd8",
   "metadata": {},
   "outputs": [
    {
     "data": {
      "text/plain": [
       "3"
      ]
     },
     "execution_count": 3,
     "metadata": {},
     "output_type": "execute_result"
    }
   ],
   "source": [
    "bike2.gear"
   ]
  },
  {
   "cell_type": "code",
   "execution_count": 4,
   "id": "dbb71903",
   "metadata": {},
   "outputs": [
    {
     "data": {
      "text/plain": [
       "('Honda', 3)"
      ]
     },
     "execution_count": 4,
     "metadata": {},
     "output_type": "execute_result"
    }
   ],
   "source": [
    "bike2.bike_details()"
   ]
  },
  {
   "cell_type": "markdown",
   "id": "67e794da",
   "metadata": {},
   "source": [
    "#### Q2. Name the four pillars of OOPs."
   ]
  },
  {
   "cell_type": "markdown",
   "id": "1568bd59",
   "metadata": {},
   "source": [
    "The four pillars of OOPs are:\n",
    "\n",
    "    1.Inheritance\n",
    "    2.Polymorphism\n",
    "    3.Encapsualtion\n",
    "    4.Abstraction\n",
    "    \n",
    "    1.Inheritance:\n",
    "    In Python it is possible to create an object that inherits the methods and properties of another object. This is called inheritance. In inheritance, there is a parent class and a child class. A child class inherits the properties and methods of the parent class.\n",
    "    \n",
    "    2.Polymorphism\n",
    "    Polymorphism simply means 'many forms'. In Python this means that you can have one function or object that can be used in different ways. \n",
    "    \n",
    "    3.Encapsulation\n",
    "    Encapsulation is the process of making data private by wrapping data and its methods in a 'capsule' or unit, so that it can not be accessed or modified outside of that unit. This is achieved by making variables inside a class private. In Python we can make variables private by prefixing the variable name with a double underscore '__'.\n",
    "    \n",
    "    4.Abstraction\n",
    "    Abstraction is about keeping the internal mechanics of the code hidden from the user. This reduces the complexity of the code, and ensures that we only concentrate on what is important.Abstraction is about keeping the internal mechanics of the code hidden from the user. This reduces the complexity of the code, and ensures that we only concentrate on what is important.\n",
    "    \n",
    "    \n",
    "    "
   ]
  },
  {
   "cell_type": "markdown",
   "id": "1f7fa5f5",
   "metadata": {},
   "source": [
    "#### Q3. Explain why the __init__() function is used. Give a suitable example."
   ]
  },
  {
   "cell_type": "markdown",
   "id": "fd3f6e02",
   "metadata": {},
   "source": [
    "\"__init__\" is a reserved method in python classes. It is called as a constructor in object oriented terminology. This function is called when an object is created from a class and it allows the class to initialize the attributes of the class.It is only used within classes.\n",
    "The __init__ method is the Python equivalent of the C++ constructor in an object-oriented approach."
   ]
  },
  {
   "cell_type": "code",
   "execution_count": 5,
   "id": "a794469b",
   "metadata": {},
   "outputs": [
    {
     "name": "stdout",
     "output_type": "stream",
     "text": [
      "Jasna_Faisal\n",
      "Female\n"
     ]
    }
   ],
   "source": [
    "class test:\n",
    "    def __init__(self,name,gender):\n",
    "        self.name=name\n",
    "        self.gender=gender\n",
    "Jasna=test('Jasna_Faisal','Female')\n",
    "print(Jasna.name)\n",
    "print(Jasna.gender)"
   ]
  },
  {
   "cell_type": "markdown",
   "id": "7222c6e0",
   "metadata": {},
   "source": [
    "#### Q4. Why self is used in OOPs?"
   ]
  },
  {
   "cell_type": "markdown",
   "id": "6657ac72",
   "metadata": {},
   "source": [
    "The class instance is represented by self. We can access the class's attributes and methods using the \"self\" keyword in Python. It associates the properties with the arguments provided. Because Python does not use the @ syntax to refer to instance attributes, we must use self.\n"
   ]
  },
  {
   "cell_type": "markdown",
   "id": "478c147b",
   "metadata": {},
   "source": [
    "#### Q5. What is inheritance? Give an example for each type of inheritance."
   ]
  },
  {
   "cell_type": "markdown",
   "id": "18f9b70a",
   "metadata": {},
   "source": [
    "Inheritance is a process of obtaining properties and characteristics(variables and methods) of another class. In this hierarchical order, the class which inherits another class is called subclass or child class, and the other class is the parent class.Hence, inheritance facilitates Reusability and is an important concept of OOPs.\n",
    "\n",
    "Base class remains to be the source from which a subclass inherits. For example, you have a Base class of “Animal,” and a “Lion” is a Derived class. The inheritance will be Lion is an Animal.Just like a parent-child relationship, inheritance works on derived classes relative to the base class. Every “Derived” class inherits from a “Base” class. The inheritance is represented in UML or Unified Modeling Language. It is a standard modeling language that includes an integrated set of diagrams to help developers specify, structure, and document software systems elements. \n",
    "\n",
    "Advantages of Inheritance in Python\n",
    "\n",
    "    1.Inheritance in Python helps developers to reuse the objects.\n",
    "    2.Each time a class inherits the base class, it gets access to the parent object’s functionality. \n",
    "    3.Reusability due to inheritance is also reliable as the base class is already tested. \n",
    "    4.Low development time and cost\n",
    "    5.Standardization of the interface across classes becomes easy.\n",
    "    6.Reduces redundancy of code and help improve extensibility\n",
    "    7.The creation of class libraries becomes easy."
   ]
  },
  {
   "cell_type": "markdown",
   "id": "2140cf5f",
   "metadata": {},
   "source": [
    "Types of Inheritance:\n",
    "   1. Single Inheritance\n",
    "   \n",
    "       Single inheritance is- the inheritance of the “Derived” class from the “Base” class.\n",
    "       \n",
    "       For eg:\n",
    "       \n",
    "   \n",
    "        "
   ]
  },
  {
   "cell_type": "code",
   "execution_count": 6,
   "id": "6974be79",
   "metadata": {},
   "outputs": [
    {
     "name": "stdout",
     "output_type": "stream",
     "text": [
      "This is Spain\n",
      "This is State\n"
     ]
    }
   ],
   "source": [
    "class Country:\n",
    "\n",
    "     def ShowCountry(self):\n",
    "\n",
    "         print('This is Spain');\n",
    "\n",
    "class State(Country):\n",
    "\n",
    "     def ShowState(self):\n",
    "\n",
    "         print('This is State');\n",
    "\n",
    "st =State();#only one object is created for both the classes \n",
    "\n",
    "st.ShowCountry();\n",
    "\n",
    "st.ShowState();\n",
    "    "
   ]
  },
  {
   "cell_type": "markdown",
   "id": "c83aadc5",
   "metadata": {},
   "source": [
    "2.Multi level Inheritance\n",
    "\n",
    "    Multi-level inheritance gets documented each time a derived class inherits another derived class. There is no limit to the number of derived classes that can inherit the functionalities, and that is why multilevel inheritance helps to improve the reusability in Python. "
   ]
  },
  {
   "cell_type": "code",
   "execution_count": 7,
   "id": "6f52dfcc",
   "metadata": {},
   "outputs": [
    {
     "name": "stdout",
     "output_type": "stream",
     "text": [
      "Dog barking\n",
      "Animal Speaking\n",
      "Eating bread…\n"
     ]
    }
   ],
   "source": [
    "class Animal:  \n",
    "\n",
    "    def speak(self):  \n",
    "\n",
    "        print('Animal Speaking')  \n",
    "\n",
    "#The child class Dog inherits the base class Animal  \n",
    "\n",
    "class Dog(Animal):  \n",
    "\n",
    "    def bark(self):  \n",
    "\n",
    "        print('Dog barking')  \n",
    "\n",
    "#The child class Dogchild inherits another child class Dog  \n",
    "\n",
    "class DogChild(Dog):  \n",
    "\n",
    "    def eat(self):  \n",
    "\n",
    "        print('Eating bread…')  \n",
    "\n",
    "d = DogChild()  \n",
    "\n",
    "d.bark()  \n",
    "\n",
    "d.speak()  \n",
    "\n",
    "d.eat()"
   ]
  },
  {
   "cell_type": "markdown",
   "id": "9735ac3b",
   "metadata": {},
   "source": [
    "3.Multiple inheritance\n",
    "\n",
    "    Python enables developers to inherit multiple functionalities and properties from different base classes into a single derived class. It is mostly a great feature as it can allow you to inherit multiple dependencies without extensive tools or coding. "
   ]
  },
  {
   "cell_type": "code",
   "execution_count": 8,
   "id": "a4d213a1",
   "metadata": {},
   "outputs": [
    {
     "name": "stdout",
     "output_type": "stream",
     "text": [
      "30\n",
      "200\n",
      "0.5\n"
     ]
    }
   ],
   "source": [
    "class Calculation1:  \n",
    "\n",
    "    def Summation(self,a,b):  \n",
    "\n",
    "        return a+b;  \n",
    "\n",
    "class Calculation2:  \n",
    "\n",
    "    def Multiplication(self,a,b):  \n",
    "\n",
    "        return a*b;  \n",
    "\n",
    "class Derived(Calculation1,Calculation2):  \n",
    "\n",
    "    def Divide(self,a,b):  \n",
    "\n",
    "        return a/b;  \n",
    "\n",
    "d = Derived()  \n",
    "\n",
    "print(d.Summation(10,20))  \n",
    "\n",
    "print(d.Multiplication(10,20))  \n",
    "\n",
    "print(d.Divide(10,20))"
   ]
  },
  {
   "cell_type": "markdown",
   "id": "84284a98",
   "metadata": {},
   "source": [
    "4.Hierarchial Inheritance\n",
    "\n",
    "    When more than one class is created from a single base class,it is known as hierarchial inheritance."
   ]
  },
  {
   "cell_type": "markdown",
   "id": "a8bce2fc",
   "metadata": {},
   "source": [
    "5.Hybrid Inheritance\n",
    "\n",
    "    When there are combination of more than one type of inheritance,it is called as hybrid inheritance."
   ]
  },
  {
   "cell_type": "code",
   "execution_count": null,
   "id": "2b8a37cd",
   "metadata": {},
   "outputs": [],
   "source": []
  }
 ],
 "metadata": {
  "kernelspec": {
   "display_name": "Python 3 (ipykernel)",
   "language": "python",
   "name": "python3"
  },
  "language_info": {
   "codemirror_mode": {
    "name": "ipython",
    "version": 3
   },
   "file_extension": ".py",
   "mimetype": "text/x-python",
   "name": "python",
   "nbconvert_exporter": "python",
   "pygments_lexer": "ipython3",
   "version": "3.9.12"
  }
 },
 "nbformat": 4,
 "nbformat_minor": 5
}
