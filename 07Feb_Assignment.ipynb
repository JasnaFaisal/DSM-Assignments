{
 "cells": [
  {
   "cell_type": "markdown",
   "id": "56a4d8de",
   "metadata": {},
   "source": [
    "#### Q1. You are writing code for a company. The requirement of the company is that you create a python function that will check whether the password entered by the user is correct or not. The function should take the password as input and return the string “Valid Password” if the entered password follows the below-given password guidelines else it should return “Invalid Password”.\n",
    "Note:\n",
    "1. The Password should contain at least two uppercase letters and at least two lowercase letters.\n",
    "2. The Password should contain at least a number and three special characters.\n",
    "3. The length of the password should be 10 characters long."
   ]
  },
  {
   "cell_type": "code",
   "execution_count": null,
   "id": "904b19b0",
   "metadata": {},
   "outputs": [],
   "source": [
    "special_char=['!','@','£','$','%','&','*','#','`','~','^']\n",
    "\n",
    "def check_password(password):\n",
    "    alpha_lower_count=0\n",
    "    alpha_upper_count=0\n",
    "    num_count=0\n",
    "    sp_char_count=0\n",
    "    if (len(password) >= 10):\n",
    "        for i in password:            \n",
    "            if (i.islower()):\n",
    "                alpha_lower_count+=1           \n",
    "            if (i.isupper()):\n",
    "                alpha_upper_count+=1         \n",
    "            if (i.isdigit()):\n",
    "                num_count+=1           \n",
    "            if(i in special_char):\n",
    "                sp_char_count+=1          \n",
    "    if (alpha_lower_count>=2 and alpha_upper_count>=2 and sp_char_count>=3 and num_count>=1 and alpha_lower_count+alpha_upper_count+sp_char_count+num_count==len(password)):\n",
    "            print(\"Valid Password\")\n",
    "    else:\n",
    "            print(\"Invalid Password\")               \n",
    "        \n",
    "password=check_password(input('Enter your password: '))\n"
   ]
  },
  {
   "cell_type": "markdown",
   "id": "9b75b326",
   "metadata": {},
   "source": [
    "#### Q2. Solve the below-given questions using at least one of the following:\n",
    "1. Lambda function\n",
    "2. Filter function\n",
    "3. Zap function\n",
    "4. List Comprehension\n",
    "\n",
    "    Check if the string starts with a particular letter\n",
    "    \n",
    "    Check if the string is numeric\n",
    "    \n",
    "    Sort a list of tuples having fruit names and their quantity. \n",
    "        \n",
    "        [(\"mango\",99),(\"orange\",80), (\"grapes\", 1000)]\n",
    "        \n",
    "    Find the squares of numbers from 1 to 10\n",
    "    \n",
    "    Find the cube root of numbers from 1 to 10\n",
    "    \n",
    "    Check if a given number is even\n",
    "    \n",
    "    Filter odd numbers from the given list.\n",
    "    \n",
    "        [1,2,3,4,5,6,7,8,9,10]\n",
    "        \n",
    "    Sort a list of integers into positive and negative integers lists.\n",
    "    \n",
    "        [1,2,3,4,5,6,-1,-2,-3,-4,-5,0]"
   ]
  },
  {
   "cell_type": "code",
   "execution_count": null,
   "id": "cfe00b16",
   "metadata": {},
   "outputs": [],
   "source": [
    "#Check if the string starts with a particular letter 'J'\n",
    "var=input('Enter the name: ')\n",
    "check= lambda var: True if var.startswith('J') else False\n",
    "check(var)"
   ]
  },
  {
   "cell_type": "code",
   "execution_count": null,
   "id": "6d194837",
   "metadata": {},
   "outputs": [],
   "source": [
    "#Check if the string is numeric\n",
    "var=input('Enter the string: ')\n",
    "for i in var:\n",
    "    check=lambda i: True if i.isdigit() else False\n",
    "check(var)"
   ]
  },
  {
   "cell_type": "code",
   "execution_count": null,
   "id": "cc977733",
   "metadata": {},
   "outputs": [],
   "source": [
    "#Sort a list of tuples having fruit names and their quantity. \n",
    "list1= [(\"mango\",99),(\"orange\",80), (\"grapes\", 1000)]\n",
    "sorted_list=sorted(list1,key = lambda x : x[1],reverse=True)\n",
    "sorted_list"
   ]
  },
  {
   "cell_type": "code",
   "execution_count": null,
   "id": "83a6fc1c",
   "metadata": {},
   "outputs": [],
   "source": [
    "#Find the squares of numbers from 1 to 10\n",
    "[i**2 for i in range(1,11) ]"
   ]
  },
  {
   "cell_type": "code",
   "execution_count": null,
   "id": "64e6a046",
   "metadata": {},
   "outputs": [],
   "source": [
    "#Find the cube root of numbers from 1 to 10\n",
    "[i**(1/3) for i in range(1,11)]"
   ]
  },
  {
   "cell_type": "code",
   "execution_count": null,
   "id": "1f9a0a68",
   "metadata": {},
   "outputs": [],
   "source": [
    "#Check if a given number is even\n",
    "x=int(input('Enter the number:'))\n",
    "even=lambda x: True if x%2==0 else False\n",
    "even(x)"
   ]
  },
  {
   "cell_type": "code",
   "execution_count": null,
   "id": "ef6fed0f",
   "metadata": {},
   "outputs": [],
   "source": [
    "#Filter odd numbers from the given list.\n",
    "list1= [1,2,3,4,5,6,7,8,9,10]\n",
    "list(filter(lambda i:i%2!=0,list1))"
   ]
  },
  {
   "cell_type": "code",
   "execution_count": null,
   "id": "bf36540e",
   "metadata": {},
   "outputs": [],
   "source": [
    "#Sort a list of integers into positive and negative integers lists.\n",
    "l=[1,2,3,4,5,6,-1,-2,-3,-4,-5,0]\n",
    "list(filter(lambda x:x>0,l))"
   ]
  },
  {
   "cell_type": "code",
   "execution_count": null,
   "id": "9694682b",
   "metadata": {},
   "outputs": [],
   "source": [
    "list(filter(lambda x:x<0,l))"
   ]
  },
  {
   "cell_type": "code",
   "execution_count": null,
   "id": "9a476395",
   "metadata": {},
   "outputs": [],
   "source": []
  }
 ],
 "metadata": {
  "kernelspec": {
   "display_name": "Python 3 (ipykernel)",
   "language": "python",
   "name": "python3"
  },
  "language_info": {
   "codemirror_mode": {
    "name": "ipython",
    "version": 3
   },
   "file_extension": ".py",
   "mimetype": "text/x-python",
   "name": "python",
   "nbconvert_exporter": "python",
   "pygments_lexer": "ipython3",
   "version": "3.9.12"
  }
 },
 "nbformat": 4,
 "nbformat_minor": 5
}
