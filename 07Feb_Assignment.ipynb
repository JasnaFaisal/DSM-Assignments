{
 "cells": [
  {
   "cell_type": "markdown",
   "id": "75a9f0cf",
   "metadata": {},
   "source": [
    "#### Q1. You are writing code for a company. The requirement of the company is that you create a python function that will check whether the password entered by the user is correct or not. The function should take the password as input and return the string “Valid Password” if the entered password follows the below-given password guidelines else it should return “Invalid Password”.\n",
    "Note:\n",
    "1. The Password should contain at least two uppercase letters and at least two lowercase letters.\n",
    "2. The Password should contain at least a number and three special characters.\n",
    "3. The length of the password should be 10 characters long."
   ]
  },
  {
   "cell_type": "code",
   "execution_count": 1,
   "id": "2409ed38",
   "metadata": {},
   "outputs": [
    {
     "name": "stdout",
     "output_type": "stream",
     "text": [
      "Enter your password: JJHsdfv6%&$\n",
      "Valid Password\n"
     ]
    }
   ],
   "source": [
    "special_char=['!','@','£','$','%','&','*','#','`','~','^']\n",
    "\n",
    "def check_password(password):\n",
    "    alpha_lower_count=0\n",
    "    alpha_upper_count=0\n",
    "    num_count=0\n",
    "    sp_char_count=0\n",
    "    if (len(password) >= 10):\n",
    "        for i in password:            \n",
    "            if (i.islower()):\n",
    "                alpha_lower_count+=1           \n",
    "            if (i.isupper()):\n",
    "                alpha_upper_count+=1         \n",
    "            if (i.isdigit()):\n",
    "                num_count+=1           \n",
    "            if(i in special_char):\n",
    "                sp_char_count+=1          \n",
    "    if (alpha_lower_count>=2 and alpha_upper_count>=2 and sp_char_count>=3 and num_count>=1 and alpha_lower_count+alpha_upper_count+sp_char_count+num_count==len(password)):\n",
    "            print(\"Valid Password\")\n",
    "    else:\n",
    "            print(\"Invalid Password\")               \n",
    "        \n",
    "password=check_password(input('Enter your password: '))\n"
   ]
  },
  {
   "cell_type": "markdown",
   "id": "2c4b8972",
   "metadata": {},
   "source": [
    "#### Q2. Solve the below-given questions using at least one of the following:\n",
    "1. Lambda function\n",
    "2. Filter function\n",
    "3. Zap function\n",
    "4. List Comprehension\n",
    "\n",
    "    Check if the string starts with a particular letter\n",
    "    \n",
    "    Check if the string is numeric\n",
    "    \n",
    "    Sort a list of tuples having fruit names and their quantity. \n",
    "        \n",
    "        [(\"mango\",99),(\"orange\",80), (\"grapes\", 1000)]\n",
    "        \n",
    "    Find the squares of numbers from 1 to 10\n",
    "    \n",
    "    Find the cube root of numbers from 1 to 10\n",
    "    \n",
    "    Check if a given number is even\n",
    "    \n",
    "    Filter odd numbers from the given list.\n",
    "    \n",
    "        [1,2,3,4,5,6,7,8,9,10]\n",
    "        \n",
    "    Sort a list of integers into positive and negative integers lists.\n",
    "    \n",
    "        [1,2,3,4,5,6,-1,-2,-3,-4,-5,0]"
   ]
  },
  {
   "cell_type": "code",
   "execution_count": 2,
   "id": "99f28bdd",
   "metadata": {},
   "outputs": [
    {
     "name": "stdout",
     "output_type": "stream",
     "text": [
      "Enter the name: Jasnafaisal\n"
     ]
    },
    {
     "data": {
      "text/plain": [
       "True"
      ]
     },
     "execution_count": 2,
     "metadata": {},
     "output_type": "execute_result"
    }
   ],
   "source": [
    "#Check if the string starts with a particular letter 'J'\n",
    "var=input('Enter the name: ')\n",
    "check= lambda var: True if var.startswith('J') else False\n",
    "check(var)"
   ]
  },
  {
   "cell_type": "code",
   "execution_count": 3,
   "id": "203bfbba",
   "metadata": {},
   "outputs": [
    {
     "name": "stdout",
     "output_type": "stream",
     "text": [
      "Enter the string: 45\n"
     ]
    },
    {
     "data": {
      "text/plain": [
       "True"
      ]
     },
     "execution_count": 3,
     "metadata": {},
     "output_type": "execute_result"
    }
   ],
   "source": [
    "#Check if the string is numeric\n",
    "var=input('Enter the string: ')\n",
    "for i in var:\n",
    "    check=lambda i: True if i.isdigit() else False\n",
    "check(var)"
   ]
  },
  {
   "cell_type": "code",
   "execution_count": 4,
   "id": "96d7adcb",
   "metadata": {},
   "outputs": [
    {
     "data": {
      "text/plain": [
       "[('grapes', 1000), ('mango', 99), ('orange', 80)]"
      ]
     },
     "execution_count": 4,
     "metadata": {},
     "output_type": "execute_result"
    }
   ],
   "source": [
    "#Sort a list of tuples having fruit names and their quantity. \n",
    "list1= [(\"mango\",99),(\"orange\",80), (\"grapes\", 1000)]\n",
    "sorted_list=sorted(list1,key = lambda x : x[1],reverse=True)\n",
    "sorted_list"
   ]
  },
  {
   "cell_type": "code",
   "execution_count": 5,
   "id": "33732693",
   "metadata": {},
   "outputs": [
    {
     "data": {
      "text/plain": [
       "[1, 4, 9, 16, 25, 36, 49, 64, 81, 100]"
      ]
     },
     "execution_count": 5,
     "metadata": {},
     "output_type": "execute_result"
    }
   ],
   "source": [
    "#Find the squares of numbers from 1 to 10\n",
    "[i**2 for i in range(1,11) ]"
   ]
  },
  {
   "cell_type": "code",
   "execution_count": 6,
   "id": "de592f1a",
   "metadata": {},
   "outputs": [
    {
     "data": {
      "text/plain": [
       "[1.0,\n",
       " 1.2599210498948732,\n",
       " 1.4422495703074083,\n",
       " 1.5874010519681994,\n",
       " 1.7099759466766968,\n",
       " 1.8171205928321397,\n",
       " 1.912931182772389,\n",
       " 2.0,\n",
       " 2.080083823051904,\n",
       " 2.154434690031884]"
      ]
     },
     "execution_count": 6,
     "metadata": {},
     "output_type": "execute_result"
    }
   ],
   "source": [
    "#Find the cube root of numbers from 1 to 10\n",
    "[i**(1/3) for i in range(1,11)]"
   ]
  },
  {
   "cell_type": "code",
   "execution_count": 7,
   "id": "49384852",
   "metadata": {},
   "outputs": [
    {
     "name": "stdout",
     "output_type": "stream",
     "text": [
      "Enter the number:79\n"
     ]
    },
    {
     "data": {
      "text/plain": [
       "False"
      ]
     },
     "execution_count": 7,
     "metadata": {},
     "output_type": "execute_result"
    }
   ],
   "source": [
    "#Check if a given number is even\n",
    "x=int(input('Enter the number:'))\n",
    "even=lambda x: True if x%2==0 else False\n",
    "even(x)"
   ]
  },
  {
   "cell_type": "code",
   "execution_count": 8,
   "id": "54a058ea",
   "metadata": {},
   "outputs": [
    {
     "data": {
      "text/plain": [
       "[1, 3, 5, 7, 9]"
      ]
     },
     "execution_count": 8,
     "metadata": {},
     "output_type": "execute_result"
    }
   ],
   "source": [
    "#Filter odd numbers from the given list.\n",
    "list1= [1,2,3,4,5,6,7,8,9,10]\n",
    "list(filter(lambda i:i%2!=0,list1))"
   ]
  },
  {
   "cell_type": "code",
   "execution_count": 9,
   "id": "bca1c47d",
   "metadata": {},
   "outputs": [
    {
     "data": {
      "text/plain": [
       "[1, 2, 3, 4, 5, 6]"
      ]
     },
     "execution_count": 9,
     "metadata": {},
     "output_type": "execute_result"
    }
   ],
   "source": [
    "#Sort a list of integers into positive and negative integers lists.\n",
    "l=[1,2,3,4,5,6,-1,-2,-3,-4,-5,0]\n",
    "list(filter(lambda x:x>0,l))"
   ]
  },
  {
   "cell_type": "code",
   "execution_count": 10,
   "id": "22c33a97",
   "metadata": {},
   "outputs": [
    {
     "data": {
      "text/plain": [
       "[-1, -2, -3, -4, -5]"
      ]
     },
     "execution_count": 10,
     "metadata": {},
     "output_type": "execute_result"
    }
   ],
   "source": [
    "list(filter(lambda x:x<0,l))"
   ]
  },
  {
   "cell_type": "code",
   "execution_count": null,
   "id": "c738ed0b",
   "metadata": {},
   "outputs": [],
   "source": []
  }
 ],
 "metadata": {
  "kernelspec": {
   "display_name": "Python 3 (ipykernel)",
   "language": "python",
   "name": "python3"
  },
  "language_info": {
   "codemirror_mode": {
    "name": "ipython",
    "version": 3
   },
   "file_extension": ".py",
   "mimetype": "text/x-python",
   "name": "python",
   "nbconvert_exporter": "python",
   "pygments_lexer": "ipython3",
   "version": "3.9.12"
  }
 },
 "nbformat": 4,
 "nbformat_minor": 5
}
