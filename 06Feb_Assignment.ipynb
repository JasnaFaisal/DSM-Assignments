{
 "cells": [
  {
   "cell_type": "markdown",
   "id": "83a6eb64",
   "metadata": {},
   "source": [
    "#### Q1. Create a function which will take a list as an argument and return the product of all the numbers after creating a flat list. Use the below-given list as an argument for your function.\n",
    "list1 = [1,2,3,4, [44,55,66, True], False, (34,56,78,89,34), {1,2,3,3,2,1}, {1:34, \"key2\": [55, 67, 78, 89], 4: (45,\n",
    "22, 61, 34)}, [56, 'data science'], 'Machine Learning']\n",
    "\n",
    "Note: you must extract numeric keys and values of the dictionary also."
   ]
  },
  {
   "cell_type": "code",
   "execution_count": 1,
   "id": "59b0363a",
   "metadata": {},
   "outputs": [],
   "source": [
    "list1 = [1,2,3,4, [44,55,66, True], False, (34,56,78,89,34), {1,2,3,3,2,1}, {1:34, \"key2\": [55, 67, 78, 89], 4: (45,\n",
    "22, 61, 34)}, [56, 'data science'], 'Machine Learning']"
   ]
  },
  {
   "cell_type": "code",
   "execution_count": 2,
   "id": "66a82446",
   "metadata": {},
   "outputs": [
    {
     "data": {
      "text/plain": [
       "0"
      ]
     },
     "execution_count": 2,
     "metadata": {},
     "output_type": "execute_result"
    }
   ],
   "source": [
    "def product_of_list(l):\n",
    "    flatlist=[]\n",
    "    product=1\n",
    "    for i in list1:    \n",
    "        if type(i)==list:\n",
    "            for j in i:\n",
    "                flatlist.append(j)\n",
    "        elif type(i)==set:\n",
    "            for j in i:\n",
    "                flatlist.append(j)\n",
    "        elif type(i)==tuple:\n",
    "            for j in i:\n",
    "                flatlist.append(j)\n",
    "        elif type(i)==dict:\n",
    "            for j in i:\n",
    "                flatlist.append(j)\n",
    "                if type(i[j])==list or type(i[j])==tuple:\n",
    "                    for k in i[j]:\n",
    "                        flatlist.append(k)\n",
    "                else:\n",
    "                    flatlist.append(i[j])\n",
    "                \n",
    "        else:\n",
    "            flatlist.append(i)\n",
    "    for item in flatlist:\n",
    "        if type(item)!=str:\n",
    "            product=item*product\n",
    "    return product\n",
    "product_of_list(list1)"
   ]
  },
  {
   "cell_type": "markdown",
   "id": "724c2e52",
   "metadata": {},
   "source": [
    "#### Q2. Write a python program for encrypting a message sent to you by your friend. The logic of encryption should be such that, for a the output should be z. For b, the output should be y. For c, the output should be x respectively. Also, the whitespace should be replaced with a dollar sign. Keep the punctuation marks unchanged.\n",
    "\n",
    "Input Sentence: I want to become a Data Scientist.\n",
    "\n",
    "Encrypt the above input sentence using the program you just created.\n",
    "\n",
    "Note: Convert the given input sentence into lowercase before encrypting. The final output should be\n",
    "lowercase."
   ]
  },
  {
   "cell_type": "code",
   "execution_count": 3,
   "id": "7d7e9845",
   "metadata": {},
   "outputs": [
    {
     "data": {
      "text/plain": [
       "['i',\n",
       " '$',\n",
       " 'w',\n",
       " 'z',\n",
       " 'n',\n",
       " 't',\n",
       " '$',\n",
       " 't',\n",
       " 'o',\n",
       " '$',\n",
       " 'y',\n",
       " 'e',\n",
       " 'x',\n",
       " 'o',\n",
       " 'm',\n",
       " 'e',\n",
       " '$',\n",
       " 'z',\n",
       " '$',\n",
       " 'd',\n",
       " 'z',\n",
       " 't',\n",
       " 'z',\n",
       " '$',\n",
       " 's',\n",
       " 'x',\n",
       " 'i',\n",
       " 'e',\n",
       " 'n',\n",
       " 't',\n",
       " 'i',\n",
       " 's',\n",
       " 't']"
      ]
     },
     "execution_count": 3,
     "metadata": {},
     "output_type": "execute_result"
    }
   ],
   "source": [
    "#program for encrypting a message\n",
    "message='I want to become a Data Scientist'\n",
    "message=list(message.lower())\n",
    "encyrpted_message=[]\n",
    "for i in message:\n",
    "    if i=='a':\n",
    "        i=i.replace('a','z')\n",
    "        encyrpted_message.append(i)\n",
    "    elif i=='b':\n",
    "        i=i.replace('b','y')\n",
    "        encyrpted_message.append(i)\n",
    "    elif i=='c':\n",
    "        i=i.replace('c','x')\n",
    "        encyrpted_message.append(i)\n",
    "    elif i==' ':\n",
    "        i=i.replace(' ','$')\n",
    "        encyrpted_message.append(i)\n",
    "    else:\n",
    "        encyrpted_message.append(i)\n",
    "encyrpted_message\n",
    "    "
   ]
  },
  {
   "cell_type": "code",
   "execution_count": null,
   "id": "015ad3a0",
   "metadata": {},
   "outputs": [],
   "source": []
  }
 ],
 "metadata": {
  "kernelspec": {
   "display_name": "Python 3 (ipykernel)",
   "language": "python",
   "name": "python3"
  },
  "language_info": {
   "codemirror_mode": {
    "name": "ipython",
    "version": 3
   },
   "file_extension": ".py",
   "mimetype": "text/x-python",
   "name": "python",
   "nbconvert_exporter": "python",
   "pygments_lexer": "ipython3",
   "version": "3.9.12"
  }
 },
 "nbformat": 4,
 "nbformat_minor": 5
}
