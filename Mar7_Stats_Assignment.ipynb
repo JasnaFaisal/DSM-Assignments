{
 "cells": [
  {
   "cell_type": "markdown",
   "id": "bd3e5a58",
   "metadata": {},
   "source": [
    "#### Q1. What are the three measures of central tendency?"
   ]
  },
  {
   "cell_type": "markdown",
   "id": "9714ed34",
   "metadata": {},
   "source": [
    "The three measures of central tendency are:\n",
    "\n",
    "Mean: The mean is the sum of all values in a dataset divided by the total number of values. It is also called the average.\n",
    "\n",
    "Median: The median is the middle value of a dataset when it is arranged in ascending or descending order. If the dataset has an even number of values, then the median is the average of the two middle values.\n",
    "\n",
    "Mode: The mode is the value that appears most frequently in a dataset. A dataset may have multiple modes, or no mode at all if all values appear with the same frequency."
   ]
  },
  {
   "cell_type": "markdown",
   "id": "64704151",
   "metadata": {},
   "source": [
    "#### Q2. What is the difference between the mean, median, and mode? How are they used to measure the central tendency of a dataset?"
   ]
  },
  {
   "cell_type": "markdown",
   "id": "dcf19700",
   "metadata": {},
   "source": [
    "The mean, median, and mode are all measures of central tendency that are used to describe the \"typical\" or \"average\" value of a dataset. However, they differ in their method of calculation and how they are affected by extreme values or outliers.\n",
    "\n",
    "The mean is calculated by summing up all the values in a dataset and then dividing by the total number of values. It is sensitive to extreme values or outliers because it takes into account all values in the dataset. For example, if a dataset has a few very large values, the mean will be skewed towards these values.\n",
    "\n",
    "The median is the middle value of a dataset when it is arranged in ascending or descending order. It is not affected by extreme values or outliers because it only takes into account the position of values in the dataset, rather than their actual value. For example, if a dataset has a few very large values, the median will be unaffected by them.\n",
    "\n",
    "The mode is the value that appears most frequently in a dataset. It is useful for identifying the most common value or category in a dataset. Like the median, the mode is not affected by extreme values or outliers because it only takes into account the frequency of values, rather than their actual value.\n",
    "\n",
    "All three measures of central tendency have their own strengths and weaknesses, and are used depending on the nature of the data and the research question being addressed. The mean is often used when the data is normally distributed and does not contain extreme values. The median is used when the data is skewed or contains outliers. The mode is used to describe categorical or nominal data where the most frequent category is of interest."
   ]
  },
  {
   "cell_type": "markdown",
   "id": "df0dfab9",
   "metadata": {},
   "source": [
    "#### Q3. Measure the three measures of central tendency for the given height data:\n",
    "[178,177,176,177,178.2,178,175,179,180,175,178.9,176.2,177,172.5,178,176.5]"
   ]
  },
  {
   "cell_type": "markdown",
   "id": "f6dcf052",
   "metadata": {},
   "source": [
    "To find the measures of central tendency for the given height data, we can calculate the mean, median, and mode:\n",
    "\n",
    "#### Mean:\n",
    "To calculate the mean, we add up all the values in the dataset and divide by the total number of values:\n",
    "mean = (178 + 177 + 176 + 177 + 178.2 + 178 + 175 + 179 + 180 + 175 + 178.9 + 176.2 + 177 + 172.5 + 178 + 176.5) / 16\n",
    "mean = 176.90625\n",
    "Therefore, the mean height is approximately 176.9 cm.\n",
    "\n",
    "#### Median:\n",
    "To find the median, we need to first sort the data in ascending order:\n",
    "[172.5, 175, 175, 176, 176.2, 176.5, 177, 177, 178, 178, 178, 178.2, 178.9, 179, 180]\n",
    "Since the dataset contains an even number of values, we take the average of the two middle values:\n",
    "median = (177 + 178) / 2\n",
    "median = 177.5\n",
    "\n",
    "Therefore, the median height is approximately 177.5 cm.\n",
    "\n",
    "#### Mode:\n",
    "To find the mode, we need to identify the value(s) that appear most frequently in the dataset. In this case, there is no single value that appears more than once, so the dataset has no mode.\n",
    "Therefore, the height data has no mode."
   ]
  },
  {
   "cell_type": "code",
   "execution_count": 1,
   "id": "610dc95f",
   "metadata": {},
   "outputs": [],
   "source": [
    "import numpy as np\n",
    "heights=[178,177,176,177,178.2,178,175,179,180,175,178.9,176.2,177,172.5,178,176.5]"
   ]
  },
  {
   "cell_type": "code",
   "execution_count": 2,
   "id": "aeb653b8",
   "metadata": {},
   "outputs": [
    {
     "name": "stdout",
     "output_type": "stream",
     "text": [
      "177.01875\n"
     ]
    }
   ],
   "source": [
    "print(np.mean(heights))"
   ]
  },
  {
   "cell_type": "code",
   "execution_count": 3,
   "id": "f42c3986",
   "metadata": {},
   "outputs": [
    {
     "name": "stdout",
     "output_type": "stream",
     "text": [
      "177.0\n"
     ]
    }
   ],
   "source": [
    "print(np.median(heights))"
   ]
  },
  {
   "cell_type": "markdown",
   "id": "6cc7fd7f",
   "metadata": {},
   "source": [
    "#### Q4. Find the standard deviation for the given data:\n",
    "[178,177,176,177,178.2,178,175,179,180,175,178.9,176.2,177,172.5,178,176.5]"
   ]
  },
  {
   "cell_type": "code",
   "execution_count": 8,
   "id": "ea726084",
   "metadata": {},
   "outputs": [
    {
     "data": {
      "text/plain": [
       "1.7885814036548633"
      ]
     },
     "execution_count": 8,
     "metadata": {},
     "output_type": "execute_result"
    }
   ],
   "source": [
    "data=[178,177,176,177,178.2,178,175,179,180,175,178.9,176.2,177,172.5,178,176.5]\n",
    "np.std(data)"
   ]
  },
  {
   "cell_type": "markdown",
   "id": "e1567c85",
   "metadata": {},
   "source": [
    "#### Q5. How are measures of dispersion such as range, variance, and standard deviation used to describe the spread of a dataset? Provide an example."
   ]
  },
  {
   "cell_type": "markdown",
   "id": "f44945a7",
   "metadata": {},
   "source": [
    "Measures of dispersion, such as range, variance, and standard deviation, are used to describe the spread or variability of a dataset. They provide information about how the data is distributed around the central tendency.\n",
    "\n",
    "#### Range:\n",
    "The range is the difference between the largest and smallest values in a dataset. It gives an indication of how spread out the data is. A large range means that the data is spread out over a wide range of values, while a small range means that the data is more tightly clustered around the central tendency. For example, if we have the following dataset of test scores: [55, 60, 65, 70, 75], the range is 20 (75 - 55). This indicates that the test scores are spread out over a wide range of values.\n",
    "\n",
    "#### Variance:\n",
    "Variance is a measure of how much the data varies or deviates from the mean. It is calculated by taking the average of the squared differences between each data point and the mean. A high variance means that the data is more spread out, while a low variance means that the data is more tightly clustered around the mean. For example, if we have the following dataset of test scores: [55, 60, 65, 70, 75], the variance is approximately 62.5. This indicates that the test scores are somewhat spread out.\n",
    "\n",
    "#### Standard deviation:\n",
    "The standard deviation is the square root of the variance. It provides a measure of the average distance between each data point and the mean. A high standard deviation means that the data is more spread out, while a low standard deviation means that the data is more tightly clustered around the mean. For example, if we have the following dataset of test scores: [55, 60, 65, 70, 75], the standard deviation is approximately 7.9. This indicates that the test scores are somewhat spread out.\n",
    "\n",
    "In summary, measures of dispersion such as range, variance, and standard deviation provide useful information about how the data is distributed around the central tendency. They can help identify outliers, assess the spread of data, and compare the variability of different datasets."
   ]
  },
  {
   "cell_type": "markdown",
   "id": "8b643b21",
   "metadata": {},
   "source": [
    "#### Q6. What is a Venn diagram?"
   ]
  },
  {
   "cell_type": "markdown",
   "id": "303be303",
   "metadata": {},
   "source": [
    "A Venn diagram is a visual representation of the relationships between different sets of data or groups. It consists of a series of overlapping circles or other shapes, with each circle representing a set or group and the overlap between circles representing the intersection or overlap of those sets or groups. Venn diagrams are commonly used to illustrate logical relationships and set theory concepts.\n",
    "\n",
    "In a Venn diagram, each circle or shape represents a set, and the elements of each set are represented by points or other symbols within the circle. The area of overlap between two or more circles represents the elements that are common to those sets. For example, a Venn diagram could be used to represent the relationships between different categories of animals, with one circle representing mammals, another representing birds, and the area of overlap representing animals that are both mammals and birds (such as bats).\n",
    "\n",
    "Venn diagrams are widely used in fields such as mathematics, logic, statistics, and computer science. They can be useful for visualizing complex relationships between data sets or groups, and for identifying similarities and differences between different categories or subsets of data.\n",
    "\n",
    "\n",
    "\n"
   ]
  },
  {
   "cell_type": "markdown",
   "id": "a31adec9",
   "metadata": {},
   "source": [
    "#### Q7. For the two given sets A = (2,3,4,5,6,7) & B = (0,2,6,8,10). Find:\n",
    "(i) A B\n",
    "(ii) A ⋃ B"
   ]
  },
  {
   "cell_type": "code",
   "execution_count": 10,
   "id": "b3649452",
   "metadata": {},
   "outputs": [
    {
     "data": {
      "text/plain": [
       "{0, 2, 3, 4, 5, 6, 7, 8, 10}"
      ]
     },
     "execution_count": 10,
     "metadata": {},
     "output_type": "execute_result"
    }
   ],
   "source": [
    "A={2,3,4,5,6,7}\n",
    "B={0,2,6,8,10}\n",
    "\n",
    "union_set=A.union(B)\n",
    "union_set"
   ]
  },
  {
   "cell_type": "code",
   "execution_count": 12,
   "id": "8322b26c",
   "metadata": {},
   "outputs": [
    {
     "data": {
      "text/plain": [
       "{2, 6}"
      ]
     },
     "execution_count": 12,
     "metadata": {},
     "output_type": "execute_result"
    }
   ],
   "source": [
    "intersc_set=A.intersection(B)\n",
    "intersc_set"
   ]
  },
  {
   "cell_type": "markdown",
   "id": "4fafb2bf",
   "metadata": {},
   "source": [
    "#### Q8. What do you understand about skewness in data?"
   ]
  },
  {
   "cell_type": "markdown",
   "id": "52472d78",
   "metadata": {},
   "source": [
    "Skewness is a measure of the asymmetry of a probability distribution or dataset. It indicates the degree to which a dataset deviates from a normal distribution, which is a symmetric distribution where the mean, median, and mode are equal.\n",
    "\n",
    "A dataset can be positively skewed, negatively skewed, or approximately symmetric. Positive skewness means that the dataset has a tail that extends to the right, and the mean is greater than the median. Negative skewness means that the dataset has a tail that extends to the left, and the mean is less than the median. Symmetric datasets have no skewness, and the mean, median, and mode are equal.\n",
    "\n",
    "Skewness can have important implications for data analysis and modeling. In many cases, data that is highly skewed may need to be transformed in order to meet the assumptions of certain statistical tests or models. For example, if a dataset is positively skewed, taking the logarithm of the data may reduce the skewness and make it more appropriate for certain types of analysis.\n",
    "\n",
    "Skewness can also affect the interpretation of summary statistics, such as the mean and standard deviation. If a dataset is highly skewed, the mean may not be a good measure of central tendency, and the standard deviation may not be a good measure of variability. In these cases, it may be more appropriate to use alternative measures, such as the median and interquartile range.\n",
    "\n",
    "In summary, skewness is a measure of the asymmetry of a dataset and can have important implications for data analysis and modeling. It is important to consider skewness when interpreting summary statistics and deciding on appropriate data transformations."
   ]
  },
  {
   "cell_type": "markdown",
   "id": "0c96b1a9",
   "metadata": {},
   "source": [
    "#### Q9. If a data is right skewed then what will be the position of median with respect to mean?"
   ]
  },
  {
   "cell_type": "markdown",
   "id": "197a7886",
   "metadata": {},
   "source": [
    "If a data is right skewed, then the median will be less than the mean. This is because the mean is pulled towards the long tail of the distribution, where the larger values are located. In a right-skewed distribution, the long tail is on the right-hand side, so the mean is greater than the median.\n",
    "\n",
    "To understand this better, consider an example of a right-skewed dataset, such as income data. In a population where most people have relatively low income, but there are a few extremely wealthy individuals with very high income, the income distribution will be right skewed. The mean income in this population will be higher than the median income, because the few individuals with very high income will pull up the mean, but not affect the median much.\n",
    "\n",
    "In summary, in a right-skewed distribution, the median will be less than the mean.\n",
    "\n",
    "\n",
    "\n"
   ]
  },
  {
   "cell_type": "markdown",
   "id": "51e43e74",
   "metadata": {},
   "source": [
    "#### Q10. Explain the difference between covariance and correlation. How are these measures used in statistical analysis?"
   ]
  },
  {
   "cell_type": "markdown",
   "id": "a9653afd",
   "metadata": {},
   "source": [
    "Covariance and correlation are both measures of the relationship between two variables. However, they differ in how they are calculated and what they indicate about the relationship between the variables.\n",
    "\n",
    "Covariance is a measure of the joint variability of two random variables. It measures how much two variables change together, or co-vary, from their expected values. If two variables have a positive covariance, then they tend to increase or decrease together. If they have a negative covariance, then they tend to move in opposite directions. However, the magnitude of the covariance is not standardized, so it is difficult to compare covariances between different pairs of variables or to interpret their magnitude.\n",
    "\n",
    "Correlation, on the other hand, is a standardized measure of the linear relationship between two variables. It measures the strength and direction of the relationship between two variables on a scale from -1 to 1. A correlation coefficient of +1 indicates a perfect positive relationship, a correlation coefficient of 0 indicates no relationship, and a correlation coefficient of -1 indicates a perfect negative relationship. Correlation is calculated by dividing the covariance by the product of the standard deviations of the two variables, so it is a standardized measure that can be compared between different pairs of variables.\n",
    "\n",
    "Both covariance and correlation are used in statistical analysis to study the relationship between variables. However, correlation is more commonly used because it is standardized and easier to interpret. Correlation is used to determine the strength and direction of the relationship between variables, and to test hypotheses about the relationship between variables. Covariance, on the other hand, is less commonly used because it is not standardized and difficult to compare. However, it is still useful for certain applications, such as in finance where it is used to calculate portfolio risk."
   ]
  },
  {
   "cell_type": "markdown",
   "id": "5f0aa956",
   "metadata": {},
   "source": [
    "#### Q11. What is the formula for calculating the sample mean? Provide an example calculation for a dataset."
   ]
  },
  {
   "cell_type": "markdown",
   "id": "00aba502",
   "metadata": {},
   "source": [
    "The formula for calculating the sample mean is:\n",
    "\n",
    "Sample mean = (sum of all values in the sample) / (number of values in the sample)\n",
    "\n",
    "In symbols, we can represent this as:\n",
    "\n",
    "x̄ = Σx / n\n",
    "\n",
    "where x̄ is the sample mean, Σx is the sum of all values in the sample, and n is the number of values in the sample.\n",
    "\n",
    "Here is an example calculation for a dataset:\n",
    "\n",
    "Dataset: 5, 10, 15, 20, 25\n",
    "\n",
    "Step 1: Add up all the values in the dataset:\n",
    "\n",
    "Σx = 5 + 10 + 15 + 20 + 25 = 75\n",
    "\n",
    "Step 2: Count the number of values in the dataset:\n",
    "\n",
    "n = 5\n",
    "\n",
    "Step 3: Plug the values into the formula for the sample mean:\n",
    "\n",
    "x̄ = Σx / n = 75 / 5 = 15\n",
    "\n",
    "Therefore, the sample mean for this dataset is 15."
   ]
  },
  {
   "cell_type": "markdown",
   "id": "8a6b0da1",
   "metadata": {},
   "source": [
    "#### Q12. For a normal distribution data what is the relationship between its measure of central tendency?"
   ]
  },
  {
   "cell_type": "markdown",
   "id": "27944138",
   "metadata": {},
   "source": [
    "For a normal distribution, the mean, median, and mode are all equal, and they are located at the center of the distribution. This is because a normal distribution is symmetric, meaning that the left and right halves of the distribution are mirror images of each other.\n",
    "\n",
    "Since the mean is the arithmetic average of all the data points, it is often used as the measure of central tendency for normally distributed data. The median, which is the middle value when the data is sorted in order, is also a good measure of central tendency for normally distributed data because it is not affected by extreme values (outliers) as much as the mean. The mode, which is the value that occurs most frequently in the data, is less commonly used as a measure of central tendency for normally distributed data because it is not always well-defined (i.e., there may be multiple modes or no mode at all).\n",
    "\n",
    "In summary, for normally distributed data, the mean, median, and mode are all equal and located at the center of the distribution. The mean and median are both good measures of central tendency, while the mode is less commonly used."
   ]
  },
  {
   "cell_type": "markdown",
   "id": "04617695",
   "metadata": {},
   "source": [
    "#### Q13. How is covariance different from correlation?"
   ]
  },
  {
   "cell_type": "markdown",
   "id": "5100a3e8",
   "metadata": {},
   "source": [
    "Covariance and correlation are both measures of the relationship between two variables. However, they differ in how they are calculated and what they indicate about the relationship between the variables.\n",
    "\n",
    "Covariance measures the joint variability of two random variables. It measures how much two variables change together, or co-vary, from their expected values. If two variables have a positive covariance, then they tend to increase or decrease together. If they have a negative covariance, then they tend to move in opposite directions. However, the magnitude of the covariance is not standardized, so it is difficult to compare covariances between different pairs of variables or to interpret their magnitude.\n",
    "\n",
    "Correlation, on the other hand, is a standardized measure of the linear relationship between two variables. It measures the strength and direction of the relationship between two variables on a scale from -1 to 1. A correlation coefficient of +1 indicates a perfect positive relationship, a correlation coefficient of 0 indicates no relationship, and a correlation coefficient of -1 indicates a perfect negative relationship. Correlation is calculated by dividing the covariance by the product of the standard deviations of the two variables, so it is a standardized measure that can be compared between different pairs of variables.\n",
    "\n",
    "In summary, covariance and correlation are both measures of the relationship between two variables, but covariance measures the joint variability of two variables while correlation measures the strength and direction of the linear relationship between two variables. Correlation is a standardized measure, while covariance is not, making correlation easier to interpret and compare across different pairs of variables."
   ]
  },
  {
   "cell_type": "markdown",
   "id": "3f14f86d",
   "metadata": {},
   "source": [
    "#### Q14. How do outliers affect measures of central tendency and dispersion? Provide an example."
   ]
  },
  {
   "cell_type": "markdown",
   "id": "559fee1d",
   "metadata": {},
   "source": [
    "Outliers are data points that are significantly different from the rest of the data in a dataset. Outliers can affect measures of central tendency and dispersion in different ways.\n",
    "\n",
    "For measures of central tendency, outliers can pull the mean away from the center of the data, especially if the dataset is small. For example, consider the following dataset of exam scores:\n",
    "\n",
    "10, 20, 30, 40, 50, 60, 70, 80, 90, 100\n",
    "\n",
    "The mean of this dataset is 55. However, if we add an outlier to the dataset:\n",
    "\n",
    "10, 20, 30, 40, 50, 60, 70, 80, 90, 100, 500\n",
    "\n",
    "The mean of the new dataset is now 95.45, which is much higher than the center of the data. The median, on the other hand, is not affected as much by outliers, since it is the middle value of the sorted dataset. In the first dataset, the median is 55, and in the second dataset, it is 60.\n",
    "\n",
    "For measures of dispersion, outliers can increase the range, variance, and standard deviation of the data. For example, consider the following dataset of ages:\n",
    "\n",
    "20, 21, 22, 23, 24, 25, 26, 27, 28, 29\n",
    "\n",
    "The range of this dataset is 9. However, if we add an outlier to the dataset:\n",
    "\n",
    "20, 21, 22, 23, 24, 25, 26, 27, 28, 29, 100\n",
    "\n",
    "The range of the new dataset is now 80, which is much larger than the center of the data. The variance and standard deviation are also affected by outliers, since they measure the spread of the data around the mean. In the first dataset, the variance is 8.25 and the standard deviation is 2.87. In the second dataset, the variance is 603.61 and the standard deviation is 24.56.\n",
    "\n",
    "In summary, outliers can significantly affect measures of central tendency and dispersion, particularly the mean, range, variance, and standard deviation. The median and interquartile range are less affected by outliers. It is important to identify and address outliers before conducting statistical analysis to ensure accurate results.\n",
    "\n",
    "\n",
    "\n"
   ]
  },
  {
   "cell_type": "code",
   "execution_count": null,
   "id": "1e673737",
   "metadata": {},
   "outputs": [],
   "source": []
  }
 ],
 "metadata": {
  "kernelspec": {
   "display_name": "Python 3 (ipykernel)",
   "language": "python",
   "name": "python3"
  },
  "language_info": {
   "codemirror_mode": {
    "name": "ipython",
    "version": 3
   },
   "file_extension": ".py",
   "mimetype": "text/x-python",
   "name": "python",
   "nbconvert_exporter": "python",
   "pygments_lexer": "ipython3",
   "version": "3.9.12"
  }
 },
 "nbformat": 4,
 "nbformat_minor": 5
}
