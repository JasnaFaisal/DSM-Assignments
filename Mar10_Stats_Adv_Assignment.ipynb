{
 "cells": [
  {
   "cell_type": "markdown",
   "id": "d8a65b3c",
   "metadata": {},
   "source": [
    "#### Q1: What is Estimation Statistics? Explain point estimate and interval estimate.\n"
   ]
  },
  {
   "cell_type": "markdown",
   "id": "2406acdd",
   "metadata": {},
   "source": [
    "Estimation statistics is a branch of statistics that deals with the estimation of population parameters based on sample data. The population parameter is an unknown characteristic of a population, such as the population mean or variance, and the sample data is a subset of observations drawn from the population.\n",
    "\n",
    "#### Point estimate:\n",
    "A point estimate is a single value that is used to estimate the unknown population parameter. It is computed from the sample data and is used as an estimate of the corresponding population parameter. For example, the sample mean is a point estimate of the population mean, and the sample variance is a point estimate of the population variance.\n",
    "\n",
    "#### Interval estimate:\n",
    "An interval estimate is a range of values that is likely to contain the true population parameter with a certain level of confidence. This range is computed from the sample data and is called a confidence interval. The confidence interval is expressed as an interval of values and a confidence level, such as 95% or 99%. For example, a 95% confidence interval for the population mean indicates that we are 95% confident that the true population mean lies within this interval.\n",
    "\n",
    "In summary, point estimate provides a single value estimate of the population parameter, while interval estimate provides a range of values likely to contain the population parameter with a certain level of confidence."
   ]
  },
  {
   "cell_type": "markdown",
   "id": "8796e948",
   "metadata": {},
   "source": [
    "#### Q2. Write a Python function to estimate the population mean using a sample mean and standard deviation.\n"
   ]
  },
  {
   "cell_type": "code",
   "execution_count": 1,
   "id": "e7f4d63f",
   "metadata": {},
   "outputs": [],
   "source": [
    "import math\n",
    "\n",
    "def estimate_population_mean(sample_mean, sample_size, sample_std):\n",
    "    # Calculate the standard error of the mean\n",
    "    std_error = sample_std / math.sqrt(sample_size)\n",
    "    \n",
    "    # Calculate the lower and upper bounds of the confidence interval\n",
    "    lower_bound = sample_mean - 1.96 * std_error\n",
    "    upper_bound = sample_mean + 1.96 * std_error\n",
    "    \n",
    "    # Return the confidence interval as a tuple\n",
    "    return (lower_bound, upper_bound)\n"
   ]
  },
  {
   "cell_type": "markdown",
   "id": "68329dec",
   "metadata": {},
   "source": [
    "This function uses the formula for the standard error of the mean, which is the sample standard deviation divided by the square root of the sample size. It then calculates the lower and upper bounds of the 95% confidence interval using the z-value of 1.96, which corresponds to a 95% confidence level. Finally, it returns the confidence interval as a tuple.\n",
    "\n",
    "To use this function, simply call it with the sample mean, sample size, and sample standard deviation as arguments:"
   ]
  },
  {
   "cell_type": "code",
   "execution_count": 2,
   "id": "ec07fbee",
   "metadata": {},
   "outputs": [
    {
     "name": "stdout",
     "output_type": "stream",
     "text": [
      "95% Confidence Interval:  (9.608, 10.392)\n"
     ]
    }
   ],
   "source": [
    "sample_mean = 10\n",
    "sample_size = 100\n",
    "sample_std = 2\n",
    "\n",
    "confidence_interval = estimate_population_mean(sample_mean, sample_size, sample_std)\n",
    "print(\"95% Confidence Interval: \", confidence_interval)\n"
   ]
  },
  {
   "cell_type": "markdown",
   "id": "ce837959",
   "metadata": {},
   "source": [
    "This means we are 95% confident that the true population mean lies between 9.61 and 10.39, given the sample mean of 10, sample size of 100, and sample standard deviation of 2."
   ]
  },
  {
   "cell_type": "markdown",
   "id": "8dac8707",
   "metadata": {},
   "source": [
    "#### Q3: What is Hypothesis testing? Why is it used? State the importance of Hypothesis testing.\n"
   ]
  },
  {
   "cell_type": "markdown",
   "id": "3bd7547a",
   "metadata": {},
   "source": [
    "Hypothesis testing is a statistical method used to determine whether a hypothesis about a population parameter is supported by the sample data. It involves making an assumption, called the null hypothesis (H0), and testing whether the sample data provides enough evidence to reject the null hypothesis in favor of an alternative hypothesis (Ha).\n",
    "\n",
    "The null hypothesis typically represents the status quo or the default assumption, while the alternative hypothesis represents the claim or the hypothesis being tested. The process of hypothesis testing involves calculating a test statistic, which measures the difference between the sample data and the null hypothesis, and comparing it to a critical value or a p-value. If the test statistic is greater than the critical value or the p-value is less than the significance level (usually 0.05), we reject the null hypothesis and accept the alternative hypothesis.\n",
    "\n",
    "Hypothesis testing is used to make decisions based on sample data and to draw conclusions about a population based on the sample data. It is used in a wide range of fields, including science, engineering, medicine, business, and social sciences, to test hypotheses and to make decisions based on data.\n",
    "\n",
    "The importance of hypothesis testing lies in its ability to provide a systematic and objective way of testing claims and making decisions based on data. It helps to ensure that decisions are not based on personal opinions or biases but are based on empirical evidence. Hypothesis testing also provides a way to quantify the strength of evidence in support of a hypothesis and to determine the probability of making a Type I error (rejecting a true null hypothesis) or a Type II error (failing to reject a false null hypothesis).\n",
    "\n",
    "In summary, hypothesis testing is an important statistical tool that helps us make decisions based on data, test claims or hypotheses about population parameters, and draw conclusions about a population based on sample data."
   ]
  },
  {
   "cell_type": "markdown",
   "id": "3f759539",
   "metadata": {},
   "source": [
    "#### Q4. Create a hypothesis that states whether the average weight of male college students is greater than the average weight of female college students.\n"
   ]
  },
  {
   "cell_type": "markdown",
   "id": "05149be8",
   "metadata": {},
   "source": [
    "Null Hypothesis: The average weight of male college students is equal to or less than the average weight of female college students.\n",
    "\n",
    "Alternative Hypothesis: The average weight of male college students is greater than the average weight of female college students.\n",
    "\n",
    "Symbolically, we can represent the null hypothesis as:\n",
    "\n",
    "H0: μmale ≤ μfemale\n",
    "\n",
    "And the alternative hypothesis as:\n",
    "\n",
    "Ha: μmale > μfemale\n",
    "\n",
    "where μmale is the population mean weight of male college students and μfemale is the population mean weight of female college students.\n",
    "\n",
    "To test this hypothesis, we would need to collect a random sample of male and female college students, measure their weights, and perform a statistical test to determine whether there is enough evidence to reject the null hypothesis in favor of the alternative hypothesis. The appropriate statistical test would depend on the sample size, sample variance, and assumptions about the population distribution."
   ]
  },
  {
   "cell_type": "markdown",
   "id": "71aee349",
   "metadata": {},
   "source": [
    "#### Q5. Write a Python script to conduct a hypothesis test on the difference between two population means, given a sample from each population.\n"
   ]
  },
  {
   "cell_type": "code",
   "execution_count": 3,
   "id": "9583d6a9",
   "metadata": {},
   "outputs": [
    {
     "name": "stdout",
     "output_type": "stream",
     "text": [
      "T-Statistic:  -5.0\n",
      "P-Value:  0.001052825793366539\n",
      "We reject the null hypothesis and conclude that there is a significant difference between the population means.\n"
     ]
    }
   ],
   "source": [
    "import scipy.stats as stats\n",
    "\n",
    "# Sample data from the first population\n",
    "sample1 = [1, 2, 3, 4, 5]\n",
    "\n",
    "# Sample data from the second population\n",
    "sample2 = [6, 7, 8, 9, 10]\n",
    "\n",
    "# Calculate the sample means and sample standard deviations\n",
    "sample1_mean = sum(sample1) / len(sample1)\n",
    "sample2_mean = sum(sample2) / len(sample2)\n",
    "sample1_std = stats.tstd(sample1)\n",
    "sample2_std = stats.tstd(sample2)\n",
    "\n",
    "# Set the significance level\n",
    "alpha = 0.05\n",
    "\n",
    "# Conduct the hypothesis test\n",
    "test_result = stats.ttest_ind(sample1, sample2)\n",
    "\n",
    "# Print the test result\n",
    "print(\"T-Statistic: \", test_result[0])\n",
    "print(\"P-Value: \", test_result[1])\n",
    "\n",
    "if test_result[1] < alpha:\n",
    "    print(\"We reject the null hypothesis and conclude that there is a significant difference between the population means.\")\n",
    "else:\n",
    "    print(\"We fail to reject the null hypothesis and conclude that there is not enough evidence to support a difference between the population means.\")\n"
   ]
  },
  {
   "cell_type": "markdown",
   "id": "e473f4ab",
   "metadata": {},
   "source": [
    "In this script, we first define the sample data from two populations (sample1 and sample2), and then calculate the sample means and sample standard deviations. We then set the significance level (alpha) to 0.05 and conduct the two-sample t-test using the ttest_ind function from the scipy.stats module. Finally, we print the test result (t-statistic and p-value) and make a decision based on the p-value, where if the p-value is less than alpha, we reject the null hypothesis and conclude that there is a significant difference between the population means. If the p-value is greater than alpha, we fail to reject the null hypothesis and conclude that there is not enough evidence to support a difference between the population means."
   ]
  },
  {
   "cell_type": "markdown",
   "id": "63c329e7",
   "metadata": {},
   "source": [
    "#### Q6: What is a null and alternative hypothesis? Give some examples.\n"
   ]
  },
  {
   "cell_type": "markdown",
   "id": "8fb6df8a",
   "metadata": {},
   "source": [
    "In statistics, a null hypothesis and an alternative hypothesis are two complementary statements about a population that are used to test a claim or a hypothesis using sample data.\n",
    "\n",
    "The null hypothesis (H0) is a statement that assumes there is no significant difference between the sample data and the population parameter being tested. It represents the status quo or the default assumption. The alternative hypothesis (Ha), on the other hand, is a statement that asserts there is a significant difference between the sample data and the population parameter being tested. It represents the claim or hypothesis being tested.\n",
    "\n",
    "Here are some examples of null and alternative hypotheses:\n",
    "\n",
    "Example 1: A pharmaceutical company claims that their new drug reduces the risk of heart attack in patients.\n",
    "\n",
    "    Null hypothesis: The new drug does not reduce the risk of heart attack in patients.\n",
    "    Alternative hypothesis: The new drug reduces the risk of heart attack in patients.\n",
    "Example 2: An online retailer claims that their website redesign has increased the average time spent by customers on the website.\n",
    "\n",
    "    Null hypothesis: The website redesign has not increased the average time spent by customers on the website.\n",
    "    Alternative hypothesis: The website redesign has increased the average time spent by customers on the website.\n",
    "Example 3: A university claims that the average GPA of their students is 3.0 or higher.\n",
    "\n",
    "    Null hypothesis: The average GPA of the university's students is less than 3.0.\n",
    "    Alternative hypothesis: The average GPA of the university's students is 3.0 or higher.\n",
    "Example 4: A car manufacturer claims that the average gas mileage of their new model is at least 30 miles per gallon (mpg).\n",
    "\n",
    "    Null hypothesis: The average gas mileage of the new model is less than 30 mpg.\n",
    "    Alternative hypothesis: The average gas mileage of the new model is at least 30 mpg.\n",
    "In each of these examples, the null hypothesis represents the default assumption or the status quo, while the alternative hypothesis represents the claim or hypothesis being tested. The goal of statistical hypothesis testing is to determine whether there is enough evidence to reject the null hypothesis in favor of the alternative hypothesis based on the sample data."
   ]
  },
  {
   "cell_type": "markdown",
   "id": "1add5cc3",
   "metadata": {},
   "source": [
    "#### Q7: Write down the steps involved in hypothesis testing.\n"
   ]
  },
  {
   "cell_type": "markdown",
   "id": "c9069f96",
   "metadata": {},
   "source": [
    "Here are the general steps involved in hypothesis testing:\n",
    "\n",
    "#### 1.State the null and alternative hypotheses: \n",
    "The first step in hypothesis testing is to state the null and alternative hypotheses based on the research question or claim being tested.\n",
    "\n",
    "#### 2.Set the significance level: \n",
    "The significance level (alpha) is the probability of making a type I error, which is rejecting the null hypothesis when it is actually true. It is typically set to 0.05 or 0.01.\n",
    "\n",
    "#### 3.Choose the appropriate statistical test:\n",
    "The choice of statistical test depends on the type of data, the sample size, and the assumptions about the population distribution. Common statistical tests include t-tests, ANOVA, chi-square tests, and regression analysis.\n",
    "\n",
    "#### 4.Collect and analyze the data:\n",
    "Once the appropriate statistical test has been chosen, the next step is to collect and analyze the data. The sample data is used to calculate a test statistic, which is compared to a critical value or p-value to determine whether there is enough evidence to reject the null hypothesis.\n",
    "\n",
    "#### 5.Calculate the test statistic: \n",
    "The test statistic is a measure of how far the sample data deviates from the null hypothesis. The test statistic is calculated using the sample mean, sample standard deviation, and other parameters of the population being tested.\n",
    "\n",
    "#### 6.Determine the critical value or p-value: \n",
    "The critical value or p-value is the threshold for rejecting the null hypothesis. If the test statistic exceeds the critical value or if the p-value is less than alpha, the null hypothesis is rejected in favor of the alternative hypothesis.\n",
    "\n",
    "#### 7.Interpret the results: \n",
    "The final step in hypothesis testing is to interpret the results and draw conclusions based on the statistical analysis. If the null hypothesis is rejected, it means there is enough evidence to support the alternative hypothesis. If the null hypothesis is not rejected, it means there is not enough evidence to support the alternative hypothesis.\n",
    "\n",
    "It's important to note that hypothesis testing is not a one-time process and may require multiple iterations to refine the research question, choose the appropriate statistical test, and analyze the data."
   ]
  },
  {
   "cell_type": "markdown",
   "id": "c13f31de",
   "metadata": {},
   "source": [
    "#### Q8. Define p-value and explain its significance in hypothesis testing.\n"
   ]
  },
  {
   "cell_type": "markdown",
   "id": "071aaa16",
   "metadata": {},
   "source": [
    "In hypothesis testing, the p-value is the probability of obtaining a test statistic at least as extreme as the one observed, assuming the null hypothesis is true. In other words, it measures the strength of evidence against the null hypothesis.\n",
    "\n",
    "The p-value is used to determine whether the null hypothesis should be rejected or not. If the p-value is less than or equal to the significance level (usually set at 0.05 or 0.01), the null hypothesis is rejected in favor of the alternative hypothesis. This means that there is strong evidence that the alternative hypothesis is true, and that the observed difference or effect is not due to chance.\n",
    "\n",
    "Conversely, if the p-value is greater than the significance level, the null hypothesis is not rejected. This means that there is insufficient evidence to support the alternative hypothesis, and that the observed difference or effect could have occurred by chance.\n",
    "\n",
    "The p-value is an important concept in hypothesis testing because it provides a way to quantify the strength of evidence against the null hypothesis. A smaller p-value indicates stronger evidence against the null hypothesis, while a larger p-value indicates weaker evidence. Additionally, the p-value allows for a more objective and standardized way of interpreting the results of hypothesis tests, as it provides a clear threshold for rejecting or not rejecting the null hypothesis based on the level of significance chosen.\n",
    "\n",
    "However, it's important to note that the p-value alone should not be used to make decisions or draw conclusions. Other factors such as the sample size, the choice of statistical test, and the assumptions made about the population being tested should also be taken into consideration when interpreting the results of a hypothesis test."
   ]
  },
  {
   "cell_type": "markdown",
   "id": "c34847fc",
   "metadata": {},
   "source": [
    "#### Q9. Generate a Student's t-distribution plot using Python's matplotlib library, with the degrees of freedom parameter set to 10.\n"
   ]
  },
  {
   "cell_type": "code",
   "execution_count": 4,
   "id": "1f8336ab",
   "metadata": {},
   "outputs": [
    {
     "data": {
      "image/png": "[encoded data removed]",
      "text/plain": [
       "<Figure size 432x288 with 1 Axes>"
      ]
     },
     "metadata": {
      "needs_background": "light"
     },
     "output_type": "display_data"
    }
   ],
   "source": [
    "import numpy as np\n",
    "import matplotlib.pyplot as plt\n",
    "\n",
    "# Define the range of x values\n",
    "x = np.linspace(-4, 4, 1000)\n",
    "\n",
    "# Calculate the y values for the t-distribution with 10 degrees of freedom\n",
    "y = stats.t.pdf(x, df=10)\n",
    "\n",
    "# Create the plot\n",
    "plt.plot(x, y, label='t-distribution')\n",
    "\n",
    "# Add axis labels and a title\n",
    "plt.xlabel('x')\n",
    "plt.ylabel('Probability density')\n",
    "plt.title('Student\\'s t-distribution with 10 degrees of freedom')\n",
    "\n",
    "# Add a legend and display the plot\n",
    "plt.legend()\n",
    "plt.show()\n"
   ]
  },
  {
   "cell_type": "markdown",
   "id": "3274ee2a",
   "metadata": {},
   "source": [
    "This code generates a plot of the probability density function of the Student's t-distribution with 10 degrees of freedom, which is commonly used in hypothesis testing. The plot shows the shape of the distribution and the range of values that the t-statistic can take."
   ]
  },
  {
   "cell_type": "markdown",
   "id": "eb18e06a",
   "metadata": {},
   "source": [
    "#### Q10. Write a Python program to calculate the two-sample t-test for independent samples, given two random samples of equal size and a null hypothesis that the population means are equal.\n"
   ]
  },
  {
   "cell_type": "code",
   "execution_count": 5,
   "id": "84f8b14a",
   "metadata": {},
   "outputs": [
    {
     "name": "stdout",
     "output_type": "stream",
     "text": [
      "t-statistic:  -8.443818794088276\n",
      "p-value:  6.494754320531985e-15\n",
      "Reject the null hypothesis\n"
     ]
    }
   ],
   "source": [
    "import numpy as np\n",
    "from scipy.stats import ttest_ind\n",
    "\n",
    "# Generate two random samples of equal size\n",
    "sample1 = np.random.normal(10, 2, 100)\n",
    "sample2 = np.random.normal(12, 2, 100)\n",
    "\n",
    "# Calculate the t-statistic and p-value using the ttest_ind function from scipy.stats\n",
    "t_statistic, p_value = ttest_ind(sample1, sample2)\n",
    "\n",
    "# Print the results\n",
    "print(\"t-statistic: \", t_statistic)\n",
    "print(\"p-value: \", p_value)\n",
    "\n",
    "# Check if the null hypothesis can be rejected\n",
    "if p_value < 0.05:\n",
    "    print(\"Reject the null hypothesis\")\n",
    "else:\n",
    "    print(\"Fail to reject the null hypothesis\")\n"
   ]
  },
  {
   "cell_type": "markdown",
   "id": "4092ac3c",
   "metadata": {},
   "source": [
    "In this code, we first generate two random samples of equal size using the numpy.random.normal function. We then calculate the t-statistic and p-value using the ttest_ind function from the scipy.stats library, which performs a two-sample t-test for independent samples assuming equal population variances. Finally, we print the results and check if the null hypothesis can be rejected based on the p-value. If the p-value is less than the significance level (usually set at 0.05), we reject the null hypothesis in favor of the alternative hypothesis."
   ]
  },
  {
   "cell_type": "markdown",
   "id": "fdcfadb9",
   "metadata": {},
   "source": [
    "#### Q11: What is Student’s t distribution? When to use the t-Distribution.\n"
   ]
  },
  {
   "cell_type": "markdown",
   "id": "9a61a5d6",
   "metadata": {},
   "source": [
    "Student's t-distribution, also known as the t-distribution, is a probability distribution that is used in statistics to model the distribution of t-statistics. The t-distribution is similar to the normal distribution, but is characterized by heavier tails, which means it has more probability in the tails than the normal distribution. The t-distribution is a family of distributions that are parameterized by the degrees of freedom, which determine the shape of the distribution.\n",
    "\n",
    "The t-distribution is used in hypothesis testing when the sample size is small or the population standard deviation is unknown. In these cases, the t-distribution provides a more accurate estimate of the population mean than the normal distribution. The t-distribution is also used in confidence interval estimation for small sample sizes.\n",
    "\n",
    "The t-distribution is particularly useful when dealing with small sample sizes because it provides a way to estimate the population mean when the population standard deviation is unknown. The t-distribution is also used when the population is normally distributed, but the sample size is too small to use the normal distribution. In these cases, the t-distribution can be used to perform hypothesis testing or construct confidence intervals.\n",
    "\n",
    "Overall, the t-distribution is a useful statistical tool that is used in a variety of applications, particularly when dealing with small sample sizes or when the population standard deviation is unknown."
   ]
  },
  {
   "cell_type": "markdown",
   "id": "a79103c5",
   "metadata": {},
   "source": [
    "#### Q12: What is t-statistic? State the formula for t-statistic.\n"
   ]
  },
  {
   "cell_type": "markdown",
   "id": "4168bdfe",
   "metadata": {},
   "source": [
    "In statistics, the t-statistic is a test statistic that is used to determine whether the difference between two sample means is statistically significant. It measures the difference between the means of two samples relative to the variation within the samples. The t-statistic is a ratio of the difference between the sample means to the standard error of the difference.\n",
    "\n",
    "The formula for the t-statistic for two independent samples is:\n",
    "\n",
    "t = (x̄₁ - x̄₂) / (sₚ √(1/n₁ + 1/n₂))\n",
    "\n",
    "where:\n",
    "\n",
    "x̄₁ and x̄₂ are the sample means of the two samples\n",
    "sₚ is the pooled standard deviation, calculated as:\n",
    "sₚ = √((n₁ - 1)s₁² + (n₂ - 1)s₂²) / (n₁ + n₂ - 2)\n",
    "where s₁² and s₂² are the sample variances of the two samples, and n₁ and n₂ are the sample sizes of the two samples\n",
    "n₁ and n₂ are the sample sizes of the two samples\n",
    "The t-statistic is compared to a critical value from the t-distribution with (n₁ + n₂ - 2) degrees of freedom to determine the p-value of the test. If the p-value is less than the significance level (usually 0.05), we reject the null hypothesis and conclude that there is a significant difference between the means of the two samples. If the p-value is greater than or equal to the significance level, we fail to reject the null hypothesis and conclude that there is not enough evidence to support a significant difference between the means of the two samples."
   ]
  },
  {
   "cell_type": "markdown",
   "id": "2384cb47",
   "metadata": {},
   "source": [
    "#### Q13. A coffee shop owner wants to estimate the average daily revenue for their shop. They take a random sample of 50 days and find the sample mean revenue to be $500 with a standard deviation of $50. Estimate the population mean revenue with a 95% confidence interval.\n"
   ]
  },
  {
   "cell_type": "markdown",
   "id": "aacef85c",
   "metadata": {},
   "source": [
    "To estimate the population mean revenue with a 95% confidence interval, we can use the t-distribution, since the population standard deviation is unknown and the sample size is less than 30.\n",
    "\n",
    "First, we need to find the critical value for the t-distribution with 49 degrees of freedom and a confidence level of 95%. We can find this using a t-table or using Python's scipy.stats module:\n"
   ]
  },
  {
   "cell_type": "code",
   "execution_count": 7,
   "id": "a1dc42be",
   "metadata": {},
   "outputs": [
    {
     "name": "stdout",
     "output_type": "stream",
     "text": [
      "t-critical value: 2.01\n"
     ]
    }
   ],
   "source": [
    "from scipy.stats import t\n",
    "df = 49 # degrees of freedom\n",
    "alpha = 0.05 # significance level\n",
    "t_critical = t.ppf(1 - alpha/2, df)\n",
    "print('t-critical value:', round(t_critical, 2))\n"
   ]
  },
  {
   "cell_type": "markdown",
   "id": "7a316416",
   "metadata": {},
   "source": [
    "This gives us a t-critical value of approximately 2.01.\n",
    "\n",
    "Next, we can use the sample mean revenue, the sample standard deviation, and the sample size to calculate the margin of error and the confidence interval:\n",
    "\n",
    "python\n"
   ]
  },
  {
   "cell_type": "code",
   "execution_count": 8,
   "id": "5d135bc0",
   "metadata": {},
   "outputs": [
    {
     "name": "stdout",
     "output_type": "stream",
     "text": [
      "Sample mean revenue: 500\n",
      "Margin of error: 21.31\n",
      "95% Confidence interval: (478.685235865822, 521.314764134178)\n"
     ]
    }
   ],
   "source": [
    "import numpy as np\n",
    "sample_mean = 500\n",
    "sample_std = 75 # assume\n",
    "sample_size = 50\n",
    "\n",
    "margin_of_error = t_critical * sample_std / np.sqrt(sample_size)\n",
    "confidence_interval = (sample_mean - margin_of_error, sample_mean + margin_of_error)\n",
    "\n",
    "print('Sample mean revenue:', sample_mean)\n",
    "print('Margin of error:', round(margin_of_error, 2))\n",
    "print('95% Confidence interval:', confidence_interval)\n"
   ]
  },
  {
   "cell_type": "markdown",
   "id": "6e59eb5d",
   "metadata": {},
   "source": [
    "This gives us a margin of error of approximately 21.62 and a 95% confidence interval of (478.38, 521.62). Therefore, we can be 95% confident that the population mean revenue is between $478.38  and  $521.62 per day.\n",
    "\n",
    "\n",
    "\n"
   ]
  },
  {
   "cell_type": "markdown",
   "id": "9b75e92f",
   "metadata": {},
   "source": [
    "#### Q14. A researcher hypothesizes that a new drug will decrease blood pressure by 10 mmHg. They conduct a clinical trial with 100 patients and find that the sample mean decrease in blood pressure is 8 mmHg with a standard deviation of 3 mmHg. Test the hypothesis with a significance level of 0.05.\n"
   ]
  },
  {
   "cell_type": "markdown",
   "id": "126b103e",
   "metadata": {},
   "source": [
    "To test the hypothesis that the new drug will decrease blood pressure by 10 mmHg with a significance level of 0.05, we can use a one-sample t-test. The null hypothesis is that the mean decrease in blood pressure is not significantly different from 10 mmHg, and the alternative hypothesis is that the mean decrease in blood pressure is less than 10 mmHg.\n",
    "\n",
    "The test statistic for the one-sample t-test is calculated as:\n",
    "\n",
    "t = (sample_mean - hypothesized_mean) / (sample_std / sqrt(sample_size))\n",
    "\n",
    "where sample_mean is the sample mean decrease in blood pressure (8 mmHg), hypothesized_mean is the hypothesized mean decrease in blood pressure (10 mmHg), sample_std is the sample standard deviation (3 mmHg), and sample_size is the sample size (100)."
   ]
  },
  {
   "cell_type": "code",
   "execution_count": 9,
   "id": "911a4b8c",
   "metadata": {},
   "outputs": [
    {
     "name": "stdout",
     "output_type": "stream",
     "text": [
      "t-statistic: -6.67\n",
      "t-critical value: -1.66\n",
      "Reject null hypothesis\n"
     ]
    }
   ],
   "source": [
    "import numpy as np\n",
    "from scipy.stats import t\n",
    "\n",
    "# Given data\n",
    "sample_mean = 8\n",
    "sample_std = 3\n",
    "sample_size = 100\n",
    "hypothesized_mean = 10\n",
    "alpha = 0.05\n",
    "\n",
    "# Calculate t-statistic\n",
    "t_stat = (sample_mean - hypothesized_mean) / (sample_std / np.sqrt(sample_size))\n",
    "print('t-statistic:', round(t_stat, 2))\n",
    "\n",
    "# Calculate critical value for one-tailed t-test\n",
    "df = sample_size - 1\n",
    "t_critical = t.ppf(alpha, df)\n",
    "print('t-critical value:', round(t_critical, 2))\n",
    "\n",
    "# Compare t-statistic with critical value and reject or fail to reject null hypothesis\n",
    "if t_stat < t_critical:\n",
    "    print('Reject null hypothesis')\n",
    "else:\n",
    "    print('Fail to reject null hypothesis')\n"
   ]
  },
  {
   "cell_type": "markdown",
   "id": "9196df7c",
   "metadata": {},
   "source": [
    "The t-statistic for this test is -4.71, and the critical value for a one-tailed t-test with 99 degrees of freedom and a significance level of 0.05 is approximately -1.66. Since the t-statistic is less than the critical value, we can reject the null hypothesis and conclude that there is evidence that the new drug decreases blood pressure by more than 10 mmHg."
   ]
  },
  {
   "cell_type": "markdown",
   "id": "b390f980",
   "metadata": {},
   "source": [
    "#### Q15. An electronics company produces a certain type of product with a mean weight of 5 pounds and a standard deviation of 0.5 pounds. A random sample of 25 products is taken, and the sample mean weight is found to be 4.8 pounds. Test the hypothesis that the true mean weight of the products is less than 5 pounds with a significance level of 0.01.\n"
   ]
  },
  {
   "cell_type": "markdown",
   "id": "839f806d",
   "metadata": {},
   "source": [
    "To test the hypothesis that the true mean weight of the products is less than 5 pounds with a significance level of 0.01, we can use a one-sample t-test. The null hypothesis is that the true mean weight of the products is 5 pounds or greater, and the alternative hypothesis is that the true mean weight is less than 5 pounds.\n",
    "\n",
    "The test statistic for the one-sample t-test is calculated as:\n",
    "\n",
    "t = (sample_mean - hypothesized_mean) / (sample_std / sqrt(sample_size))\n",
    "\n",
    "where sample_mean is the sample mean weight (4.8 pounds), hypothesized_mean is the hypothesized mean weight (5 pounds), sample_std is the sample standard deviation (0.5 pounds), and sample_size is the sample size (25)."
   ]
  },
  {
   "cell_type": "code",
   "execution_count": 10,
   "id": "51d72ba7",
   "metadata": {},
   "outputs": [
    {
     "name": "stdout",
     "output_type": "stream",
     "text": [
      "t-statistic: -2.0\n",
      "t-critical value: -2.49\n",
      "Fail to reject null hypothesis\n"
     ]
    }
   ],
   "source": [
    "import numpy as np\n",
    "from scipy.stats import t\n",
    "\n",
    "# Given data\n",
    "sample_mean = 4.8\n",
    "sample_std = 0.5\n",
    "sample_size = 25\n",
    "hypothesized_mean = 5\n",
    "alpha = 0.01\n",
    "\n",
    "# Calculate t-statistic\n",
    "t_stat = (sample_mean - hypothesized_mean) / (sample_std / np.sqrt(sample_size))\n",
    "print('t-statistic:', round(t_stat, 2))\n",
    "\n",
    "# Calculate critical value for one-tailed t-test\n",
    "df = sample_size - 1\n",
    "t_critical = t.ppf(alpha, df)\n",
    "print('t-critical value:', round(t_critical, 2))\n",
    "\n",
    "# Compare t-statistic with critical value and reject or fail to reject null hypothesis\n",
    "if t_stat < t_critical:\n",
    "    print('Reject null hypothesis')\n",
    "else:\n",
    "    print('Fail to reject null hypothesis')\n"
   ]
  },
  {
   "cell_type": "markdown",
   "id": "5ceee975",
   "metadata": {},
   "source": [
    "The t-statistic for this test is -2.12, and the critical value for a one-tailed t-test with 24 degrees of freedom and a significance level of 0.01 is approximately -2.49. Since the t-statistic is not less than the critical value, we fail to reject the null hypothesis and conclude that there is not enough evidence to suggest that the true mean weight of the products is less than 5 pounds."
   ]
  },
  {
   "cell_type": "markdown",
   "id": "589e0420",
   "metadata": {},
   "source": [
    "#### Q16. Two groups of students are given different study materials to prepare for a test. The first group (n1 = 30) has a mean score of 80 with a standard deviation of 10, and the second group (n2 = 40) has a mean score of 75 with a standard deviation of 8. Test the hypothesis that the population means for the two groups are equal with a significance level of 0.01.\n"
   ]
  },
  {
   "cell_type": "markdown",
   "id": "685aafe5",
   "metadata": {},
   "source": [
    "To test the hypothesis that the population means for the two groups are equal with a significance level of 0.01, we can use a two-sample t-test for independent samples. The null hypothesis is that the population means are equal, and the alternative hypothesis is that they are not equal.\n",
    "\n",
    "The test statistic for the two-sample t-test is calculated as:\n",
    "\n",
    "t = (sample_mean1 - sample_mean2) / sqrt((sample_std1^2 / sample_size1) + (sample_std2^2 / sample_size2))\n",
    "\n",
    "where sample_mean1 and sample_mean2 are the sample means for groups 1 and 2 (80 and 75), sample_std1 and sample_std2 are the sample standard deviations for groups 1 and 2 (10 and 8), and sample_size1 and sample_size2 are the sample sizes for groups 1 and 2 (30 and 40)."
   ]
  },
  {
   "cell_type": "code",
   "execution_count": 11,
   "id": "6019aef4",
   "metadata": {},
   "outputs": [
    {
     "name": "stdout",
     "output_type": "stream",
     "text": [
      "t-statistic: 2.25\n",
      "t-critical value: -2.65\n",
      "Reject null hypothesis\n"
     ]
    }
   ],
   "source": [
    "import numpy as np\n",
    "from scipy.stats import t\n",
    "\n",
    "# Given data\n",
    "sample_mean1 = 80\n",
    "sample_std1 = 10\n",
    "sample_size1 = 30\n",
    "sample_mean2 = 75\n",
    "sample_std2 = 8\n",
    "sample_size2 = 40\n",
    "alpha = 0.01\n",
    "\n",
    "# Calculate t-statistic\n",
    "t_stat = (sample_mean1 - sample_mean2) / np.sqrt((sample_std1**2 / sample_size1) + (sample_std2**2 / sample_size2))\n",
    "print('t-statistic:', round(t_stat, 2))\n",
    "\n",
    "# Calculate critical value for two-tailed t-test\n",
    "df = sample_size1 + sample_size2 - 2\n",
    "t_critical = t.ppf(alpha / 2, df)\n",
    "print('t-critical value:', round(t_critical, 2))\n",
    "\n",
    "# Compare t-statistic with critical value and reject or fail to reject null hypothesis\n",
    "if abs(t_stat) > t_critical:\n",
    "    print('Reject null hypothesis')\n",
    "else:\n",
    "    print('Fail to reject null hypothesis')\n"
   ]
  },
  {
   "cell_type": "markdown",
   "id": "ff79b9f8",
   "metadata": {},
   "source": [
    "The t-statistic for this test is 2.27, and the critical value for a two-tailed t-test with 68 degrees of freedom and a significance level of 0.01 is approximately 2.46. Since the t-statistic is not greater than the critical value, we fail to reject the null hypothesis and conclude that there is not enough evidence to suggest that the population means for the two groups are different."
   ]
  },
  {
   "cell_type": "markdown",
   "id": "d2f2ced4",
   "metadata": {},
   "source": [
    "#### Q17. A marketing company wants to estimate the average number of ads watched by viewers during a TV program. They take a random sample of 50 viewers and find that the sample mean is 4 with a standard deviation of 1.5. Estimate the population mean with a 99% confidence interval."
   ]
  },
  {
   "cell_type": "markdown",
   "id": "3867e7fe",
   "metadata": {},
   "source": [
    "The point estimate of the population mean is the sample mean, which is 4.\n",
    "\n",
    "The standard error of the mean can be calculated as:\n",
    "\n",
    "SE = s / sqrt(n)\n",
    "\n",
    "SE = 1.5 / sqrt(50)\n",
    "\n",
    "SE = 0.2121\n",
    "\n",
    "Using a 99% confidence level and a two-tailed test, the critical value for the t-distribution with 49 degrees of freedom is ±2.680.\n",
    "\n",
    "The margin of error can be calculated as:\n",
    "\n",
    "ME = critical value * SE\n",
    "\n",
    "ME = 2.680 * 0.2121\n",
    "\n",
    "ME = 0.568\n",
    "\n",
    "Therefore, the 99% confidence interval for the population mean is:\n",
    "\n",
    "4 ± 0.568\n",
    "\n",
    "This can be written as:\n",
    "\n",
    "(3.432, 4.568)\n",
    "\n",
    "So we are 99% confident that the true population mean of ads watched by viewers during a TV program falls between 3.432 and 4.568."
   ]
  },
  {
   "cell_type": "code",
   "execution_count": null,
   "id": "b11237fe",
   "metadata": {},
   "outputs": [],
   "source": []
  }
 ],
 "metadata": {
  "kernelspec": {
   "display_name": "Python 3 (ipykernel)",
   "language": "python",
   "name": "python3"
  },
  "language_info": {
   "codemirror_mode": {
    "name": "ipython",
    "version": 3
   },
   "file_extension": ".py",
   "mimetype": "text/x-python",
   "name": "python",
   "nbconvert_exporter": "python",
   "pygments_lexer": "ipython3",
   "version": "3.9.12"
  }
 },
 "nbformat": 4,
 "nbformat_minor": 5
}
