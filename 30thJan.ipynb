{
 "cells": [
  {
   "cell_type": "markdown",
   "id": "a0390dc4",
   "metadata": {},
   "source": [
    "1.Program to accept percentage from the user and display the grade according to the following:"
   ]
  },
  {
   "cell_type": "code",
   "execution_count": 1,
   "id": "ab0fcc52",
   "metadata": {},
   "outputs": [
    {
     "name": "stdout",
     "output_type": "stream",
     "text": [
      "Enter the percentage of marks secured:?45\n",
      "Grade D\n"
     ]
    }
   ],
   "source": [
    " marks_percent=float(input('Enter the percentage of marks secured:?'))\n",
    "if marks_percent>90:\n",
    "    print('Grade A')\n",
    "elif marks_percent>80 and marks_percent<=90:\n",
    "    print('Grade B')\n",
    "elif marks_percent>=60 and marks_percent<=80:\n",
    "    print('Grade C')\n",
    "else:\n",
    "    print('Grade D')"
   ]
  },
  {
   "cell_type": "markdown",
   "id": "9e99d5cd",
   "metadata": {},
   "source": [
    "2.Program to accept cost price of a bike  and display the road tax to be paid according to the following criteria:"
   ]
  },
  {
   "cell_type": "code",
   "execution_count": 2,
   "id": "2bb193c8",
   "metadata": {},
   "outputs": [
    {
     "name": "stdout",
     "output_type": "stream",
     "text": [
      "Enter the price of bike:89999\n",
      "Tax amount to be paid is 8999.9\n"
     ]
    }
   ],
   "source": [
    "cost_price=float(input('Enter the price of bike:'))\n",
    "if cost_price>100000:\n",
    "    print('Tax amount to be paid is {}'.format(cost_price*.15))\n",
    "elif cost_price>50000 and cost_price<=100000:\n",
    "    print('Tax amount to be paid is {}'.format(cost_price*.1))\n",
    "else:\n",
    "    print('Tax amount to be paid is {}'.format(cost_price*.05))"
   ]
  },
  {
   "cell_type": "markdown",
   "id": "1d887f8b",
   "metadata": {},
   "source": [
    "3.Accept any city from the user and display monuments of that city."
   ]
  },
  {
   "cell_type": "code",
   "execution_count": 3,
   "id": "4ecf498a",
   "metadata": {},
   "outputs": [
    {
     "name": "stdout",
     "output_type": "stream",
     "text": [
      "Enter the name of the city:Delhi\n",
      "Monument in Delhi is Red Fort\n"
     ]
    }
   ],
   "source": [
    "city=input('Enter the name of the city:')\n",
    "if city=='Delhi':\n",
    "  print('Monument in {} is Red Fort'.format(city))\n",
    "elif city=='Agra':\n",
    "  print('Monument in {} is Taj Mahal'.format(city))\n",
    "elif city=='Jaipur':\n",
    "  print('Monument in {} is Jal Mahal'.format(city))"
   ]
  },
  {
   "cell_type": "markdown",
   "id": "32af5ed2",
   "metadata": {},
   "source": [
    "4.Check how many times a given number can be divided by 3 before it is less than or equal to 10."
   ]
  },
  {
   "cell_type": "code",
   "execution_count": 4,
   "id": "f88a3389",
   "metadata": {},
   "outputs": [
    {
     "name": "stdout",
     "output_type": "stream",
     "text": [
      "Enter the number:56\n",
      "The number 56 is divisible by three 2 times\n"
     ]
    }
   ],
   "source": [
    "count=0\n",
    "number=int(input('Enter the number:'))\n",
    "num=number\n",
    "while number>=10:\n",
    "  number,remainder=divmod(number,3)\n",
    "  count+=1\n",
    "print('The number {} is divisible by three {} times'.format(num,count))"
   ]
  },
  {
   "cell_type": "markdown",
   "id": "8b9ad531",
   "metadata": {},
   "source": [
    "5.Why and when to use while loop in python ,give a detailed description with example."
   ]
  },
  {
   "cell_type": "markdown",
   "id": "7d6ac0c5",
   "metadata": {},
   "source": [
    "A while loop will run a piece of code while a condition is True. It will keep executing the desired set of code statements until that condition is no longer True. A while loop will always first check the condition before running. If the condition evaluates to True then the loop will run the code within the loop's body.\n",
    "   \n",
    "    i = 1\n",
    "    while i < 6:\n",
    "      print(i)\n",
    "    i += 1\n",
    "    else:\n",
    "      print(\"i is no longer less than 6\")\n",
    "Here in the above example,the loop runs until the value of i becomes 6.\n"
   ]
  },
  {
   "cell_type": "markdown",
   "id": "4ad24dac",
   "metadata": {},
   "source": [
    "6.Use nested while loop to print 3 different patterns."
   ]
  },
  {
   "cell_type": "code",
   "execution_count": 5,
   "id": "08ca3735",
   "metadata": {},
   "outputs": [
    {
     "name": "stdout",
     "output_type": "stream",
     "text": [
      "Enter the number of rows: 6\n",
      "     *\n",
      "    ***\n",
      "   *****\n",
      "  *******\n",
      " *********\n",
      "***********\n"
     ]
    }
   ],
   "source": [
    "num_rows = int(input(\"Enter the number of rows: \"))\n",
    "row = 0 #row intialize\n",
    "while(row < num_rows):\n",
    "    row += 1 #Rows count increase\n",
    "    s = num_rows - row #Spaces\n",
    "\n",
    "\n",
    "    sc = 0 #Space counter intialize\n",
    "    while(sc < s):\n",
    "        print(\" \", end='')\n",
    "        sc += 1\n",
    "\n",
    "\n",
    "    stars = 2*row-1 #Number of stars\n",
    "    while(stars > 0):\n",
    "        print(\"*\", end='')\n",
    "        stars -= 1\n",
    "    print()"
   ]
  },
  {
   "cell_type": "markdown",
   "id": "926b1e09",
   "metadata": {},
   "source": [
    "7. Reverse a while loop to display numbers 10 to 0"
   ]
  },
  {
   "cell_type": "code",
   "execution_count": 6,
   "id": "d0498bc3",
   "metadata": {},
   "outputs": [
    {
     "name": "stdout",
     "output_type": "stream",
     "text": [
      "10\n",
      "9\n",
      "8\n",
      "7\n",
      "6\n",
      "5\n",
      "4\n",
      "3\n",
      "2\n",
      "1\n"
     ]
    }
   ],
   "source": [
    "i=1\n",
    "while i<11:\n",
    "    num=11-i\n",
    "    print(num)\n",
    "    i+=1\n"
   ]
  },
  {
   "cell_type": "code",
   "execution_count": null,
   "id": "c0806098",
   "metadata": {},
   "outputs": [],
   "source": []
  }
 ],
 "metadata": {
  "kernelspec": {
   "display_name": "Python 3 (ipykernel)",
   "language": "python",
   "name": "python3"
  },
  "language_info": {
   "codemirror_mode": {
    "name": "ipython",
    "version": 3
   },
   "file_extension": ".py",
   "mimetype": "text/x-python",
   "name": "python",
   "nbconvert_exporter": "python",
   "pygments_lexer": "ipython3",
   "version": "3.9.12"
  }
 },
 "nbformat": 4,
 "nbformat_minor": 5
}
