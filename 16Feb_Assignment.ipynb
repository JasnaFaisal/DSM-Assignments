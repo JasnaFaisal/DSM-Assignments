{
 "cells": [
  {
   "cell_type": "markdown",
   "id": "cee7670d",
   "metadata": {},
   "source": [
    "#### Q1. What is a database? Differentiate between SQL and NoSQL databases."
   ]
  },
  {
   "cell_type": "markdown",
   "id": "32ccfbad",
   "metadata": {},
   "source": [
    "A database is a structured collection of data that can be stored, organized, and retrieved in a way that makes it easy to search and manipulate the data. Databases are used to store data for various applications, such as websites, mobile apps, enterprise software, and more.\n",
    "\n",
    "SQL\n",
    "\n",
    "    SQL (Structured Query Language) databases are relational databases that store data in tables with rows and columns. They use SQL to query and manipulate the data. SQL databases are great for applications that require transactions, such as banking, e-commerce, and accounting systems, where data consistency is critical. Examples of SQL databases include MySQL, PostgreSQL, Oracle, and Microsoft SQL Server.\n",
    "NoSQL\n",
    "\n",
    "    NoSQL (Not Only SQL) databases, on the other hand, are non-relational databases that store data in various ways, such as key-value pairs, document-oriented, graph, or column-family data stores. NoSQL databases are highly scalable and flexible, making them ideal for applications that handle big data or require high availability, such as social media, gaming, and IoT (Internet of Things) systems. Examples of NoSQL databases include MongoDB, Cassandra, Couchbase, and Amazon DynamoDB.\n",
    "\n",
    "In summary, SQL databases are best suited for applications that require transactions and data consistency, while NoSQL databases are more appropriate for applications that require high scalability and flexibility."
   ]
  },
  {
   "cell_type": "markdown",
   "id": "a195116f",
   "metadata": {},
   "source": [
    "#### Q2. What is DDL? Explain why CREATE, DROP, ALTER, and TRUNCATE are used with an example."
   ]
  },
  {
   "cell_type": "markdown",
   "id": "88e7682f",
   "metadata": {},
   "source": [
    "DDL (Data Definition Language) is a subset of SQL (Structured Query Language) that is used to define the structure of the database, including creating, modifying, and deleting database objects such as tables, indexes, and constraints."
   ]
  },
  {
   "cell_type": "markdown",
   "id": "829528a8",
   "metadata": {},
   "source": [
    "The following are some of the commonly used DDL statements and their uses:\n",
    "\n",
    "CREATE: The CREATE statement is used to create a new database object, such as a table or an index. For example, the following statement creates a new table named \"customers\" with columns for the customer ID, name, and email address:\n",
    "\n",
    "    CREATE TABLE customers (\n",
    "    customer_id INT PRIMARY KEY,\n",
    "    name VARCHAR(50),\n",
    "    email VARCHAR(50)\n",
    ");\n"
   ]
  },
  {
   "cell_type": "markdown",
   "id": "9d0e848f",
   "metadata": {},
   "source": [
    "DROP: The DROP statement is used to delete a database object, such as a table or an index. For example, the following statement drops the \"customers\" table:\n",
    "\n",
    "    DROP TABLE customers;\n"
   ]
  },
  {
   "cell_type": "markdown",
   "id": "0bb9b29c",
   "metadata": {},
   "source": [
    "ALTER: The ALTER statement is used to modify the structure of a database object, such as adding or removing columns from a table. For example, the following statement adds a new column named \"phone\" to the \"customers\" table:\n",
    "\n",
    "    ALTER TABLE customers ADD phone VARCHAR(20);\n"
   ]
  },
  {
   "cell_type": "markdown",
   "id": "727ca157",
   "metadata": {},
   "source": [
    "TRUNCATE: The TRUNCATE statement is used to delete all rows from a table without deleting the table structure itself. For example, the following statement removes all data from the \"customers\" table:\n",
    "\n",
    "    TRUNCATE TABLE customers;\n"
   ]
  },
  {
   "cell_type": "markdown",
   "id": "b69c0373",
   "metadata": {},
   "source": [
    "#### Q4. What is DQL? Explain SELECT with an example."
   ]
  },
  {
   "cell_type": "markdown",
   "id": "b507abc1",
   "metadata": {},
   "source": [
    "DQL (Data Query Language) is a subset of SQL (Structured Query Language) that is used to retrieve data from the database. The most commonly used DQL statement is SELECT, which is used to retrieve data from one or more tables based on specified conditions."
   ]
  },
  {
   "cell_type": "markdown",
   "id": "274d6b93",
   "metadata": {},
   "source": [
    "The basic syntax of the SELECT statement is as follows:\n",
    "    \n",
    "    SELECT column1, column2, ... FROM table_name WHERE condition;\n",
    "    \n",
    "In this syntax, column1, column2, and so on, are the names of the columns to retrieve data from, and table_name is the name of the table to retrieve data from. The WHERE clause specifies the condition that the data must meet to be retrieved."
   ]
  },
  {
   "cell_type": "markdown",
   "id": "49caaca8",
   "metadata": {},
   "source": [
    "For example, consider the following table named \"employees\" with columns for employee ID, name, department, and salary:\n",
    "\n",
    "    +----+-----------+-------------+--------+\n",
    "    | ID | Name      | Department  | Salary |\n",
    "    +----+-----------+-------------+--------+\n",
    "    | 1  | John Doe  | Marketing   | 50000  |\n",
    "    | 2  | Jane Smith| Accounting  | 60000  |\n",
    "    | 3  | Bob Brown | IT          | 70000  |\n",
    "    | 4  | Amy Green | Marketing   | 55000  |\n",
    "    | 5  | Tom White | IT          | 65000  |\n",
    "    +----+-----------+-------------+--------+\n",
    "\n",
    "To retrieve all the data from the \"employees\" table, we can use the following SELECT statement:\n",
    "\n",
    "    SELECT * FROM employees;\n",
    "    \n",
    "This statement retrieves all the columns and rows from the \"employees\" table, as shown below:\n",
    "\n",
    "    +----+-----------+-------------+--------+\n",
    "    | ID | Name      | Department  | Salary |\n",
    "    +----+-----------+-------------+--------+\n",
    "    | 1  | John Doe  | Marketing   | 50000  |\n",
    "    | 2  | Jane Smith| Accounting  | 60000  |\n",
    "    | 3  | Bob Brown | IT          | 70000  |\n",
    "    | 4  | Amy Green | Marketing   | 55000  |\n",
    "    | 5  | Tom White | IT          | 65000  |\n",
    "    +----+-----------+-------------+--------+\n",
    "    \n",
    "We can also retrieve specific columns by specifying their names in the SELECT statement, as shown in the following example:\n",
    "\n",
    "    SELECT Name, Department FROM employees;\n",
    "    \n",
    "This statement retrieves only the \"Name\" and \"Department\" columns from the \"employees\" table, as shown below:\n",
    "\n",
    "    +-----------+-------------+\n",
    "    | Name      | Department  |\n",
    "    +-----------+-------------+\n",
    "    | John Doe  | Marketing   |\n",
    "    | Jane Smith| Accounting  |\n",
    "    | Bob Brown | IT          |\n",
    "    | Amy Green | Marketing   |\n",
    "    | Tom White | IT          |\n",
    "    +-----------+-------------+\n",
    "\n",
    "    "
   ]
  },
  {
   "cell_type": "markdown",
   "id": "6afb1802",
   "metadata": {},
   "source": [
    "Briefly,SELECT is a DQL statement used to retrieve data from one or more tables based on specified conditions. It retrieves data from specific columns or all columns, depending on the specified query"
   ]
  },
  {
   "cell_type": "markdown",
   "id": "4042ad4e",
   "metadata": {},
   "source": [
    "#### Q5. Explain Primary Key and Foreign Key."
   ]
  },
  {
   "cell_type": "markdown",
   "id": "82f5f545",
   "metadata": {},
   "source": [
    "##### PRIMARY KEY"
   ]
  },
  {
   "cell_type": "markdown",
   "id": "e0d3d1ce",
   "metadata": {},
   "source": [
    "A primary key is a column or set of columns in a table that uniquely identifies each row in that table. It is used to ensure that each row in the table has a unique identifier and that the table is not duplicated. The primary key is used as a reference for other tables in the database. The values in the primary key column(s) must be unique, and they cannot be null. In most cases, a primary key is created automatically when a table is created, and it is often represented as an index on the table."
   ]
  },
  {
   "cell_type": "markdown",
   "id": "4172d389",
   "metadata": {},
   "source": [
    "For example, consider a table named \"students\" with columns for student ID, name, and email address. If we want to ensure that each student has a unique identifier, we can make the \"student ID\" column the primary key:\n",
    "\n",
    "    CREATE TABLE students (\n",
    "    student_id INT PRIMARY KEY,\n",
    "    name VARCHAR(50),\n",
    "    email VARCHAR(50)\n",
    "    );\n"
   ]
  },
  {
   "cell_type": "markdown",
   "id": "f4e96543",
   "metadata": {},
   "source": [
    "###### FOREIGN KEY"
   ]
  },
  {
   "cell_type": "markdown",
   "id": "bf3c6bee",
   "metadata": {},
   "source": [
    "A foreign key, on the other hand, is a column or set of columns in one table that refers to the primary key of another table. It is used to establish a relationship between two tables in a database. The foreign key is used to enforce referential integrity, which ensures that the data in the child table (the table with the foreign key) is consistent with the data in the parent table (the table with the primary key)."
   ]
  },
  {
   "cell_type": "markdown",
   "id": "e43c5638",
   "metadata": {},
   "source": [
    "For example, consider a second table named \"grades\" with columns for grade ID, student ID, course, and grade. We can use the \"student ID\" column in the \"grades\" table as a foreign key that references the primary key in the \"students\" table:\n",
    "\n",
    "    CREATE TABLE grades (\n",
    "    grade_id INT PRIMARY KEY,\n",
    "    student_id INT,\n",
    "    course VARCHAR(50),\n",
    "    grade VARCHAR(2),\n",
    "    FOREIGN KEY (student_id) REFERENCES students(student_id)\n",
    "    );\n"
   ]
  },
  {
   "cell_type": "markdown",
   "id": "c080ce10",
   "metadata": {},
   "source": [
    "This statement creates a foreign key relationship between the \"student_id\" column in the \"grades\" table and the \"student_id\" column in the \"students\" table. This ensures that any data in the \"grades\" table that references a student in the \"students\" table is valid and that there are no inconsistencies.\n",
    "\n",
    "In summary, a primary key is used to uniquely identify rows in a table, while a foreign key is used to establish a relationship between tables by referencing the primary key in another table. The primary key is used to enforce data consistency and integrity, while the foreign key is used to ensure that data in related tables is consistent."
   ]
  },
  {
   "cell_type": "markdown",
   "id": "c4216756",
   "metadata": {},
   "source": [
    "#### Q6. Write a python code to connect MySQL to python. Explain the cursor() and execute() method."
   ]
  },
  {
   "cell_type": "markdown",
   "id": "f224ad18",
   "metadata": {},
   "source": [
    "To connect to MySQL from Python, we can use the mysql-connector module. Here's an example code snippet to connect to MySQL and execute a simple query:"
   ]
  },
  {
   "cell_type": "markdown",
   "id": "86ec5a15",
   "metadata": {},
   "source": [
    "    import mysql.connector\n",
    "\n",
    "    # Establish a connection to the database\n",
    "    mydb = mysql.connector.connect(\n",
    "      host=\"localhost\",\n",
    "      user=\"yourusername\",\n",
    "      password=\"yourpassword\",\n",
    "      database=\"yourdatabase\"\n",
    "    )\n",
    "\n",
    "    # Create a cursor object to interact with the database\n",
    "    mycursor = mydb.cursor()\n",
    "\n",
    "    # Execute a simple query\n",
    "    mycursor.execute(\"SELECT * FROM yourtable\")\n",
    "\n",
    "    # Fetch the results of the query\n",
    "    results = mycursor.fetchall()\n",
    "\n",
    "    # Display the results\n",
    "    for row in results:\n",
    "      print(row)\n"
   ]
  },
  {
   "cell_type": "markdown",
   "id": "4f5304a2",
   "metadata": {},
   "source": [
    "In the code above, we first import the mysql.connector module and then use the mysql.connector.connect() method to establish a connection to the MySQL server. We pass in the required parameters, such as the host name, username, password, and database name.\n",
    "\n",
    "Next, we create a cursor object using the cursor() method of the connection object. A cursor is used to execute database queries and retrieve results.\n",
    "\n",
    "After creating the cursor object, we execute a simple query using the execute() method of the cursor object. In this case, we're executing a SELECT statement to retrieve all rows from a table.\n",
    "\n",
    "We then use the fetchall() method to retrieve all the rows returned by the query and store them in the results variable. Finally, we loop through the results and display each row using the print() statement.\n",
    "\n",
    "The execute() method is used to execute a SQL query or statement. It takes one parameter, which is the SQL query to execute. The cursor() method returns a cursor object, which is used to execute the query and retrieve results.\n",
    "\n",
    "The fetchall() method is used to retrieve all rows returned by a query, while the fetchone() method is used to retrieve a single row. There are other methods available for fetching results, depending on the specific requirements of the query.\n",
    "\n",
    "\n",
    "\n"
   ]
  },
  {
   "cell_type": "markdown",
   "id": "87f04642",
   "metadata": {},
   "source": [
    "#### Q7. Give the order of execution of SQL clauses in an SQL query."
   ]
  },
  {
   "cell_type": "markdown",
   "id": "cf1bc1a5",
   "metadata": {},
   "source": [
    "In an SQL query, the clauses are executed in a specific order. The order of execution is as follows:\n",
    "\n",
    "    FROM: This clause specifies the table or tables from which the data is to be retrieved.\n",
    "\n",
    "    JOIN: If the query involves multiple tables, the JOIN clause is used to join them based on a specified condition.\n",
    "\n",
    "    WHERE: This clause is used to filter the data based on specific conditions.\n",
    "\n",
    "    GROUP BY: This clause is used to group the data by one or more columns.\n",
    "\n",
    "    HAVING: This clause is used to filter the groups created by the GROUP BY clause based on specific conditions.\n",
    "\n",
    "    SELECT: This clause is used to select the columns to be retrieved from the table or tables specified in the FROM clause.\n",
    "\n",
    "    DISTINCT: This clause is used to retrieve only unique values from the selected columns.\n",
    "\n",
    "    ORDER BY: This clause is used to sort the retrieved data based on one or more columns.\n",
    "\n",
    "    LIMIT: This clause is used to limit the number of rows returned by the query.\n",
    "\n",
    "It is important to note that not all of these clauses are required in every SQL query. The clauses that are included in a query will depend on the specific requirements of the query. Additionally, some database systems may allow for the use of additional clauses or may have a slightly different order of execution."
   ]
  },
  {
   "cell_type": "code",
   "execution_count": null,
   "id": "7173e002",
   "metadata": {},
   "outputs": [],
   "source": []
  }
 ],
 "metadata": {
  "kernelspec": {
   "display_name": "Python 3 (ipykernel)",
   "language": "python",
   "name": "python3"
  },
  "language_info": {
   "codemirror_mode": {
    "name": "ipython",
    "version": 3
   },
   "file_extension": ".py",
   "mimetype": "text/x-python",
   "name": "python",
   "nbconvert_exporter": "python",
   "pygments_lexer": "ipython3",
   "version": "3.9.12"
  }
 },
 "nbformat": 4,
 "nbformat_minor": 5
}
