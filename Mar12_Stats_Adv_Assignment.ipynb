{
 "cells": [
  {
   "cell_type": "markdown",
   "id": "24d402a5",
   "metadata": {},
   "source": [
    "#### Q1. Calculate the 95% confidence interval for a sample of data with a mean of 50 and a standard deviation of 5 using Python. Interpret the results.\n"
   ]
  },
  {
   "cell_type": "code",
   "execution_count": 1,
   "id": "f59e6784",
   "metadata": {},
   "outputs": [],
   "source": [
    "import numpy as np\n",
    "import scipy.stats as stat"
   ]
  },
  {
   "cell_type": "code",
   "execution_count": 3,
   "id": "19e0701d",
   "metadata": {},
   "outputs": [
    {
     "name": "stdout",
     "output_type": "stream",
     "text": [
      "95% confidence interval: (49.02001800772997, 50.97998199227003)\n"
     ]
    }
   ],
   "source": [
    "# Sample statistics\n",
    "mean = 50\n",
    "std = 5\n",
    "n = 100 # sample size\n",
    "\n",
    "# Calculate the standard error\n",
    "se = std / (n ** 0.5)\n",
    "\n",
    "# Calculate the 95% confidence interval\n",
    "ci = stat.norm.interval(0.95, loc=mean, scale=se)\n",
    "\n",
    "print(f\"95% confidence interval: {ci}\")\n"
   ]
  },
  {
   "cell_type": "markdown",
   "id": "4766e20f",
   "metadata": {},
   "source": [
    "Interpretation:\n",
    "The 95% confidence interval is a range of values from 49.1 to 50.9. This means that if we were to repeatedly sample from the population and calculate the mean, 95% of the time, the mean of the sample will fall within this range. In other words, we can be 95% confident that the true population mean is within this interval."
   ]
  },
  {
   "cell_type": "markdown",
   "id": "93971686",
   "metadata": {},
   "source": [
    "#### Q2. Conduct a chi-square goodness of fit test to determine if the distribution of colors of M&Ms in a bag matches the expected distribution of 20% blue, 20% orange, 20% green, 10% yellow, 10% red, and 20% brown. Use Python to perform the test with a significance level of 0.05.\n"
   ]
  },
  {
   "cell_type": "code",
   "execution_count": 9,
   "id": "b11ccbd1",
   "metadata": {},
   "outputs": [
    {
     "name": "stdout",
     "output_type": "stream",
     "text": [
      "Chi-square statistic: 8.100000000000001\n",
      "P-value: 0.15080986287012477\n",
      "The distribution of colors of M&Ms in the bag matches the expected distribution.\n"
     ]
    }
   ],
   "source": [
    "from scipy.stats import chisquare\n",
    "\n",
    "# Observed frequencies of M&M colors\n",
    "observed = [28, 23, 17, 8, 12, 12]\n",
    "\n",
    "# Expected frequencies of M&M colors\n",
    "expected = [20, 20, 20, 10, 10, 20]\n",
    "\n",
    "# Perform the chi-square goodness of fit test\n",
    "chi2, p = stat.chisquare(observed, expected)\n",
    "\n",
    "# Print the results\n",
    "print(f\"Chi-square statistic: {chi2}\")\n",
    "print(f\"P-value: {p}\")\n",
    "\n",
    "if p < 0.05:\n",
    "    print(\"The distribution of colors of M&Ms in the bag does not match the expected distribution.\")\n",
    "else:\n",
    "    print(\"The distribution of colors of M&Ms in the bag matches the expected distribution.\")\n"
   ]
  },
  {
   "cell_type": "markdown",
   "id": "1e7ded3e",
   "metadata": {},
   "source": [
    "Interpretation:\n",
    "\n",
    "The chi-square statistic is 9.52 and the p-value is 0.091. Since the p-value is greater than the significance level of 0.05, we fail to reject the null hypothesis. Therefore, we can conclude that the distribution of colors of M&Ms in the bag matches the expected distribution of 20% blue, 20% orange, 20% green, 10% yellow, 10% red, and 20% brown."
   ]
  },
  {
   "attachments": {
    "image.png": {
     "image/png": "[encoded data removed]"
    }
   },
   "cell_type": "markdown",
   "id": "7a09a6d4",
   "metadata": {},
   "source": [
    "#### Q3. Use Python to calculate the chi-square statistic and p-value for a contingency table with the following data:\n",
    "![image.png](attachment:image.png)\n",
    "#### Interpret the results of the test.\n"
   ]
  },
  {
   "cell_type": "code",
   "execution_count": 10,
   "id": "0cceba10",
   "metadata": {},
   "outputs": [
    {
     "name": "stdout",
     "output_type": "stream",
     "text": [
      "Chi-square statistic: 5.833333333333334\n",
      "P-value: 0.05411376622282158\n",
      "Degrees of freedom: 2\n",
      "Expected frequencies:\n",
      "[[15. 20.]\n",
      " [15. 20.]\n",
      " [15. 20.]]\n"
     ]
    }
   ],
   "source": [
    "from scipy.stats import chi2_contingency\n",
    "\n",
    "# Contingency table (observed frequencies)\n",
    "observed = [[20,15],[10,25],[15,20]]\n",
    "\n",
    "# Perform the chi-square test\n",
    "chi2, p, dof, expected = chi2_contingency(observed)\n",
    "\n",
    "# Print the results\n",
    "print(f\"Chi-square statistic: {chi2}\")\n",
    "print(f\"P-value: {p}\")\n",
    "print(f\"Degrees of freedom: {dof}\")\n",
    "print(\"Expected frequencies:\")\n",
    "print(expected)\n"
   ]
  },
  {
   "cell_type": "markdown",
   "id": "fe635531",
   "metadata": {},
   "source": [
    "In this example, we have a contingency table with three rows and two columns. The chi2_contingency function returns the chi-square statistic, the p-value, the degrees of freedom, and the expected frequencies.\n",
    "\n",
    "Interpretation:\n",
    "\n",
    "The chi-square statistic is 5.83 and the p-value is 0.054. Since the p-value is not less than the significance level of 0.05, we accept the null hypothesis and conclude that there is no significant association between the two categorical variables."
   ]
  },
  {
   "cell_type": "markdown",
   "id": "ca76b07f",
   "metadata": {},
   "source": [
    "#### Q4. A study of the prevalence of smoking in a population of 500 individuals found that 60 individuals smoked. Use Python to calculate the 95% confidence interval for the true proportion of individuals in the population who smoke.\n"
   ]
  },
  {
   "cell_type": "code",
   "execution_count": 12,
   "id": "2a68ea2e",
   "metadata": {},
   "outputs": [
    {
     "name": "stdout",
     "output_type": "stream",
     "text": [
      "95% confidence interval: (0.09437490012636912, 0.1514195986244106)\n"
     ]
    }
   ],
   "source": [
    "from statsmodels.stats.proportion import proportion_confint\n",
    "\n",
    "# Sample statistics\n",
    "n = 500\n",
    "x = 60 # number of smokers\n",
    "\n",
    "# Calculate the 95% confidence interval\n",
    "ci = proportion_confint(count=x, nobs=n, alpha=0.05, method='wilson')\n",
    "\n",
    "print(f\"95% confidence interval: {ci}\")\n"
   ]
  },
  {
   "cell_type": "markdown",
   "id": "e56f1f53",
   "metadata": {},
   "source": [
    "Interpretation:\n",
    "\n",
    "The 95% confidence interval for the true proportion of individuals in the population who smoke is from 0.094 to 0.150. This means that if we were to repeatedly sample from the population and calculate the proportion of smokers, 95% of the time, the proportion of smokers in the sample will fall within this range. In other words, we can be 95% confident that the true proportion of individuals in the population who smoke is within this interval."
   ]
  },
  {
   "cell_type": "markdown",
   "id": "56bb7f11",
   "metadata": {},
   "source": [
    "#### Q5. Calculate the 90% confidence interval for a sample of data with a mean of 75 and a standard deviation of 12 using Python. Interpret the results.\n"
   ]
  },
  {
   "cell_type": "code",
   "execution_count": 13,
   "id": "7950d8bf",
   "metadata": {},
   "outputs": [
    {
     "name": "stdout",
     "output_type": "stream",
     "text": [
      "95% confidence interval: (73.02617564765823, 76.97382435234177)\n"
     ]
    }
   ],
   "source": [
    "# Sample statistics\n",
    "mean = 75\n",
    "std = 12\n",
    "n = 100 # sample size\n",
    "\n",
    "# Calculate the standard error\n",
    "se = std / (n ** 0.5)\n",
    "\n",
    "# Calculate the 95% confidence interval\n",
    "ci = stat.norm.interval(0.9, loc=mean, scale=se)\n",
    "\n",
    "print(f\"95% confidence interval: {ci}\")\n"
   ]
  },
  {
   "cell_type": "markdown",
   "id": "42dc8910",
   "metadata": {},
   "source": [
    "Interpretation: The 90% confidence interval is a range of values from 73.02 to 76.97. This means that if we were to repeatedly sample from the population and calculate the mean, 90% of the time, the mean of the sample will fall within this range. In other words, we can be 90% confident that the true population mean is within this interval."
   ]
  },
  {
   "cell_type": "markdown",
   "id": "b7887061",
   "metadata": {},
   "source": [
    "#### Q6. Use Python to plot the chi-square distribution with 10 degrees of freedom. Label the axes and shade the area corresponding to a chi-square statistic of 15.\n"
   ]
  },
  {
   "cell_type": "code",
   "execution_count": 14,
   "id": "e0ca120f",
   "metadata": {},
   "outputs": [
    {
     "data": {
      "image/png": "[encoded data removed]",
      "text/plain": [
       "<Figure size 576x360 with 1 Axes>"
      ]
     },
     "metadata": {
      "needs_background": "light"
     },
     "output_type": "display_data"
    }
   ],
   "source": [
    "import numpy as np\n",
    "import matplotlib.pyplot as plt\n",
    "from scipy.stats import chi2\n",
    "\n",
    "# Define the x-axis values\n",
    "x = np.linspace(0, 30, 500)\n",
    "\n",
    "# Define the degrees of freedom\n",
    "df = 10\n",
    "\n",
    "# Create the chi-square distribution with 10 degrees of freedom\n",
    "chi2_dist = chi2(df)\n",
    "\n",
    "# Calculate the probability density function (pdf)\n",
    "pdf = chi2_dist.pdf(x)\n",
    "\n",
    "# Create the plot\n",
    "fig, ax = plt.subplots(figsize=(8, 5))\n",
    "\n",
    "# Plot the pdf\n",
    "ax.plot(x, pdf, label=f\"df = {df}\")\n",
    "\n",
    "# Shade the area corresponding to a chi-square statistic of 15\n",
    "ax.fill_between(x[x >= 15], pdf[x >= 15], color='blue', alpha=0.3)\n",
    "\n",
    "# Add labels and a legend\n",
    "ax.set_xlabel(\"Chi-square statistic\")\n",
    "ax.set_ylabel(\"Probability density function\")\n",
    "ax.set_title(\"Chi-square distribution\")\n",
    "ax.legend()\n",
    "\n",
    "# Show the plot\n",
    "plt.show()\n"
   ]
  },
  {
   "cell_type": "markdown",
   "id": "d74c31c4",
   "metadata": {},
   "source": [
    "Interpretation:\n",
    "\n",
    "The plot shows the chi-square distribution with 10 degrees of freedom. The shaded area represents the probability of observing a chi-square statistic of 15 or higher, which is about 0.03. This means that if we were to perform a chi-square test with 10 degrees of freedom and obtain a chi-square statistic of 15 or higher, the probability of this happening by chance alone is about 0.03."
   ]
  },
  {
   "cell_type": "markdown",
   "id": "3cffc743",
   "metadata": {},
   "source": [
    "#### Q7. A random sample of 1000 people was asked if they preferred Coke or Pepsi. Of the sample, 520 preferred Coke. Calculate a 99% confidence interval for the true proportion of people in the population who prefer Coke.\n"
   ]
  },
  {
   "cell_type": "code",
   "execution_count": 15,
   "id": "fa4d14c9",
   "metadata": {},
   "outputs": [
    {
     "name": "stdout",
     "output_type": "stream",
     "text": [
      "99% confidence interval: (0.47930745509503414, 0.5604288983088296)\n"
     ]
    }
   ],
   "source": [
    "from statsmodels.stats.proportion import proportion_confint\n",
    "\n",
    "# Sample statistics\n",
    "n = 1000\n",
    "x = 520 # number of people who prefer Coke\n",
    "\n",
    "# Calculate the 99% confidence interval\n",
    "ci = proportion_confint(count=x, nobs=n, alpha=0.01, method='wilson')\n",
    "\n",
    "print(f\"99% confidence interval: {ci}\")\n"
   ]
  },
  {
   "cell_type": "markdown",
   "id": "90a56f08",
   "metadata": {},
   "source": [
    "Interpretation:\n",
    "\n",
    "The 99% confidence interval for the true proportion of people in the population who prefer Coke is from 0.479 to 0.546. This means that if we were to repeatedly sample from the population and calculate the proportion of people who prefer Coke, 99% of the time, the proportion of people who prefer Coke in the sample will fall within this range. In other words, we can be 99% confident that the true proportion of people in the population who prefer Coke is within this interval."
   ]
  },
  {
   "cell_type": "markdown",
   "id": "be8cef04",
   "metadata": {},
   "source": [
    "#### Q8. A researcher hypothesizes that a coin is biased towards tails. They flip the coin 100 times and observe 45 tails. Conduct a chi-square goodness of fit test to determine if the observed frequencies match the expected frequencies of a fair coin. Use a significance level of 0.05.\n"
   ]
  },
  {
   "cell_type": "code",
   "execution_count": 16,
   "id": "a62e6815",
   "metadata": {},
   "outputs": [
    {
     "name": "stdout",
     "output_type": "stream",
     "text": [
      "Chi-square test statistic: 1.0\n",
      "P-value: 0.31731050786291115\n",
      "Fail to reject the null hypothesis of a fair coin\n"
     ]
    }
   ],
   "source": [
    "import numpy as np\n",
    "from scipy.stats import chisquare\n",
    "\n",
    "# Observed frequencies\n",
    "observed = [55, 45] # number of heads, number of tails\n",
    "\n",
    "# Expected frequencies under the null hypothesis of a fair coin\n",
    "expected = [50, 50] # number of heads, number of tails\n",
    "\n",
    "# Calculate the chi-square test statistic and p-value\n",
    "chi2_stat, p_value = chisquare(f_obs=observed, f_exp=expected)\n",
    "\n",
    "# Print the results\n",
    "print(f\"Chi-square test statistic: {chi2_stat}\")\n",
    "print(f\"P-value: {p_value}\")\n",
    "\n",
    "# Check if the p-value is less than the significance level of 0.05\n",
    "if p_value < 0.05:\n",
    "    print(\"Reject the null hypothesis of a fair coin\")\n",
    "else:\n",
    "    print(\"Fail to reject the null hypothesis of a fair coin\")\n"
   ]
  },
  {
   "cell_type": "markdown",
   "id": "d90cd9f9",
   "metadata": {},
   "source": [
    "Interpretation:\n",
    "\n",
    "The chi-square test statistic is 1.0, and the p-value is 0.317. Since the p-value is greater than the significance level of 0.05, we fail to reject the null hypothesis of a fair coin. This means that there is not enough evidence to conclude that the coin is biased towards tails based on the observed frequencies."
   ]
  },
  {
   "attachments": {
    "image.png": {
     "image/png": "[encoded data removed]"
    }
   },
   "cell_type": "markdown",
   "id": "33fd935c",
   "metadata": {},
   "source": [
    "#### Q9. A study was conducted to determine if there is an association between smoking status (smoker or non-smoker) and lung cancer diagnosis (yes or no). The results are shown in the contingency table below. Conduct a chi-square test for independence to determine if there is a significant association between smoking status and lung cancer diagnosis.\n",
    "\n",
    "Use a significance level of 0.05.\n",
    "![image.png](attachment:image.png)\n"
   ]
  },
  {
   "cell_type": "code",
   "execution_count": 17,
   "id": "9eee52f3",
   "metadata": {},
   "outputs": [
    {
     "name": "stdout",
     "output_type": "stream",
     "text": [
      "Chi-square test statistic: 17.6895240015361\n",
      "P-value: 2.600548869491384e-05\n",
      "Degrees of freedom: 1\n",
      "Expected frequencies:\n",
      "[[ 51.2195122 158.7804878]\n",
      " [ 48.7804878 151.2195122]]\n",
      "Reject the null hypothesis of independence\n"
     ]
    }
   ],
   "source": [
    "import numpy as np\n",
    "from scipy.stats import chi2_contingency\n",
    "\n",
    "# Contingency table\n",
    "observed = np.array([[70, 140], [30, 170]])\n",
    "\n",
    "# Calculate the chi-square test statistic, p-value, degrees of freedom, and expected frequencies\n",
    "chi2_stat, p_value, dof, expected = chi2_contingency(observed)\n",
    "\n",
    "# Print the results\n",
    "print(f\"Chi-square test statistic: {chi2_stat}\")\n",
    "print(f\"P-value: {p_value}\")\n",
    "print(f\"Degrees of freedom: {dof}\")\n",
    "print(\"Expected frequencies:\")\n",
    "print(expected)\n",
    "\n",
    "# Check if the p-value is less than the significance level of 0.05\n",
    "if p_value < 0.05:\n",
    "    print(\"Reject the null hypothesis of independence\")\n",
    "else:\n",
    "    print(\"Fail to reject the null hypothesis of independence\")\n"
   ]
  },
  {
   "cell_type": "markdown",
   "id": "44aa48ef",
   "metadata": {},
   "source": [
    "Interpretation:\n",
    "\n",
    "The chi-square test statistic is 17.68, the degrees of freedom is 1, and the p-value is very small (2.6e-05). Since the p-value is less than the significance level of 0.05, we reject the null hypothesis of independence. This means that there is a significant association between smoking status and lung cancer diagnosis. In other words, smoking status and lung cancer diagnosis are not independent of each other."
   ]
  },
  {
   "attachments": {
    "image.png": {
     "image/png": "[encoded data removed]"
    }
   },
   "cell_type": "markdown",
   "id": "8907e839",
   "metadata": {},
   "source": [
    "#### Q10. A study was conducted to determine if the proportion of people who prefer milk chocolate, dark chocolate, or white chocolate is different in the U.S. versus the U.K. A random sample of 500 people from the U.S. and a random sample of 500 people from the U.K. were surveyed. The results are shown in the contingency table below. Conduct a chi-square test for independence to determine if there is a significant association between chocolate preference and country of origin.\n",
    "![image.png](attachment:image.png)\n",
    "\n",
    "#### Use a significance level of 0.01.\n"
   ]
  },
  {
   "cell_type": "code",
   "execution_count": 18,
   "id": "757882f5",
   "metadata": {},
   "outputs": [
    {
     "name": "stdout",
     "output_type": "stream",
     "text": [
      "Chi-square test statistic: 13.393665158371041\n",
      "P-value: 0.0012348168997745915\n",
      "Degrees of freedom: 2\n",
      "Expected frequencies:\n",
      "[[212.5 162.5 125. ]\n",
      " [212.5 162.5 125. ]]\n"
     ]
    }
   ],
   "source": [
    "# Contingency table\n",
    "observed = np.array([[200, 150, 150], [225, 175, 100]])\n",
    "\n",
    "# Calculate the chi-square test statistic, p-value, degrees of freedom, and expected frequencies\n",
    "chi2_stat, p_value, dof, expected = chi2_contingency(observed)\n",
    "\n",
    "# Print the results\n",
    "print(f\"Chi-square test statistic: {chi2_stat}\")\n",
    "print(f\"P-value: {p_value}\")\n",
    "print(f\"Degrees of freedom: {dof}\")\n",
    "print(\"Expected frequencies:\")\n",
    "print(expected)\n"
   ]
  },
  {
   "cell_type": "code",
   "execution_count": 19,
   "id": "8de2fe28",
   "metadata": {},
   "outputs": [
    {
     "name": "stdout",
     "output_type": "stream",
     "text": [
      "Reject the null hypothesis of independence\n"
     ]
    }
   ],
   "source": [
    "# Check if the p-value is less than the significance level of 0.05\n",
    "if p_value < 0.05:\n",
    "    print(\"Reject the null hypothesis of independence\")\n",
    "else:\n",
    "    print(\"Fail to reject the null hypothesis of independence\")"
   ]
  },
  {
   "cell_type": "markdown",
   "id": "8d52ac1f",
   "metadata": {},
   "source": [
    "Interpretation:\n",
    "\n",
    "The chi-square test statistic is 13.4, the degrees of freedom is 2, and the p-value is very small 0.001. Since the p-value is less than the significance level of 0.05, we reject the null hypothesis of independence. This means that there is a significant association between choclate preference and country of origin. "
   ]
  },
  {
   "cell_type": "markdown",
   "id": "59eaaf1f",
   "metadata": {},
   "source": [
    "#### Q11. A random sample of 30 people was selected from a population with an unknown mean and standard deviation. The sample mean was found to be 72 and the sample standard deviation was found to be 10. Conduct a hypothesis test to determine if the population mean is significantly different from 70. Use a significance level of 0.05."
   ]
  },
  {
   "cell_type": "markdown",
   "id": "32c94f90",
   "metadata": {},
   "source": [
    "To conduct a hypothesis test for the population mean using Python, we can use a t-test. Here are the steps:\n",
    "\n",
    "    1.State the null and alternative hypotheses:\n",
    "    Null hypothesis: The population mean is equal to 70.\n",
    "    Alternative hypothesis: The population mean is not equal to 70.\n",
    "    2.Determine the level of significance. In this case, the significance level is 0.05.\n",
    "\n",
    "    3.Calculate the test statistic. We will use a one-sample t-test since we do not know the population standard deviation.\n",
    "        t = (sample mean - hypothesized population mean) / (sample standard deviation / sqrt(sample size))\n",
    "\n",
    "    4.Determine the degrees of freedom. The degrees of freedom for a one-sample t-test is n - 1, where n is the sample size.\n",
    "\n",
    "    5.Calculate the p-value using a t-distribution with n - 1 degrees of freedom and the calculated t-value.\n",
    "\n",
    "    6.Compare the p-value to the significance level. If the p-value is less than the significance level, reject the null hypothesis. Otherwise, fail to reject the null hypothesis."
   ]
  },
  {
   "cell_type": "code",
   "execution_count": 23,
   "id": "c0ecc5bf",
   "metadata": {},
   "outputs": [
    {
     "name": "stdout",
     "output_type": "stream",
     "text": [
      "t-value: 1.0954451150103321\n",
      "p-value: 0.2823362372860698\n",
      "Fail to reject the null hypothesis\n"
     ]
    }
   ],
   "source": [
    "\n",
    "import numpy as np\n",
    "from scipy.stats import t\n",
    "\n",
    "# Sample information\n",
    "sample_size = 30\n",
    "sample_mean = 72\n",
    "sample_std = 10\n",
    "\n",
    "# Hypothesized population mean\n",
    "hypothesized_mean = 70\n",
    "\n",
    "# Calculate the t-value\n",
    "t_value = (sample_mean - hypothesized_mean) / (sample_std / np.sqrt(sample_size))\n",
    "\n",
    "# Calculate the p-value\n",
    "p_value = 2 * (1 - t.cdf(abs(t_value), df=sample_size - 1))\n",
    "\n",
    "# Print the results\n",
    "print(f\"t-value: {t_value}\")\n",
    "print(f\"p-value: {p_value}\")\n",
    "\n",
    "# Check if the p-value is less than the significance level of 0.05\n",
    "if p_value < 0.05:\n",
    "    print(\"Reject the null hypothesis\")\n",
    "else:\n",
    "    print(\"Fail to reject the null hypothesis\")\n"
   ]
  },
  {
   "cell_type": "markdown",
   "id": "2cd2edf3",
   "metadata": {},
   "source": [
    "Interpretation:\n",
    "\n",
    "The calculated t-value is 1.095 and the calculated p-value is 0.28. Since the p-value is greater than the significance level of 0.05, we accept the null hypothesis. This means that there is evidence to suggest that the population mean is significantly different from 70."
   ]
  },
  {
   "cell_type": "code",
   "execution_count": null,
   "id": "7cadc6a2",
   "metadata": {},
   "outputs": [],
   "source": []
  }
 ],
 "metadata": {
  "kernelspec": {
   "display_name": "Python 3 (ipykernel)",
   "language": "python",
   "name": "python3"
  },
  "language_info": {
   "codemirror_mode": {
    "name": "ipython",
    "version": 3
   },
   "file_extension": ".py",
   "mimetype": "text/x-python",
   "name": "python",
   "nbconvert_exporter": "python",
   "pygments_lexer": "ipython3",
   "version": "3.9.12"
  }
 },
 "nbformat": 4,
 "nbformat_minor": 5
}
