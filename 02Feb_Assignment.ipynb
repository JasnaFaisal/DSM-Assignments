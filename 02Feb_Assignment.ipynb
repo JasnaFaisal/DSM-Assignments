{
 "cells": [
  {
   "cell_type": "markdown",
   "id": "87d86e7c",
   "metadata": {},
   "source": [
    "#### 1. What are the characteristics of tuple and is tuple immutable?"
   ]
  },
  {
   "cell_type": "markdown",
   "id": "026996fd",
   "metadata": {},
   "source": [
    "Tuples are:\n",
    "\n",
    "    1.Tuples are immutable\n",
    "    2.Tuples are indexed\n",
    "    3.Tuples are ordered.\n",
    "    4.Tuples can have dupliacte values\n",
    "Tuples are immutable ,their values can not be assigned as in list."
   ]
  },
  {
   "cell_type": "markdown",
   "id": "4ffc308b",
   "metadata": {},
   "source": [
    "#### 2.What are the two tuple methods in python?Give an example of each.Give a reason why tuples have only two in-built methods as compared to list?"
   ]
  },
  {
   "cell_type": "markdown",
   "id": "be777fc0",
   "metadata": {},
   "source": [
    "The two tuple methods are:index() and count().    "
   ]
  },
  {
   "cell_type": "code",
   "execution_count": 1,
   "id": "895086e7",
   "metadata": {},
   "outputs": [],
   "source": [
    "tup=(1,2,3,4,5,'country')"
   ]
  },
  {
   "cell_type": "code",
   "execution_count": 2,
   "id": "346a5220",
   "metadata": {},
   "outputs": [
    {
     "data": {
      "text/plain": [
       "3"
      ]
     },
     "execution_count": 2,
     "metadata": {},
     "output_type": "execute_result"
    }
   ],
   "source": [
    "#shows number 4 is in index 3 position\n",
    "tup.index(4)"
   ]
  },
  {
   "cell_type": "code",
   "execution_count": 3,
   "id": "1e5b8a8b",
   "metadata": {},
   "outputs": [],
   "source": [
    "tup=(1,2,3,1,234,4,1,3)"
   ]
  },
  {
   "cell_type": "code",
   "execution_count": 5,
   "id": "70d6fc18",
   "metadata": {},
   "outputs": [
    {
     "data": {
      "text/plain": [
       "3"
      ]
     },
     "execution_count": 5,
     "metadata": {},
     "output_type": "execute_result"
    }
   ],
   "source": [
    "#shows 1 is repeated 3 times in the tuple.\n",
    "tup.count(1)"
   ]
  },
  {
   "cell_type": "markdown",
   "id": "9bb3fced",
   "metadata": {},
   "source": [
    "There are only 2 built in methods in tuple because,they are immutable.The other methods that can add,remove cannot be performed with tuples ,since the items in the tuples cannot be assigned."
   ]
  },
  {
   "cell_type": "markdown",
   "id": "6f420f13",
   "metadata": {},
   "source": [
    "#### 3.Which collection datatypes in python do not allow duplicate items? Write a code using a set to remove duplicates from the given list."
   ]
  },
  {
   "cell_type": "markdown",
   "id": "49e9e0b6",
   "metadata": {},
   "source": [
    "Set is datatype which do not allow duplicates."
   ]
  },
  {
   "cell_type": "code",
   "execution_count": 8,
   "id": "b117f087",
   "metadata": {},
   "outputs": [
    {
     "data": {
      "text/plain": [
       "{1, 2, 3, 4}"
      ]
     },
     "execution_count": 8,
     "metadata": {},
     "output_type": "execute_result"
    }
   ],
   "source": [
    "List = [1, 1, 1, 2, 1, 3, 1, 4, 2, 1, 2, 2, 2, 3, 2, 4, 3, 1, 3, 2, 3, 3, 3, 4, 4, 1, 4, 2, 4, 3, 4, 4]\n",
    "set(List)"
   ]
  },
  {
   "cell_type": "markdown",
   "id": "32de80fa",
   "metadata": {},
   "source": [
    "#### 4.Explain the difference between the union() and update() methods for a set. Give an example of each method."
   ]
  },
  {
   "cell_type": "markdown",
   "id": "724d7029",
   "metadata": {},
   "source": [
    "The update() method, adds all missing elements to the set on which it is called whereas union() creates a new set. "
   ]
  },
  {
   "cell_type": "code",
   "execution_count": 10,
   "id": "76c12de5",
   "metadata": {},
   "outputs": [
    {
     "data": {
      "text/plain": [
       "{1, 2, 3, 4, 5, 6, 7, 8}"
      ]
     },
     "execution_count": 10,
     "metadata": {},
     "output_type": "execute_result"
    }
   ],
   "source": [
    "set1={1,2,3,4}\n",
    "set2={5,6,7,8}\n",
    "set1.update(set2)\n",
    "set1"
   ]
  },
  {
   "cell_type": "code",
   "execution_count": 19,
   "id": "d832ee54",
   "metadata": {},
   "outputs": [
    {
     "data": {
      "text/plain": [
       "{1, 2, 3, 4, 5, 6, 7, 8}"
      ]
     },
     "execution_count": 19,
     "metadata": {},
     "output_type": "execute_result"
    }
   ],
   "source": [
    "set1={1,2,3,4}\n",
    "set2={5,6,7,8}\n",
    "set3=set1.union(set2)\n",
    "set3"
   ]
  },
  {
   "cell_type": "markdown",
   "id": "9a8da28b",
   "metadata": {},
   "source": [
    "#### 5. What is a dictionary? Give an example. Also, state whether a dictionary is ordered or unordered."
   ]
  },
  {
   "cell_type": "markdown",
   "id": "84f7d99b",
   "metadata": {},
   "source": [
    "    Dictionaries are used to store data values in key:value pairs.\n",
    "    Dictionaries are written with curly brackets\n",
    "    Dictionary items are ordered, changeable, and does not allow duplicates.\n",
    "    Dictionary items are presented in key:value pairs, and can be referred to by using the key name."
   ]
  },
  {
   "cell_type": "code",
   "execution_count": 21,
   "id": "e1df5126",
   "metadata": {},
   "outputs": [
    {
     "data": {
      "text/plain": [
       "{1: 'apple', 2: 'orange', 3: 'mango'}"
      ]
     },
     "execution_count": 21,
     "metadata": {},
     "output_type": "execute_result"
    }
   ],
   "source": [
    "#example\n",
    "dict={1:'apple',2:'orange',3:'mango'}\n",
    "dict"
   ]
  },
  {
   "cell_type": "markdown",
   "id": "acd08abc",
   "metadata": {},
   "source": [
    "#### 6.Can we create a nested dictionary? If so, please give an example by creating a simple one-level nested dictionary."
   ]
  },
  {
   "cell_type": "markdown",
   "id": "aa4e7935",
   "metadata": {},
   "source": [
    "Yes, we can create nested dictionaries.Nesting Dictionary means putting a dictionary inside another dictionary."
   ]
  },
  {
   "cell_type": "code",
   "execution_count": 29,
   "id": "0a98380a",
   "metadata": {},
   "outputs": [],
   "source": [
    "dict={'dict1':{1:'apple',2:'orange',3:'mango'},\n",
    "       'dict2':{'name':'apple','item':'fruit'},\n",
    "      }"
   ]
  },
  {
   "cell_type": "code",
   "execution_count": 30,
   "id": "c9105650",
   "metadata": {},
   "outputs": [
    {
     "data": {
      "text/plain": [
       "dict"
      ]
     },
     "execution_count": 30,
     "metadata": {},
     "output_type": "execute_result"
    }
   ],
   "source": [
    "type(dict)"
   ]
  },
  {
   "cell_type": "markdown",
   "id": "304dfc3b",
   "metadata": {},
   "source": [
    "#### 7. Using setdefault() method, create key named topics in the given dictionary and also add the value of the key as this list ['Python', 'Machine Learning’, 'Deep Learning']\n",
    "\n",
    "dict1 = {'language' : 'Python', 'course': 'Data Science Masters'}"
   ]
  },
  {
   "cell_type": "code",
   "execution_count": 4,
   "id": "f8378690",
   "metadata": {},
   "outputs": [
    {
     "name": "stdout",
     "output_type": "stream",
     "text": [
      "{'topics': ['Python', 'Machine Learning', 'Deep Learning']}\n"
     ]
    }
   ],
   "source": [
    "dict1 = {}\n",
    "dict1.setdefault('topics', []).extend(['Python', 'Machine Learning', 'Deep Learning'])\n",
    "print(dict1)\n"
   ]
  },
  {
   "cell_type": "markdown",
   "id": "2afafcb8",
   "metadata": {},
   "source": [
    "#### 8. What are the three view objects in dictionaries? Use the three in-built methods in python to display these three view objects for the given dictionary.\n",
    "\n",
    "\n",
    "dict1 = {'Sport': 'Cricket' , 'Teams': ['India', 'Australia', 'England', 'South Africa', 'Sri Lanka', 'New Zealand']}\n"
   ]
  },
  {
   "cell_type": "markdown",
   "id": "86a15713",
   "metadata": {},
   "source": [
    "The three view objects of dictionary in python are keys, values and items. They provide a non-constant view of the dictionary's entries."
   ]
  },
  {
   "cell_type": "code",
   "execution_count": 17,
   "id": "4b7c967a",
   "metadata": {},
   "outputs": [
    {
     "data": {
      "text/plain": [
       "dict_keys(['Sport', 'Teams'])"
      ]
     },
     "execution_count": 17,
     "metadata": {},
     "output_type": "execute_result"
    }
   ],
   "source": [
    "dict1 = {'Sport': 'Cricket' , 'Teams': ['India', 'Australia', 'England', 'South Africa', 'Sri Lanka', 'New Zealand']}\n",
    "dict1.keys()"
   ]
  },
  {
   "cell_type": "code",
   "execution_count": 18,
   "id": "09dbd8bc",
   "metadata": {},
   "outputs": [
    {
     "data": {
      "text/plain": [
       "dict_items([('Sport', 'Cricket'), ('Teams', ['India', 'Australia', 'England', 'South Africa', 'Sri Lanka', 'New Zealand'])])"
      ]
     },
     "execution_count": 18,
     "metadata": {},
     "output_type": "execute_result"
    }
   ],
   "source": [
    "dict1.items()"
   ]
  },
  {
   "cell_type": "code",
   "execution_count": 19,
   "id": "a9424ac5",
   "metadata": {},
   "outputs": [
    {
     "data": {
      "text/plain": [
       "dict_values(['Cricket', ['India', 'Australia', 'England', 'South Africa', 'Sri Lanka', 'New Zealand']])"
      ]
     },
     "execution_count": 19,
     "metadata": {},
     "output_type": "execute_result"
    }
   ],
   "source": [
    "dict1.values()"
   ]
  },
  {
   "cell_type": "code",
   "execution_count": 20,
   "id": "38c89359",
   "metadata": {},
   "outputs": [
    {
     "data": {
      "text/plain": [
       "'Cricket'"
      ]
     },
     "execution_count": 20,
     "metadata": {},
     "output_type": "execute_result"
    }
   ],
   "source": [
    "dict1.pop('Sport')"
   ]
  },
  {
   "cell_type": "code",
   "execution_count": null,
   "id": "7c7c0656",
   "metadata": {},
   "outputs": [],
   "source": []
  }
 ],
 "metadata": {
  "kernelspec": {
   "display_name": "Python 3 (ipykernel)",
   "language": "python",
   "name": "python3"
  },
  "language_info": {
   "codemirror_mode": {
    "name": "ipython",
    "version": 3
   },
   "file_extension": ".py",
   "mimetype": "text/x-python",
   "name": "python",
   "nbconvert_exporter": "python",
   "pygments_lexer": "ipython3",
   "version": "3.9.12"
  }
 },
 "nbformat": 4,
 "nbformat_minor": 5
}
