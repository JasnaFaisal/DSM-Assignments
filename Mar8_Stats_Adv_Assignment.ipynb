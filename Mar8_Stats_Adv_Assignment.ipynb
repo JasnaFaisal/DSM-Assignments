{
 "cells": [
  {
   "cell_type": "markdown",
   "id": "0263502d",
   "metadata": {},
   "source": [
    "#### Q1. What is the Probability density function?"
   ]
  },
  {
   "cell_type": "markdown",
   "id": "14f711ea",
   "metadata": {},
   "source": [
    "A probability density function (PDF) is a mathematical function that describes the relative likelihood of a continuous random variable taking on a given value. It is often used to model the distribution of continuous data.\n",
    "\n",
    "The PDF is a non-negative function that integrates to 1 over the range of possible values of the variable. It is typically denoted by f(x), where x is the random variable. The PDF can be used to calculate the probability that the variable falls within a particular range of values by integrating the PDF over that range.\n",
    "\n",
    "The PDF can also be used to calculate other descriptive statistics of the distribution, such as the mean and variance. For example, the mean of a distribution with PDF f(x) can be calculated as the integral of xf(x) over the range of possible values of x.\n",
    "\n",
    "Some common examples of probability density functions include the normal distribution, which is often used to model continuous data in many fields, and the exponential distribution, which is often used to model waiting times and lifetimes.\n",
    "\n",
    "In summary, a probability density function is a mathematical function that describes the relative likelihood of a continuous random variable taking on a given value. It is an important concept in probability theory and statistics, and is often used to model the distribution of continuous data."
   ]
  },
  {
   "cell_type": "markdown",
   "id": "923461ff",
   "metadata": {},
   "source": [
    "#### Q2. What are the types of Probability distribution?"
   ]
  },
  {
   "cell_type": "markdown",
   "id": "710c9ec0",
   "metadata": {},
   "source": [
    "There are many types of probability distributions in statistics, but some of the most commonly used distributions include:\n",
    "\n",
    "    1.Normal distribution: Also known as the Gaussian distribution, it is a continuous probability distribution that is symmetric and bell-shaped. It is often used to model continuous variables that have a roughly symmetrical distribution, such as heights, weights, and IQ scores.\n",
    "\n",
    "    2.Binomial distribution: It is a discrete probability distribution that models the probability of a certain number of successes in a fixed number of independent trials. It is often used in situations where there are only two possible outcomes, such as flipping a coin or conducting a survey.\n",
    "\n",
    "    3.Poisson distribution: It is a discrete probability distribution that models the probability of a certain number of events occurring in a fixed interval of time or space. It is often used to model rare events, such as accidents, natural disasters, or defects in a manufacturing process.\n",
    "\n",
    "    4.Exponential distribution: It is a continuous probability distribution that models the time between events in a Poisson process, where events occur randomly and independently over time. It is often used to model waiting times, such as the time between calls to a customer service center.\n",
    "\n",
    "    5.Uniform distribution: It is a continuous probability distribution that models a situation where all values within a certain range are equally likely to occur. It is often used to model situations where there is no a priori reason to believe that any particular value is more likely than any other, such as rolling a fair die.\n",
    "\n",
    "    6.Gamma distribution: It is a continuous probability distribution that generalizes the exponential distribution to allow for a wider range of shapes. It is often used to model waiting times or lifetimes that follow a more complex pattern than the simple exponential distribution.\n",
    "\n",
    "These are just a few examples of the many probability distributions that are used in statistics, each with its own characteristics and applications."
   ]
  },
  {
   "cell_type": "markdown",
   "id": "4badbf43",
   "metadata": {},
   "source": [
    "#### Q3. Write a Python function to calculate the probability density function of a normal distribution with given mean and standard deviation at a given point.\n"
   ]
  },
  {
   "cell_type": "code",
   "execution_count": 1,
   "id": "bb21b121",
   "metadata": {},
   "outputs": [],
   "source": [
    "#Python function that calculates the probability density function of a normal distribution at a given point, given the mean and standard deviation:\n",
    "import math\n",
    "\n",
    "def normal_pdf(x, mean, std_dev):\n",
    "    \"\"\"\n",
    "    Calculates the probability density function of a normal distribution at a given point x,\n",
    "    given the mean and standard deviation.\n",
    "    \"\"\"\n",
    "    exponent = -((x - mean) ** 2) / (2 * std_dev ** 2)\n",
    "    coefficient = 1 / (std_dev * math.sqrt(2 * math.pi))\n",
    "    pdf = coefficient * math.exp(exponent)\n",
    "    return pdf\n"
   ]
  },
  {
   "cell_type": "markdown",
   "id": "e2c74764",
   "metadata": {},
   "source": [
    "The function takes three arguments: x, which is the point at which to evaluate the PDF; mean, which is the mean of the normal distribution; and std_dev, which is the standard deviation of the normal distribution.\n",
    "\n",
    "The function first calculates the exponent of the PDF formula, then calculates the coefficient, and finally multiplies the two together to get the PDF value. It uses the math module to access the sqrt() and exp() functions for calculating the square root and exponential, respectively.\n",
    "\n",
    "Here's an example usage of the function:"
   ]
  },
  {
   "cell_type": "code",
   "execution_count": 4,
   "id": "618211fd",
   "metadata": {},
   "outputs": [
    {
     "data": {
      "text/plain": [
       "0.05399096651318806"
      ]
     },
     "execution_count": 4,
     "metadata": {},
     "output_type": "execute_result"
    }
   ],
   "source": [
    ">>> normal_pdf(2, 0, 1)\n",
    "0.05399096651318806\n",
    "#This calculates the PDF value of a normal distribution with mean 0 and standard deviation 1, evaluated at x = 2. \n",
    "#The result is approximately 0.054."
   ]
  },
  {
   "cell_type": "markdown",
   "id": "4ca35a05",
   "metadata": {},
   "source": [
    "#### Q4. What are the properties of Binomial distribution? Give two examples of events where binomial distribution can be applied.\n"
   ]
  },
  {
   "cell_type": "markdown",
   "id": "120af3f7",
   "metadata": {},
   "source": [
    "The properties of a binomial distribution are:\n",
    "\n",
    "    1.The experiment consists of a fixed number of trials, denoted as n.\n",
    "    2.Each trial is independent and has only two possible outcomes, success (S) or failure (F).\n",
    "    3.The probability of success in each trial is denoted as p, and the probability of failure is q = 1 - p.\n",
    "    4.The random variable X denotes the number of successes in n trials.\n",
    "    5.The probability distribution of X follows a binomial distribution.\n",
    "\n",
    "Two examples of events where binomial distribution can be applied are:\n",
    "\n",
    "Coin flipping: Suppose we flip a fair coin 10 times and want to know the probability of getting exactly 5 heads. Each flip is an independent trial with only two possible outcomes (heads or tails), and the probability of getting heads is 0.5. Therefore, this is an example of a binomial distribution with n = 10 and p = 0.5.\n",
    "\n",
    "Product defects: Suppose a factory produces light bulbs and the probability of a bulb being defective is 0.01. If we randomly select 100 bulbs from the production line, we can model the number of defective bulbs as a binomial distribution with n = 100 and p = 0.01. We can use this distribution to calculate the probability of getting a certain number of defective bulbs in the sample."
   ]
  },
  {
   "cell_type": "markdown",
   "id": "460f7e3c",
   "metadata": {},
   "source": [
    "#### Q5. Generate a random sample of size 1000 from a binomial distribution with probability of success 0.4 and plot a histogram of the results using matplotlib.\n"
   ]
  },
  {
   "cell_type": "code",
   "execution_count": 5,
   "id": "0803ade8",
   "metadata": {},
   "outputs": [
    {
     "data": {
      "image/png": "[encoded data removed]",
      "text/plain": [
       "<Figure size 432x288 with 1 Axes>"
      ]
     },
     "metadata": {
      "needs_background": "light"
     },
     "output_type": "display_data"
    }
   ],
   "source": [
    "import numpy as np\n",
    "import matplotlib.pyplot as plt\n",
    "\n",
    "# Set the parameters of the binomial distribution\n",
    "n = 10\n",
    "p = 0.4\n",
    "\n",
    "# Generate a random sample of size 1000 from the binomial distribution\n",
    "sample = np.random.binomial(n, p, size=1000)\n",
    "\n",
    "# Plot a histogram of the sample\n",
    "plt.hist(sample, bins=range(n+2), rwidth=0.8, align='left')\n",
    "plt.xlabel('Number of successes')\n",
    "plt.ylabel('Frequency')\n",
    "plt.title('Binomial Distribution Histogram')\n",
    "plt.show()"
   ]
  },
  {
   "cell_type": "markdown",
   "id": "216d7f24",
   "metadata": {},
   "source": [
    "In this code, we use the NumPy random.binomial() function to generate a random sample of size 1000 from a binomial distribution with parameters n = 10 and p = 0.4. We then plot a histogram of the sample using Matplotlib's hist() function. The bins argument specifies the range of values to include in each bin of the histogram, and we set it to range(n+2) to ensure that all possible values from 0 to 10 are included. The rwidth argument sets the width of each bar in the histogram, and the align argument specifies the alignment of the bars with respect to the bin edges. Finally, we add axis labels and a title to the plot and display it using the show() function."
   ]
  },
  {
   "cell_type": "markdown",
   "id": "22fdb0ab",
   "metadata": {},
   "source": [
    "#### Q6. Write a Python function to calculate the cumulative distribution function of a Poisson distribution with given mean at a given point.\n"
   ]
  },
  {
   "cell_type": "code",
   "execution_count": 7,
   "id": "95c8531d",
   "metadata": {},
   "outputs": [],
   "source": [
    "#Python function to calculate the cumulative distribution function (CDF) of a Poisson distribution with a given mean mu at a given point k:\n",
    "import math\n",
    "\n",
    "def poisson_cdf(mu, k):\n",
    "    cdf = 0\n",
    "    for i in range(k+1):\n",
    "        cdf += math.exp(-mu) * (mu ** i) / math.factorial(i)\n",
    "    return cdf\n"
   ]
  },
  {
   "cell_type": "markdown",
   "id": "ffab9ed8",
   "metadata": {},
   "source": [
    "In this function, we use the formula for the Poisson probability mass function (PMF) to calculate the CDF. The PMF is given by:\n",
    "\n",
    "P(X = k) = (e^(-mu) * mu^k) / k!\n",
    "\n",
    "where X is a random variable that follows a Poisson distribution with mean mu.\n",
    "\n",
    "To calculate the CDF at a given point k, we sum up the PMF for all values of i from 0 to k:\n",
    "\n",
    "F(k) = P(X <= k) = sum(P(X = i) for i in range(k+1))\n",
    "\n",
    "We can simplify this expression using the cumulative property of the Poisson distribution:\n",
    "\n",
    "F(k) = sum(P(X = i) for i in range(k)) + P(X = k)\n",
    "     = F(k-1) + P(X = k)"
   ]
  },
  {
   "cell_type": "markdown",
   "id": "1dc05a8c",
   "metadata": {},
   "source": [
    "use the poisson_cdf() function to calculate the CDF of a Poisson distribution with mean mu = 3 at the point k = 5:"
   ]
  },
  {
   "cell_type": "code",
   "execution_count": 12,
   "id": "5a642d8b",
   "metadata": {},
   "outputs": [
    {
     "data": {
      "text/plain": [
       "0.9160820579686966"
      ]
     },
     "execution_count": 12,
     "metadata": {},
     "output_type": "execute_result"
    }
   ],
   "source": [
    "poisson_cdf(3, 5)"
   ]
  },
  {
   "cell_type": "markdown",
   "id": "1ff800c1",
   "metadata": {},
   "source": [
    "#### Q7. How Binomial distribution different from Poisson distribution?\n"
   ]
  },
  {
   "cell_type": "markdown",
   "id": "2b649b4b",
   "metadata": {},
   "source": [
    "Binomial and Poisson distributions are both discrete probability distributions, but they differ in their assumptions and applications.\n",
    "\n",
    "The binomial distribution models the number of successes in a fixed number of independent trials, each with the same probability of success. The key assumptions of the binomial distribution are:\n",
    "\n",
    "    1.The number of trials is fixed.\n",
    "    2.Each trial is independent.\n",
    "    3.The probability of success is constant for each trial.\n",
    "    4.The outcomes of the trials are binary (i.e., success or failure).\n",
    "The probability mass function of the binomial distribution is given by:\n",
    "\n",
    "P(X = k) = (n choose k) * p^k * (1-p)^(n-k)\n",
    "\n",
    "where X is the number of successes in n trials with probability of success p.\n",
    "\n",
    "The Poisson distribution, on the other hand, models the number of events occurring in a fixed interval of time or space, given a certain average rate of occurrence. The key assumptions of the Poisson distribution are:\n",
    "\n",
    "    1.Events occur randomly and independently of each other.\n",
    "    2.The rate of occurrence is constant over time or space.\n",
    "    3.The probability of more than one event occurring in a very small time or space interval is negligible.\n",
    "The probability mass function of the Poisson distribution is given by:\n",
    "\n",
    "P(X = k) = (e^(-lambda) * lambda^k) / k!\n",
    "\n",
    "where X is the number of events occurring in a given interval, and lambda is the average rate of occurrence.\n",
    "\n",
    "In summary, the main difference between the binomial and Poisson distributions is that the binomial distribution models the number of successes in a fixed number of trials, while the Poisson distribution models the number of events occurring in a fixed interval of time or space, given a certain average rate of occurrence. The binomial distribution assumes that the trials are independent and have a constant probability of success, while the Poisson distribution assumes that the events occur randomly and independently of each other, with a constant rate of occurrence."
   ]
  },
  {
   "cell_type": "markdown",
   "id": "7b7fcec6",
   "metadata": {},
   "source": [
    "#### Q8. Generate a random sample of size 1000 from a Poisson distribution with mean 5 and calculate the sample mean and variance.\n"
   ]
  },
  {
   "cell_type": "code",
   "execution_count": 13,
   "id": "b9badc18",
   "metadata": {},
   "outputs": [
    {
     "name": "stdout",
     "output_type": "stream",
     "text": [
      "Sample mean: 4.919\n",
      "Sample variance: 5.035474474474475\n"
     ]
    }
   ],
   "source": [
    "import numpy as np\n",
    "\n",
    "# Set the random seed for reproducibility\n",
    "np.random.seed(123)\n",
    "\n",
    "# Generate a random sample of size 1000 from a Poisson distribution with mean 5\n",
    "sample = np.random.poisson(5, size=1000)\n",
    "\n",
    "# Calculate the sample mean and variance\n",
    "sample_mean = np.mean(sample)\n",
    "sample_var = np.var(sample, ddof=1)  # ddof=1 for sample variance\n",
    "\n",
    "print(\"Sample mean:\", sample_mean)\n",
    "print(\"Sample variance:\", sample_var)\n"
   ]
  },
  {
   "cell_type": "markdown",
   "id": "a87632c6",
   "metadata": {},
   "source": [
    "Note that the sample mean is close to the true mean of the Poisson distribution (which is also 5), and the sample variance is close to the true variance of the Poisson distribution (which is also 5)"
   ]
  },
  {
   "cell_type": "markdown",
   "id": "cd28dcb7",
   "metadata": {},
   "source": [
    "#### Q9. How mean and variance are related in Binomial distribution and Poisson distribution?\n"
   ]
  },
  {
   "cell_type": "markdown",
   "id": "c651b81c",
   "metadata": {},
   "source": [
    "In the case of the binomial distribution, the mean is equal to np, where n is the number of trials and p is the probability of success in each trial. The variance is equal to np*(1-p).\n",
    "\n",
    "In the case of the Poisson distribution, the mean and the variance are equal, and are denoted by λ.\n",
    "\n",
    "Therefore, in both distributions, the mean and variance are related to each other. In the case of the binomial distribution, the variance increases with the mean, and in the case of the Poisson distribution, the variance is equal to the mean."
   ]
  },
  {
   "cell_type": "markdown",
   "id": "0d086ff2",
   "metadata": {},
   "source": [
    "#### Q10. In normal distribution with respect to mean position, where does the least frequent data appear?"
   ]
  },
  {
   "cell_type": "markdown",
   "id": "99e4e7e1",
   "metadata": {},
   "source": [
    "In a normal distribution, the least frequent data appears in the tails of the distribution, which are the areas farthest from the mean. The tails contain the extreme values of the distribution, and the probability of observing a value in the tail is relatively low.\n",
    "\n",
    "Specifically, the values that are more than 2 standard deviations away from the mean are considered to be in the tails of the normal distribution, and the probability of observing a value in this range is less than 5%. These values can be either positive or negative, depending on which tail of the distribution they belong to."
   ]
  },
  {
   "cell_type": "code",
   "execution_count": null,
   "id": "fb2409a1",
   "metadata": {},
   "outputs": [],
   "source": []
  }
 ],
 "metadata": {
  "kernelspec": {
   "display_name": "Python 3 (ipykernel)",
   "language": "python",
   "name": "python3"
  },
  "language_info": {
   "codemirror_mode": {
    "name": "ipython",
    "version": 3
   },
   "file_extension": ".py",
   "mimetype": "text/x-python",
   "name": "python",
   "nbconvert_exporter": "python",
   "pygments_lexer": "ipython3",
   "version": "3.9.12"
  }
 },
 "nbformat": 4,
 "nbformat_minor": 5
}
