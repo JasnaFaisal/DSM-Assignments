{
 "cells": [
  {
   "cell_type": "markdown",
   "id": "9127c420",
   "metadata": {},
   "source": [
    "#### Q1.What is multithreading in python? Why is it used? Name the module used to handle threads in python"
   ]
  },
  {
   "cell_type": "markdown",
   "id": "33b6c265",
   "metadata": {},
   "source": [
    "A thread is an entity within a process that can be scheduled for execution. Also, it is the smallest unit of processing that can be performed in an OS (Operating System). In simple words, a thread is a sequence of such instructions within a program that can be executed independently of other code. For simplicity, you can assume that a thread is simply a subset of a process.\n",
    "\n",
    "Multi-threading: Multiple threads can exist within one process where:\n",
    "\n",
    "    1.Each thread contains its own register set and local variables (stored in stack).\n",
    "    2.All threads of a process share global variables (stored in heap) and the program code.\n",
    "    \n",
    "Multithreading is defined as the ability of a processor to execute multiple threads concurrently.Multithreading in Python streamlines the efficient utilization of resources as the threads share the same memory and data space. It also allows the concurrent appearance of multiple tasks and reduces the response time. This improves the performance.\n",
    "\n",
    "The module used to handle thread is The Threading Module"
   ]
  },
  {
   "cell_type": "markdown",
   "id": "50358177",
   "metadata": {},
   "source": [
    "#### Q2.Why threading module used?Write the use of the following functions\n",
    "\n",
    "    1.activeCount()\n",
    "    2.currentThread()\n",
    "    3.enumerate()"
   ]
  },
  {
   "cell_type": "markdown",
   "id": "ddc681ab",
   "metadata": {},
   "source": [
    "Python threading module allows you to have different parts of your program run concurrently and can simplify your design.Threads are very useful in modern programming whenever a process has multiple tasks to perform independently of the others. This is particularly true when one of the tasks may block, and it is desired to allow the other tasks to proceed without blocking.\n",
    "\n",
    "On a multiprocessor system, multiple threads can concurrently run on multiple CPUs. Therefore, multithreaded programs can run much faster than on a uniprocessor system. They can also be faster than a program using multiple processes, because threads require fewer resources and generate less overhead."
   ]
  },
  {
   "cell_type": "markdown",
   "id": "8215c17c",
   "metadata": {},
   "source": [
    "    threading. activeCount() − Returns the number of thread objects that are active.\n",
    "    threading. currentThread() − Returns the number of thread objects in the caller's thread control.\n",
    "    threading.enumerate() returns a list of all Thread objects currently alive. The list includes daemonic threads, dummy thread objects created by current_thread(), and the main thread. It excludes terminated threads and threads that have not yet been started"
   ]
  },
  {
   "cell_type": "markdown",
   "id": "89e2f828",
   "metadata": {},
   "source": [
    "#### Q3.Explain the following functions:\n",
    "\n",
    "    1.run()\n",
    "    2.start()\n",
    "    3.join()\n",
    "    4.isAlive()"
   ]
  },
  {
   "cell_type": "markdown",
   "id": "ea54365d",
   "metadata": {},
   "source": [
    "run() method:\n",
    "\n",
    "    run() is a method provided by the threading module in Python that is used to define the code that will be executed when a thread is started. This method is intended to be overridden in a subclass, and it defines the action that will be performed when the thread starts. When a thread is started, it calls the run() method of the thread object, which in turn executes the code defined by the subclass.\n",
    "\n",
    "start() method:\n",
    "\n",
    "    The start() method is used to start a new thread of execution. When a thread is created using the threading.Thread class, it is not automatically started. The start() method must be called explicitly to start the thread. Once a thread has been started, its run() method will be called automatically. If you call start() multiple times on the same thread object, a RuntimeError will be raised.\n",
    "\n",
    "join() method:\n",
    "\n",
    "    The join() method is used to wait for a thread to complete. When a thread is started using the start() method, it runs in the background, and the main program continues to execute. If you want to wait for the thread to complete before continuing with the main program, you can call the join() method on the thread object. This will cause the main program to block until the thread has completed its execution.\n",
    "\n",
    "isAlive() method:\n",
    "\n",
    "    The isAlive() method is used to check whether a thread is still executing. This method returns True if the thread is still running, and False if it has completed its execution. This can be useful if you need to know whether a thread has finished its work before proceeding with the rest of your program."
   ]
  },
  {
   "cell_type": "markdown",
   "id": "ad87c92b",
   "metadata": {},
   "source": [
    "#### Q4. Write a python program to create two threads. Thread one must print the list of squares and thread two must print the list of cubes."
   ]
  },
  {
   "cell_type": "code",
   "execution_count": 8,
   "id": "be3c2735",
   "metadata": {},
   "outputs": [
    {
     "name": "stdout",
     "output_type": "stream",
     "text": [
      "1^2 = 1\n",
      "2^2 = 4\n",
      "3^2 = 9\n",
      "4^2 = 16\n",
      "5^2 = 25\n",
      "6^2 = 36\n",
      "7^2 = 49\n",
      "8^2 = 64\n",
      "9^2 = 81\n",
      "10^2 = 100\n",
      "1^3 = 1\n",
      "2^3 = 8\n",
      "3^3 = 27\n",
      "4^3 = 64\n",
      "5^3 = 125\n",
      "6^3 = 216\n",
      "7^3 = 343\n",
      "8^3 = 512\n",
      "9^3 = 729\n",
      "10^3 = 1000\n",
      "Main thread exiting\n"
     ]
    }
   ],
   "source": [
    "import threading\n",
    "\n",
    "def print_squares(i):\n",
    "    #for i in range(1, 11):\n",
    "     print(f\"{i}^2 = {i**2}\")\n",
    "\n",
    "def print_cubes(i):\n",
    "    #for i in range(1, 11):\n",
    "    print(f\"{i}^3 = {i**3}\")\n",
    "\n",
    "\n",
    "    # Create the threads\n",
    "t1 = [threading.Thread(target=print_squares,args=(i,)) for i in range(1,11)]\n",
    "t2 = [threading.Thread(target=print_cubes,args=(i,)) for i in range(1,11)]\n",
    "\n",
    "    # Start the threads\n",
    "for t in t1:\n",
    "    t.start()\n",
    "for t in t2:\n",
    "    t.start()\n",
    "\n",
    "    # Wait for the threads to complete\n",
    "t.join()\n",
    "t.join()\n",
    "\n",
    "print(\"Main thread exiting\")\n"
   ]
  },
  {
   "cell_type": "markdown",
   "id": "f7bd363f",
   "metadata": {},
   "source": [
    "#### Q5.State advantages and disadvantages of multithreading."
   ]
  },
  {
   "cell_type": "markdown",
   "id": "569a957c",
   "metadata": {},
   "source": [
    "Advantages of multithreading:\n",
    "\n",
    "    1.Enhanced performance by decreased development time\n",
    "    2.Simplified and streamlined program coding\n",
    "    3.Improvised GUI responsiveness\n",
    "    4.Simultaneous and parallelized occurrence of tasks\n",
    "    5.Better use of cache storage by utilization of resources\n",
    "    6.Decreased cost of maintenance\n",
    "    7.Better use of CPU resource\n",
    "Multithreading common disadvantages:\n",
    "\n",
    "    1.Complex debugging and testing processes\n",
    "    2.Overhead switching of context\n",
    "    3.Increased potential for deadlock occurrence\n",
    "    4.Increased difficulty level in writing a program\n",
    "    5.Unpredictable results"
   ]
  },
  {
   "cell_type": "markdown",
   "id": "225c2219",
   "metadata": {},
   "source": [
    "#### Q6.Explain deadlocks and race conditions."
   ]
  },
  {
   "cell_type": "markdown",
   "id": "2e1edfe2",
   "metadata": {},
   "source": [
    "A race condition occurs when two threads use the same variable at a given time. Deadlock exists when two threads seek one lock simultaneously."
   ]
  },
  {
   "cell_type": "markdown",
   "id": "bcc3edcc",
   "metadata": {},
   "source": [
    "In Python, deadlocks and race conditions can occur in multi-threaded programs where two or more threads are executing concurrently.\n",
    "\n",
    "A deadlock in Python occurs when two or more threads are blocked and waiting for each other to release resources that they have acquired, resulting in a situation where none of the threads can proceed. For example, if thread A holds a lock on resource 1 and is waiting for a lock on resource 2, while thread B holds a lock on resource 2 and is waiting for a lock on resource 1, a deadlock will occur.\n",
    "\n",
    "A race condition in Python occurs when two or more threads access a shared resource in an unpredictable manner, resulting in unexpected behavior. For example, if two threads try to modify the same list at the same time, the result may depend on the order in which the threads execute, which can lead to incorrect output or even program crashes.\n",
    "\n",
    "To avoid deadlocks and race conditions in Python, it is important to use synchronization mechanisms like locks or semaphores to ensure that threads do not access shared resources in an unpredictable manner. Additionally, it is important to carefully design the program's architecture to minimize the risk of deadlocks and race conditions."
   ]
  },
  {
   "cell_type": "code",
   "execution_count": null,
   "id": "600ad83b",
   "metadata": {},
   "outputs": [],
   "source": []
  }
 ],
 "metadata": {
  "kernelspec": {
   "display_name": "Python 3 (ipykernel)",
   "language": "python",
   "name": "python3"
  },
  "language_info": {
   "codemirror_mode": {
    "name": "ipython",
    "version": 3
   },
   "file_extension": ".py",
   "mimetype": "text/x-python",
   "name": "python",
   "nbconvert_exporter": "python",
   "pygments_lexer": "ipython3",
   "version": "3.9.12"
  }
 },
 "nbformat": 4,
 "nbformat_minor": 5
}
