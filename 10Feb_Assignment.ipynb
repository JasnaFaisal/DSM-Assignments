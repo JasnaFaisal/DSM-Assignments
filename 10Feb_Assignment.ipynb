{
 "cells": [
  {
   "cell_type": "markdown",
   "id": "48428936",
   "metadata": {},
   "source": [
    "#### Q1. Which function is used to open a file? What are the different modes of opening a file? Explain each mode of file opening.\n"
   ]
  },
  {
   "cell_type": "markdown",
   "id": "ca0986d9",
   "metadata": {},
   "source": [
    "A file is a container in computer storage devices used for storing data.When we want to read from or write to a file, we need to open it first. When we are done, it needs to be closed so that the resources that are tied with the file are freed.\n",
    "Hence, in Python, a file operation takes place in the following order:\n",
    "\n",
    "    1.Open a file\n",
    "    2.Read or write a file\n",
    "    3.Close a file\n",
    "    In Python, we use the open() method to open files."
   ]
  },
  {
   "cell_type": "markdown",
   "id": "46cde0bd",
   "metadata": {},
   "source": [
    "Different modes of opening a file:\n",
    "    \n",
    "    Mode\tDescription\n",
    "    r\t   Open a file for reading. (default)\n",
    "    w\t   Open a file for writing. Creates a new file if it does not exist or truncates the file if it exists.\n",
    "    x\t   Open a file for exclusive creation. If the file already exists, the operation fails.\n",
    "    a\t   Open a file for appending at the end of the file without truncating it. Creates a new file if it does not exist.\n",
    "    t\t   Open in text mode. (default)\n",
    "    b\t   Open in binary mode.\n",
    "    +\t   Open a file for updating (reading and writing)"
   ]
  },
  {
   "cell_type": "markdown",
   "id": "8a711201",
   "metadata": {},
   "source": [
    "Examples:\n",
    "\n",
    "    file1 = open(\"test.txt\")      # equivalent to 'r' or 'rt'\n",
    "    file1 = open(\"test.txt\",'w')  # write in text mode\n",
    "    file1 = open(\"img.bmp\",'r+b') # read and write in binary mode"
   ]
  },
  {
   "cell_type": "markdown",
   "id": "4ae3704a",
   "metadata": {},
   "source": [
    "#### Q2. Why close() function is used? Why is it important to close a file?\n"
   ]
  },
  {
   "cell_type": "markdown",
   "id": "651509f2",
   "metadata": {},
   "source": [
    "When we are done with performing operations on the file, we need to properly close the file.\n",
    "\n",
    "Closing a file will free up the resources that were tied with the file. It is done using the close() method in Python.After we perform file operation, we should always close the file; it's a good programming practice."
   ]
  },
  {
   "cell_type": "markdown",
   "id": "63c3475d",
   "metadata": {},
   "source": [
    "#### Q3. Write a python program to create a text file. Write ‘I want to become a Data Scientist’ in that file. Then close the file. Open this file and read the content of the file.\n"
   ]
  },
  {
   "cell_type": "code",
   "execution_count": 1,
   "id": "9669aa75",
   "metadata": {},
   "outputs": [],
   "source": [
    "file=open(\"test.txt\",'w')\n",
    "file.write('I want to become a Data Scientist')\n",
    "file.close()\n",
    "    "
   ]
  },
  {
   "cell_type": "code",
   "execution_count": 2,
   "id": "f5eca3c5",
   "metadata": {},
   "outputs": [
    {
     "data": {
      "text/plain": [
       "'I want to become a Data Scientist'"
      ]
     },
     "execution_count": 2,
     "metadata": {},
     "output_type": "execute_result"
    }
   ],
   "source": [
    "data=open('test.txt','r')\n",
    "data.read()"
   ]
  },
  {
   "cell_type": "markdown",
   "id": "7c6e0605",
   "metadata": {},
   "source": [
    "#### Q4. Explain the following with python code: read(), readline() and readlines().\n"
   ]
  },
  {
   "cell_type": "markdown",
   "id": "d87a18b7",
   "metadata": {},
   "source": [
    "read() Method:\n",
    "\n",
    "The read() method returns the specified number of bytes from the file. Default is -1 which means the whole file."
   ]
  },
  {
   "cell_type": "code",
   "execution_count": 3,
   "id": "90a021a7",
   "metadata": {},
   "outputs": [
    {
     "data": {
      "text/plain": [
       "'I want to become a Data ScientistMy name is Jasna.\\nI am an learning data science.\\nI will become a Data scientist.'"
      ]
     },
     "execution_count": 3,
     "metadata": {},
     "output_type": "execute_result"
    }
   ],
   "source": [
    "file=open('test.txt','a')\n",
    "file.write('My name is Jasna.\\n')\n",
    "file.write('I am an learning data science.\\n')\n",
    "file.write('I will become a Data scientist.')\n",
    "file.close()\n",
    "\n",
    "#opening the file for reading the data\n",
    "data=open('test.txt','r')\n",
    "data.read()"
   ]
  },
  {
   "cell_type": "markdown",
   "id": "b99f70f9",
   "metadata": {},
   "source": [
    "readline() Method:\n",
    "\n",
    "The readline() method returns one line from the file. You can also specified how many bytes from the line to return, by using the size parameter.It appends a newline (“\\n”) at the end of the line. If you open the file in normal read mode, readline() will return you the string. If you open the file in binary mode, readline() will return you binary object."
   ]
  },
  {
   "cell_type": "code",
   "execution_count": 4,
   "id": "13aea179",
   "metadata": {},
   "outputs": [
    {
     "data": {
      "text/plain": [
       "'I want to become a Data ScientistMy name is Jasna.\\n'"
      ]
     },
     "execution_count": 4,
     "metadata": {},
     "output_type": "execute_result"
    }
   ],
   "source": [
    "data=open('test.txt','r')\n",
    "data.readline()"
   ]
  },
  {
   "cell_type": "markdown",
   "id": "5500f06b",
   "metadata": {},
   "source": [
    "readlines() Method:\n",
    "\n",
    "readlines() method will return all the lines in a file in the format of a list where each element is a line in the file."
   ]
  },
  {
   "cell_type": "code",
   "execution_count": 5,
   "id": "966f3a46",
   "metadata": {},
   "outputs": [
    {
     "data": {
      "text/plain": [
       "['I want to become a Data ScientistMy name is Jasna.\\n',\n",
       " 'I am an learning data science.\\n',\n",
       " 'I will become a Data scientist.']"
      ]
     },
     "execution_count": 5,
     "metadata": {},
     "output_type": "execute_result"
    }
   ],
   "source": [
    "data=open('test.txt','r')\n",
    "data.readlines()"
   ]
  },
  {
   "cell_type": "markdown",
   "id": "3a0f8293",
   "metadata": {},
   "source": [
    "#### Q5. Explain why with statement is used with open(). What is the advantage of using with statement and open() together?\n"
   ]
  },
  {
   "cell_type": "markdown",
   "id": "9965be9d",
   "metadata": {},
   "source": [
    "The with statement works with the open() function to open a file. Unlike open() where you have to close the file with the close() method, the with statement closes the file for you without you telling it to. This is because the with statement calls 2 built-in methods behind the scene – __enter()__ and __exit()__ ."
   ]
  },
  {
   "cell_type": "markdown",
   "id": "05dbf41e",
   "metadata": {},
   "source": [
    "Using with means that the file will be closed as soon as you leave the block. This is beneficial because closing a file is something that can easily be forgotten and ties up resources that you no longer need.\n",
    "\n",
    "The syntax of with clause is: with open (file_name, access_mode) as file_ object: The advantage of using with clause is that any file that is opened using this clause is closed automatically, once the control comes outside the with clause."
   ]
  },
  {
   "cell_type": "markdown",
   "id": "9d5ba8e2",
   "metadata": {},
   "source": [
    "#### Q6. Explain the write() and writelines() functions. Give a suitable example."
   ]
  },
  {
   "cell_type": "markdown",
   "id": "2d961b6a",
   "metadata": {},
   "source": [
    "write() function\n",
    "    \n",
    "    The write() function will write the content in the file without adding any extra characters.\n",
    "As per the syntax, the string that is passed to the write() function is written into the opened file. The string may include numbers, special characters, or symbols. While writing data to a file, we must know that the write function does not add a newline character(\\n) to the end of the string. The write() function returns None."
   ]
  },
  {
   "cell_type": "code",
   "execution_count": 6,
   "id": "1a0aef5c",
   "metadata": {},
   "outputs": [
    {
     "data": {
      "text/plain": [
       "24"
      ]
     },
     "execution_count": 6,
     "metadata": {},
     "output_type": "execute_result"
    }
   ],
   "source": [
    "file=open('demo.txt','w')\n",
    "file.write('This is a test file.')\n",
    "file.write('This is the second line.')"
   ]
  },
  {
   "cell_type": "code",
   "execution_count": 7,
   "id": "610301f0",
   "metadata": {},
   "outputs": [
    {
     "data": {
      "text/plain": [
       "'This is a test file.This is the second line.'"
      ]
     },
     "execution_count": 7,
     "metadata": {},
     "output_type": "execute_result"
    }
   ],
   "source": [
    "file.close()\n",
    "file=open('demo.txt','r')\n",
    "file.read()"
   ]
  },
  {
   "cell_type": "markdown",
   "id": "8bd3f687",
   "metadata": {},
   "source": [
    "writelines() function\n",
    "\n",
    "This function writes the content of a list to a file.\n",
    "\n",
    "Syntax:   \n",
    "\n",
    "    file_name.writelines(list_of_lines)\n",
    "As per the syntax, the list of strings that is passed to the writelines() function is written into the opened file. Similar to the write() function, the writelines() function does not add a newline character(\\n) to the end of the string."
   ]
  },
  {
   "cell_type": "code",
   "execution_count": 8,
   "id": "b45da45c",
   "metadata": {},
   "outputs": [
    {
     "name": "stdout",
     "output_type": "stream",
     "text": [
      "Enter the name of the student: Jasna\n",
      "Enter the name of the student: Faisal\n",
      "Enter the name of the student: Haimi\n",
      "Data is written into the file.\n"
     ]
    }
   ],
   "source": [
    "file1 = open(\"demo.txt\", \"w\")\n",
    "lst = []\n",
    "for i in range(3):\n",
    "    name = input(\"Enter the name of the student: \")\n",
    "    lst.append(name + '\\n')\n",
    "      \n",
    "file1.writelines(lst)\n",
    "file1.close()\n",
    "print(\"Data is written into the file.\") "
   ]
  },
  {
   "cell_type": "code",
   "execution_count": 9,
   "id": "de8bc6fe",
   "metadata": {},
   "outputs": [
    {
     "data": {
      "text/plain": [
       "'Jasna\\nFaisal\\nHaimi\\n'"
      ]
     },
     "execution_count": 9,
     "metadata": {},
     "output_type": "execute_result"
    }
   ],
   "source": [
    "data=open('demo.txt','r')\n",
    "data.read()"
   ]
  },
  {
   "cell_type": "code",
   "execution_count": null,
   "id": "f8d59641",
   "metadata": {},
   "outputs": [],
   "source": []
  }
 ],
 "metadata": {
  "kernelspec": {
   "display_name": "Python 3 (ipykernel)",
   "language": "python",
   "name": "python3"
  },
  "language_info": {
   "codemirror_mode": {
    "name": "ipython",
    "version": 3
   },
   "file_extension": ".py",
   "mimetype": "text/x-python",
   "name": "python",
   "nbconvert_exporter": "python",
   "pygments_lexer": "ipython3",
   "version": "3.9.12"
  }
 },
 "nbformat": 4,
 "nbformat_minor": 5
}
