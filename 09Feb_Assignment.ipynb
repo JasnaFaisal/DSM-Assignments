{
 "cells": [
  {
   "cell_type": "markdown",
   "id": "50b81d80",
   "metadata": {},
   "source": [
    "#### Q1. Create a vehicle class with an init method having instance variables as name_of_vehicle, max_speed and average_of_vehicle.\n",
    "\n",
    "\n",
    "\n"
   ]
  },
  {
   "cell_type": "code",
   "execution_count": 1,
   "id": "be7f9067",
   "metadata": {},
   "outputs": [],
   "source": [
    "class vehicle:\n",
    "    def __init__(self,name_of_vehicle,max_speed,average_of_vehicle):\n",
    "        self.name_of_vehicle=name_of_vehicle\n",
    "        self.max_speed=max_speed\n",
    "        self.average_of_vehicle=average_of_vehicle\n",
    "    def vehicle_details(self):\n",
    "        return self.name_of_vehicle,self.max_speed,self.average_of_vehicle\n",
    "veh=vehicle('Toyota',120,80)"
   ]
  },
  {
   "cell_type": "code",
   "execution_count": 2,
   "id": "36f47241",
   "metadata": {},
   "outputs": [
    {
     "data": {
      "text/plain": [
       "'Toyota'"
      ]
     },
     "execution_count": 2,
     "metadata": {},
     "output_type": "execute_result"
    }
   ],
   "source": [
    "veh.name_of_vehicle"
   ]
  },
  {
   "cell_type": "code",
   "execution_count": 3,
   "id": "c7088b60",
   "metadata": {},
   "outputs": [
    {
     "data": {
      "text/plain": [
       "120"
      ]
     },
     "execution_count": 3,
     "metadata": {},
     "output_type": "execute_result"
    }
   ],
   "source": [
    "veh.max_speed"
   ]
  },
  {
   "cell_type": "code",
   "execution_count": 4,
   "id": "1c73004c",
   "metadata": {},
   "outputs": [
    {
     "data": {
      "text/plain": [
       "80"
      ]
     },
     "execution_count": 4,
     "metadata": {},
     "output_type": "execute_result"
    }
   ],
   "source": [
    "veh.average_of_vehicle"
   ]
  },
  {
   "cell_type": "markdown",
   "id": "bc9e0739",
   "metadata": {},
   "source": [
    "#### Q2. Create a child class car from the vehicle class created in Que 1, which will inherit the vehicle class. Create a method named seating_capacity which takes capacity as an argument and returns the name of the vehicle and its seating capacity."
   ]
  },
  {
   "cell_type": "code",
   "execution_count": 5,
   "id": "61918959",
   "metadata": {},
   "outputs": [],
   "source": [
    "class car(vehicle):\n",
    "    def seating_capacity(self,capacity):\n",
    "        self.capacity=capacity\n",
    "        return self.name_of_vehicle,self.capacity"
   ]
  },
  {
   "cell_type": "code",
   "execution_count": 6,
   "id": "bb2816dd",
   "metadata": {},
   "outputs": [],
   "source": [
    "car_obj=car('Honda CRV','120km/hr','80km/hr')"
   ]
  },
  {
   "cell_type": "code",
   "execution_count": 7,
   "id": "76c5129d",
   "metadata": {},
   "outputs": [
    {
     "data": {
      "text/plain": [
       "('Honda CRV', '5_seater')"
      ]
     },
     "execution_count": 7,
     "metadata": {},
     "output_type": "execute_result"
    }
   ],
   "source": [
    "car_obj.seating_capacity('5_seater')"
   ]
  },
  {
   "cell_type": "markdown",
   "id": "9876efde",
   "metadata": {},
   "source": [
    "#### Q3. What is multiple inheritance? Write a python code to demonstrate multiple inheritance."
   ]
  },
  {
   "cell_type": "markdown",
   "id": "4929781e",
   "metadata": {},
   "source": [
    "When a class is derived from more than one base class it is called multiple Inheritance. The derived class inherits all the features of the base case. \n",
    "\n",
    "    Syntax:\n",
    "\n",
    "Class Base1:\n",
    "       \n",
    "       Body of the class\n",
    "\n",
    "Class Base2:\n",
    "     \n",
    "     Body of the class\n",
    "\n",
    "Class Derived(Base1, Base2):\n",
    "     \n",
    "     Body of the class"
   ]
  },
  {
   "cell_type": "code",
   "execution_count": 8,
   "id": "1bbe0fb8",
   "metadata": {},
   "outputs": [
    {
     "data": {
      "text/plain": [
       "'This is an animal.'"
      ]
     },
     "execution_count": 8,
     "metadata": {},
     "output_type": "execute_result"
    }
   ],
   "source": [
    "#A simple demonstrating multiple inheritance\n",
    "class Animal:#Base class 1\n",
    "    def test1(self):\n",
    "        return 'This is an animal.' \n",
    "    \n",
    "class Pet:#Base class 2\n",
    "    def test2(self):\n",
    "        return 'This is a pet animal.'\n",
    "    \n",
    "class Dog(Animal,Pet):#derived class\n",
    "    def test3(self):\n",
    "        return 'I am a dog.'\n",
    "    \n",
    "#creating the derived class object\n",
    "dog_obj=Dog()\n",
    "\n",
    "dog_obj.test1()"
   ]
  },
  {
   "cell_type": "code",
   "execution_count": 9,
   "id": "46714c1b",
   "metadata": {},
   "outputs": [
    {
     "data": {
      "text/plain": [
       "'This is a pet animal.'"
      ]
     },
     "execution_count": 9,
     "metadata": {},
     "output_type": "execute_result"
    }
   ],
   "source": [
    "dog_obj.test2()"
   ]
  },
  {
   "cell_type": "code",
   "execution_count": 10,
   "id": "6d14fda7",
   "metadata": {},
   "outputs": [
    {
     "data": {
      "text/plain": [
       "'I am a dog.'"
      ]
     },
     "execution_count": 10,
     "metadata": {},
     "output_type": "execute_result"
    }
   ],
   "source": [
    "dog_obj.test3()"
   ]
  },
  {
   "cell_type": "markdown",
   "id": "5692dc8e",
   "metadata": {},
   "source": [
    "#### Q4. What are getter and setter in python? Create a class and create a getter and a setter method in this class."
   ]
  },
  {
   "cell_type": "markdown",
   "id": "b90cefcf",
   "metadata": {},
   "source": [
    "Getters: These are the methods used in Object-Oriented Programming (OOPS) which helps to access the private attributes from a class.\n",
    "\n",
    "Setters: These are the methods used in OOPS feature which helps to set the value to private attributes in a class.\n",
    "\n",
    "They are used are the property decorator."
   ]
  },
  {
   "cell_type": "code",
   "execution_count": 11,
   "id": "b26ca08e",
   "metadata": {},
   "outputs": [],
   "source": [
    "#creating a class named DSA\n",
    "class DSA:\n",
    "    #defining the constructor which will take three args\n",
    "    def __init__(self,name,number,course):\n",
    "        self.__name=name#private variabe\n",
    "        self.number=number#public variable\n",
    "        self.__course=course#private variable\n",
    "     \n",
    "    #property decorator used to access the course name everywhere\n",
    "    @property\n",
    "    def access_course(self):\n",
    "        return self.__course\n",
    "        \n",
    "    #using the setter to change the course name by an outsider apart from the user/creator\n",
    "    @access_course.setter\n",
    "    def set_course(self,new_course_name):\n",
    "        if new_course_name!='DSA':\n",
    "            self.__course=new_course_name\n",
    "    \n",
    "    #using the getter method for the outsider to access the course\n",
    "    @access_course.getter\n",
    "    def get_course(self):\n",
    "        return self.__course\n",
    "        \n",
    "    "
   ]
  },
  {
   "cell_type": "code",
   "execution_count": 12,
   "id": "6c359497",
   "metadata": {},
   "outputs": [],
   "source": [
    "#creating the object of the class DSA\n",
    "dsa_obj=DSA('Jasna',9495242412,'DSA')"
   ]
  },
  {
   "cell_type": "code",
   "execution_count": 13,
   "id": "1ae34231",
   "metadata": {},
   "outputs": [
    {
     "ename": "AttributeError",
     "evalue": "'DSA' object has no attribute 'name'",
     "output_type": "error",
     "traceback": [
      "\u001b[1;31m---------------------------------------------------------------------------\u001b[0m",
      "\u001b[1;31mAttributeError\u001b[0m                            Traceback (most recent call last)",
      "Input \u001b[1;32mIn [13]\u001b[0m, in \u001b[0;36m<cell line: 2>\u001b[1;34m()\u001b[0m\n\u001b[0;32m      1\u001b[0m \u001b[38;5;66;03m#trying to acces the private variable name\u001b[39;00m\n\u001b[1;32m----> 2\u001b[0m \u001b[43mdsa_obj\u001b[49m\u001b[38;5;241;43m.\u001b[39;49m\u001b[43mname\u001b[49m\n",
      "\u001b[1;31mAttributeError\u001b[0m: 'DSA' object has no attribute 'name'"
     ]
    }
   ],
   "source": [
    "#trying to acces the private variable name\n",
    "dsa_obj.name"
   ]
  },
  {
   "cell_type": "code",
   "execution_count": 14,
   "id": "5ee0417b",
   "metadata": {},
   "outputs": [
    {
     "data": {
      "text/plain": [
       "9495242412"
      ]
     },
     "execution_count": 14,
     "metadata": {},
     "output_type": "execute_result"
    }
   ],
   "source": [
    "#accessing the public varibale number\n",
    "dsa_obj.number"
   ]
  },
  {
   "cell_type": "code",
   "execution_count": 15,
   "id": "344863b3",
   "metadata": {},
   "outputs": [
    {
     "ename": "AttributeError",
     "evalue": "'DSA' object has no attribute 'course'",
     "output_type": "error",
     "traceback": [
      "\u001b[1;31m---------------------------------------------------------------------------\u001b[0m",
      "\u001b[1;31mAttributeError\u001b[0m                            Traceback (most recent call last)",
      "Input \u001b[1;32mIn [15]\u001b[0m, in \u001b[0;36m<cell line: 2>\u001b[1;34m()\u001b[0m\n\u001b[0;32m      1\u001b[0m \u001b[38;5;66;03m#trying to acces the private variable course\u001b[39;00m\n\u001b[1;32m----> 2\u001b[0m \u001b[43mdsa_obj\u001b[49m\u001b[38;5;241;43m.\u001b[39;49m\u001b[43mcourse\u001b[49m\n",
      "\u001b[1;31mAttributeError\u001b[0m: 'DSA' object has no attribute 'course'"
     ]
    }
   ],
   "source": [
    "#trying to acces the private variable course\n",
    "dsa_obj.course"
   ]
  },
  {
   "cell_type": "code",
   "execution_count": 16,
   "id": "6496fc2a",
   "metadata": {},
   "outputs": [
    {
     "data": {
      "text/plain": [
       "'DSA'"
      ]
     },
     "execution_count": 16,
     "metadata": {},
     "output_type": "execute_result"
    }
   ],
   "source": [
    "#accessing the private variable using _class__variable,possible only by the creator\n",
    "dsa_obj._DSA__course"
   ]
  },
  {
   "cell_type": "code",
   "execution_count": 17,
   "id": "3177371f",
   "metadata": {},
   "outputs": [
    {
     "data": {
      "text/plain": [
       "'DSA'"
      ]
     },
     "execution_count": 17,
     "metadata": {},
     "output_type": "execute_result"
    }
   ],
   "source": [
    "#accessing the course name through the function\n",
    "dsa_obj.access_course"
   ]
  },
  {
   "cell_type": "code",
   "execution_count": 18,
   "id": "1a1164ca",
   "metadata": {},
   "outputs": [],
   "source": [
    "#trying to set new course name as DSA itself\n",
    "dsa_obj.set_course='DSA'"
   ]
  },
  {
   "cell_type": "code",
   "execution_count": 19,
   "id": "99517eb8",
   "metadata": {},
   "outputs": [
    {
     "data": {
      "text/plain": [
       "'DSA'"
      ]
     },
     "execution_count": 19,
     "metadata": {},
     "output_type": "execute_result"
    }
   ],
   "source": [
    "#checking the course change and sees remains the same\n",
    "dsa_obj.get_course"
   ]
  },
  {
   "cell_type": "code",
   "execution_count": 20,
   "id": "76dae110",
   "metadata": {},
   "outputs": [],
   "source": [
    "#setting a new course name\n",
    "dsa_obj.set_course='Java'"
   ]
  },
  {
   "cell_type": "code",
   "execution_count": 21,
   "id": "db327d47",
   "metadata": {},
   "outputs": [
    {
     "data": {
      "text/plain": [
       "'Java'"
      ]
     },
     "execution_count": 21,
     "metadata": {},
     "output_type": "execute_result"
    }
   ],
   "source": [
    "#confirming the change of course through get\n",
    "dsa_obj.get_course"
   ]
  },
  {
   "cell_type": "markdown",
   "id": "04bec7c1",
   "metadata": {},
   "source": [
    "#### Q5.What is method overriding in python? Write a python code to demonstrate method overriding."
   ]
  },
  {
   "cell_type": "markdown",
   "id": "2994ad0d",
   "metadata": {},
   "source": [
    "\n",
    "Method overriding in Python is when you have two methods with the same name that each perform different tasks. This is an important feature of inheritance in Python.\n",
    "\n",
    "In method overriding, the child class can change its functions that are defined by its ancestral classes. In other words, the child class has access to the properties and functions of the parent class method while also extending additional functions of its own to the method. If a method in a superclass coincides with that of a subclass, then the subclass is said to override the superclass."
   ]
  },
  {
   "cell_type": "markdown",
   "id": "7b5c2c54",
   "metadata": {},
   "source": [
    "There are two prerequisite conditions for Method overriding:\n",
    "\n",
    "Inheritance should be present in the code, method overriding cannot be performed in the same class, and overriding can only be executed when a child class is derived through inheritance.\n",
    "\n",
    "The child class should have the same name and the same number of parameters as the parent class"
   ]
  },
  {
   "cell_type": "code",
   "execution_count": 22,
   "id": "05b124a4",
   "metadata": {},
   "outputs": [
    {
     "name": "stdout",
     "output_type": "stream",
     "text": [
      "The method Walk here is overridden in the code\n",
      "Hello, I am the child class\n"
     ]
    }
   ],
   "source": [
    "class Animal:\n",
    "    def Walk(self):\n",
    "        print('Hello, I am the parent class')\n",
    "\n",
    "class Dog(Animal):\n",
    "    def Walk(self):\n",
    "        print('Hello, I am the child class')\n",
    "        \n",
    "print('The method Walk here is overridden in the code')\n",
    "\n",
    "#Invoking Child class through object r\n",
    "\n",
    "r = Dog()\n",
    "r.Walk()\n",
    "\n"
   ]
  },
  {
   "cell_type": "code",
   "execution_count": 23,
   "id": "d283df11",
   "metadata": {},
   "outputs": [
    {
     "name": "stdout",
     "output_type": "stream",
     "text": [
      "Hello, I am the parent class\n"
     ]
    }
   ],
   "source": [
    "#Invoking Parent class through object r\n",
    "\n",
    "r = Animal()\n",
    "r.Walk()"
   ]
  },
  {
   "cell_type": "code",
   "execution_count": null,
   "id": "decdb009",
   "metadata": {},
   "outputs": [],
   "source": []
  }
 ],
 "metadata": {
  "kernelspec": {
   "display_name": "Python 3 (ipykernel)",
   "language": "python",
   "name": "python3"
  },
  "language_info": {
   "codemirror_mode": {
    "name": "ipython",
    "version": 3
   },
   "file_extension": ".py",
   "mimetype": "text/x-python",
   "name": "python",
   "nbconvert_exporter": "python",
   "pygments_lexer": "ipython3",
   "version": "3.9.12"
  }
 },
 "nbformat": 4,
 "nbformat_minor": 5
}
